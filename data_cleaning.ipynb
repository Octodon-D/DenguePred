{
 "cells": [
  {
   "cell_type": "markdown",
   "id": "aa425403",
   "metadata": {},
   "source": [
    "## Setup"
   ]
  },
  {
   "cell_type": "code",
   "execution_count": 1,
   "id": "5eb5a9d5",
   "metadata": {},
   "outputs": [],
   "source": [
    "# Loading packages and their components\n",
    "import pandas as pd\n",
    "import numpy as np\n",
    "import pickle\n",
    "# Setting Pandas options\n",
    "pd.options.display.max_rows = 999 # For debugging, can be removed later\n",
    "pd.options.mode.chained_assignment = None  # Disabling the pandas chained assignment warnings"
   ]
  },
  {
   "cell_type": "code",
   "execution_count": 11,
   "id": "da98ba42-4230-409e-9d55-c35fe852d7b2",
   "metadata": {},
   "outputs": [],
   "source": [
    "def import_and_preproc():\n",
    "    # Read in the data\n",
    "    dengue_features_train = pd.read_csv('data/dengue_features_train.csv')\n",
    "    dengue_features_test = pd.read_csv('data/dengue_features_test.csv')\n",
    "    dengue_labels_train = pd.read_csv('data/dengue_labels_train.csv')\n",
    "\n",
    "    raw_data = [dengue_features_train, dengue_features_test, dengue_labels_train]\n",
    "    \n",
    "    # Splitting the data into a San Juan and an Iquitos part\n",
    "    iq = []\n",
    "    sj = []\n",
    "    for item in raw_data:\n",
    "        sj.append( item[item.city=='sj'] )\n",
    "        iq.append( item[item.city=='iq'] )\n",
    "\n",
    "    # Transferring the date column to the label part of the data\n",
    "    sj[2] = sj[2].join(sj[0]['week_start_date'])\n",
    "    iq[2] = iq[2].join(iq[0]['week_start_date'])\n",
    "\n",
    "    # Converting the date column to datetime format\n",
    "    for i in range(len(sj)):\n",
    "        sj[i]['week_start_date'] = pd.to_datetime(sj[i]['week_start_date'], format='%Y-%m-%d')  \n",
    "        iq[i]['week_start_date'] = pd.to_datetime(iq[i]['week_start_date'], format='%Y-%m-%d')\n",
    "        \n",
    "    # Putting the date as index\n",
    "    for i in range(len(sj)):\n",
    "        sj[i] = sj[i].set_index('week_start_date', drop=True)\n",
    "        iq[i] = iq[i].set_index('week_start_date', drop=True)\n",
    "        \n",
    "    return list([sj[0], sj[1], sj[2], iq[0], iq[1], iq[2]])\n",
    "\n",
    "data_subsets = import_and_preproc()"
   ]
  },
  {
   "cell_type": "markdown",
   "id": "77ed9a32-f01d-4745-9570-84423667c1e1",
   "metadata": {},
   "source": [
    "## Missing value imputation\n",
    "Since the environmental values for each week are assumed to follow seasonal patterns, they can not be simply replaced with the mean over the entire study. Intstead, missing values in these variables can be replaced with the mean value of the week before and after, or the week before and after that has no missing values."
   ]
  },
  {
   "cell_type": "code",
   "execution_count": 12,
   "id": "245e01cc-daa9-4d64-a3ad-3cbddc99d6a4",
   "metadata": {},
   "outputs": [],
   "source": [
    "environmental_vars = [\n",
    "    'ndvi_ne',\n",
    "    'ndvi_nw',\n",
    "    'ndvi_se', \n",
    "    'ndvi_sw',\n",
    "    'precipitation_amt_mm',\n",
    "    'reanalysis_air_temp_k',\n",
    "    'reanalysis_avg_temp_k',\n",
    "    'reanalysis_dew_point_temp_k',\n",
    "    'reanalysis_max_air_temp_k',\n",
    "    'reanalysis_min_air_temp_k',\n",
    "    'reanalysis_precip_amt_kg_per_m2',\n",
    "    'reanalysis_relative_humidity_percent',\n",
    "    'reanalysis_sat_precip_amt_mm',\n",
    "    'reanalysis_specific_humidity_g_per_kg',\n",
    "    'reanalysis_tdtr_k',\n",
    "    'station_avg_temp_c',\n",
    "    'station_diur_temp_rng_c',\n",
    "    'station_max_temp_c',\n",
    "    'station_min_temp_c',\n",
    "    'station_precip_mm'\n",
    "                     ]"
   ]
  },
  {
   "cell_type": "code",
   "execution_count": 13,
   "id": "549e93fa-420f-460b-8caa-d7331e5efe2e",
   "metadata": {},
   "outputs": [],
   "source": [
    "def replace_missing(df, colnames):\n",
    "    # Store the time index because the code below is index based and needs numbers\n",
    "    date = df.index\n",
    "    df = df.reset_index(drop=True)\n",
    "    for colname in colnames:\n",
    "        try: # because there are columns that do not occur in all subsets of the dataset\n",
    "            miss_idx = df[df[colname].isnull()].index.tolist()\n",
    "            for idx in miss_idx:\n",
    "                    # Search the nearest week before the week with the missing value\n",
    "                    # that itself has no missing value\n",
    "                    before = df.iloc[:idx,:][colname].dropna().tail(1)\n",
    "                    # The same but for the weeks after the missing value\n",
    "                    after = df.iloc[idx:,:][colname].dropna().head(1)\n",
    "                    # Replace the missing value with the mean\n",
    "                    df[colname][idx] = np.mean([before, after])\n",
    "        except:\n",
    "            continue\n",
    "    # Re-attach the time index and drop the auxiliary index\n",
    "    df = df.set_index(date, drop=True)\n",
    "    return df"
   ]
  },
  {
   "cell_type": "code",
   "execution_count": 14,
   "id": "0c08d5dd-3cb3-4f4a-a7eb-759954d74b76",
   "metadata": {},
   "outputs": [
    {
     "data": {
      "text/plain": [
       "<enumerate at 0x7ff36eb23200>"
      ]
     },
     "execution_count": 14,
     "metadata": {},
     "output_type": "execute_result"
    }
   ],
   "source": [
    "enumerate(data_subsets)"
   ]
  },
  {
   "cell_type": "code",
   "execution_count": 15,
   "id": "e52d304a-58cf-4169-a159-b7de6c484657",
   "metadata": {},
   "outputs": [],
   "source": [
    "# Applying the Imputation\n",
    "for i in range(len(data_subsets)):\n",
    "    data_subsets[i] = replace_missing(data_subsets[i], environmental_vars)"
   ]
  },
  {
   "cell_type": "markdown",
   "id": "5a81ab32-e91a-48a3-a52f-10b4356fb6e8",
   "metadata": {},
   "source": [
    "Check if there are still variables with missing values in our dataset."
   ]
  },
  {
   "cell_type": "code",
   "execution_count": 16,
   "id": "f13f323c-a388-4e7f-8210-e175c9542c79",
   "metadata": {
    "tags": []
   },
   "outputs": [
    {
     "name": "stdout",
     "output_type": "stream",
     "text": [
      "city                                     0\n",
      "year                                     0\n",
      "weekofyear                               0\n",
      "ndvi_ne                                  0\n",
      "ndvi_nw                                  0\n",
      "ndvi_se                                  0\n",
      "ndvi_sw                                  0\n",
      "precipitation_amt_mm                     0\n",
      "reanalysis_air_temp_k                    0\n",
      "reanalysis_avg_temp_k                    0\n",
      "reanalysis_dew_point_temp_k              0\n",
      "reanalysis_max_air_temp_k                0\n",
      "reanalysis_min_air_temp_k                0\n",
      "reanalysis_precip_amt_kg_per_m2          0\n",
      "reanalysis_relative_humidity_percent     0\n",
      "reanalysis_sat_precip_amt_mm             0\n",
      "reanalysis_specific_humidity_g_per_kg    0\n",
      "reanalysis_tdtr_k                        0\n",
      "station_avg_temp_c                       0\n",
      "station_diur_temp_rng_c                  0\n",
      "station_max_temp_c                       0\n",
      "station_min_temp_c                       0\n",
      "station_precip_mm                        0\n",
      "dtype: int64\n",
      "------------------------------\n",
      "city                                     0\n",
      "year                                     0\n",
      "weekofyear                               0\n",
      "ndvi_ne                                  0\n",
      "ndvi_nw                                  0\n",
      "ndvi_se                                  0\n",
      "ndvi_sw                                  0\n",
      "precipitation_amt_mm                     0\n",
      "reanalysis_air_temp_k                    0\n",
      "reanalysis_avg_temp_k                    0\n",
      "reanalysis_dew_point_temp_k              0\n",
      "reanalysis_max_air_temp_k                0\n",
      "reanalysis_min_air_temp_k                0\n",
      "reanalysis_precip_amt_kg_per_m2          0\n",
      "reanalysis_relative_humidity_percent     0\n",
      "reanalysis_sat_precip_amt_mm             0\n",
      "reanalysis_specific_humidity_g_per_kg    0\n",
      "reanalysis_tdtr_k                        0\n",
      "station_avg_temp_c                       0\n",
      "station_diur_temp_rng_c                  0\n",
      "station_max_temp_c                       0\n",
      "station_min_temp_c                       0\n",
      "station_precip_mm                        0\n",
      "dtype: int64\n",
      "------------------------------\n",
      "city           0\n",
      "year           0\n",
      "weekofyear     0\n",
      "total_cases    0\n",
      "dtype: int64\n",
      "------------------------------\n",
      "city                                     0\n",
      "year                                     0\n",
      "weekofyear                               0\n",
      "ndvi_ne                                  0\n",
      "ndvi_nw                                  0\n",
      "ndvi_se                                  0\n",
      "ndvi_sw                                  0\n",
      "precipitation_amt_mm                     0\n",
      "reanalysis_air_temp_k                    0\n",
      "reanalysis_avg_temp_k                    0\n",
      "reanalysis_dew_point_temp_k              0\n",
      "reanalysis_max_air_temp_k                0\n",
      "reanalysis_min_air_temp_k                0\n",
      "reanalysis_precip_amt_kg_per_m2          0\n",
      "reanalysis_relative_humidity_percent     0\n",
      "reanalysis_sat_precip_amt_mm             0\n",
      "reanalysis_specific_humidity_g_per_kg    0\n",
      "reanalysis_tdtr_k                        0\n",
      "station_avg_temp_c                       0\n",
      "station_diur_temp_rng_c                  0\n",
      "station_max_temp_c                       0\n",
      "station_min_temp_c                       0\n",
      "station_precip_mm                        0\n",
      "dtype: int64\n",
      "------------------------------\n",
      "city                                     0\n",
      "year                                     0\n",
      "weekofyear                               0\n",
      "ndvi_ne                                  0\n",
      "ndvi_nw                                  0\n",
      "ndvi_se                                  0\n",
      "ndvi_sw                                  0\n",
      "precipitation_amt_mm                     0\n",
      "reanalysis_air_temp_k                    0\n",
      "reanalysis_avg_temp_k                    0\n",
      "reanalysis_dew_point_temp_k              0\n",
      "reanalysis_max_air_temp_k                0\n",
      "reanalysis_min_air_temp_k                0\n",
      "reanalysis_precip_amt_kg_per_m2          0\n",
      "reanalysis_relative_humidity_percent     0\n",
      "reanalysis_sat_precip_amt_mm             0\n",
      "reanalysis_specific_humidity_g_per_kg    0\n",
      "reanalysis_tdtr_k                        0\n",
      "station_avg_temp_c                       0\n",
      "station_diur_temp_rng_c                  0\n",
      "station_max_temp_c                       0\n",
      "station_min_temp_c                       0\n",
      "station_precip_mm                        0\n",
      "dtype: int64\n",
      "------------------------------\n",
      "city           0\n",
      "year           0\n",
      "weekofyear     0\n",
      "total_cases    0\n",
      "dtype: int64\n",
      "------------------------------\n"
     ]
    }
   ],
   "source": [
    "# Check if there are still variables with missing values in our dataset.\n",
    "for data_subset in data_subsets:\n",
    "    print(data_subset.isnull().sum())\n",
    "    print('---'*10)"
   ]
  },
  {
   "cell_type": "code",
   "execution_count": 17,
   "id": "e6ea56e9-2000-4213-ae50-ab2a8f1b6edd",
   "metadata": {},
   "outputs": [],
   "source": [
    "pickle.dump(data_subsets, open('cleaned_data.pickle', 'wb'))"
   ]
  },
  {
   "cell_type": "code",
   "execution_count": 18,
   "id": "ccd676c5-19b6-4cab-a940-cd2dd83b63e7",
   "metadata": {},
   "outputs": [],
   "source": [
    "# Splitting the data into their parts\n",
    "sj_features_train, \\\n",
    "sj_features_test, \\\n",
    "sj_labels_train, \\\n",
    "iq_features_train, \\\n",
    "iq_features_test, \\\n",
    "iq_labels_train = data_subsets"
   ]
  },
  {
   "cell_type": "code",
   "execution_count": null,
   "id": "382b8b37-18f2-416d-8efc-4b743c668ee6",
   "metadata": {},
   "outputs": [],
   "source": []
  }
 ],
 "metadata": {
  "kernelspec": {
   "display_name": "Python 3 (ipykernel)",
   "language": "python",
   "name": "python3"
  },
  "language_info": {
   "codemirror_mode": {
    "name": "ipython",
    "version": 3
   },
   "file_extension": ".py",
   "mimetype": "text/x-python",
   "name": "python",
   "nbconvert_exporter": "python",
   "pygments_lexer": "ipython3",
   "version": "3.8.5"
  }
 },
 "nbformat": 4,
 "nbformat_minor": 5
}
