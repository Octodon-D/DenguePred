{
 "cells": [
  {
   "cell_type": "markdown",
   "id": "65f3b94d",
   "metadata": {},
   "source": [
    "## Setup"
   ]
  },
  {
   "cell_type": "code",
   "execution_count": 1,
   "id": "431b65fe",
   "metadata": {},
   "outputs": [],
   "source": [
    "# Loading packages and their components\n",
    "import pandas as pd\n",
    "import numpy as np\n",
    "import pickle\n",
    "\n",
    "from own_functions import train_test_timesplit\n",
    "\n",
    "# Setting Pandas options\n",
    "# pd.options.display.max_rows = 999 # For debugging, can be removed later\n",
    "pd.options.mode.chained_assignment = None  # Disabling the pandas chained assignment warnings"
   ]
  },
  {
   "cell_type": "code",
   "execution_count": 2,
   "id": "979d40a6",
   "metadata": {},
   "outputs": [],
   "source": [
    "def import_and_preproc():\n",
    "    # Read in the data\n",
    "    dengue_features_train = pd.read_csv('data/dengue_features_train.csv')\n",
    "    dengue_features_test = pd.read_csv('data/dengue_features_test.csv')\n",
    "    dengue_labels_train = pd.read_csv('data/dengue_labels_train.csv')\n",
    "\n",
    "    raw_data = [dengue_features_train, dengue_features_test, dengue_labels_train]\n",
    "    \n",
    "    # Splitting the data into a San Juan and an Iquitos part\n",
    "    iq = []\n",
    "    sj = []\n",
    "    for item in raw_data:\n",
    "        sj.append( item[item.city=='sj'] )\n",
    "        iq.append( item[item.city=='iq'] )\n",
    "\n",
    "    # Transferring the date column to the label part of the data\n",
    "    sj[2] = sj[2].join(sj[0]['week_start_date'])\n",
    "    iq[2] = iq[2].join(iq[0]['week_start_date'])\n",
    "\n",
    "    # Converting the date column to datetime format\n",
    "    for i in range(len(sj)):\n",
    "        sj[i]['week_start_date'] = pd.to_datetime(sj[i]['week_start_date'], format='%Y-%m-%d')  \n",
    "        iq[i]['week_start_date'] = pd.to_datetime(iq[i]['week_start_date'], format='%Y-%m-%d')\n",
    "        \n",
    "    # Putting the date as index\n",
    "    for i in range(len(sj)):\n",
    "        sj[i] = sj[i].set_index('week_start_date', drop=False)\n",
    "        iq[i] = iq[i].set_index('week_start_date', drop=False)\n",
    "        \n",
    "    return list([sj[0], sj[1], sj[2], iq[0], iq[1], iq[2]])\n",
    "\n",
    "data_subsets = import_and_preproc()"
   ]
  },
  {
   "cell_type": "markdown",
   "id": "0197017c",
   "metadata": {},
   "source": [
    "## Features in the dataset\n",
    "City and date indicators\n",
    "* `city` – City abbreviations: `sj` for San Juan and `iq` for Iquitos\n",
    "* `week_start_date` – Date given in yyyy-mm-dd format\n",
    "\n",
    "NOAA's GHCN daily climate data weather station measurements\n",
    "* `station_max_temp_c` – Maximum temperature\n",
    "* `station_min_temp_c` – Minimum temperature\n",
    "* `station_avg_temp_c` – Average temperature\n",
    "* `station_precip_mm` – Total precipitation\n",
    "* `station_diur_temp_rng_c` – Diurnal temperature range\n",
    "\n",
    "PERSIANN satellite precipitation measurements (0.25x0.25 degree scale)\n",
    "* `precipitation_amt_mm` – Total precipitation\n",
    "\n",
    "NOAA's NCEP Climate Forecast System Reanalysis measurements (0.5x0.5 degree scale)\n",
    "* `reanalysis_air_temp_k` – Mean air temperature\n",
    "* `reanalysis_relative_humidity_percen` – Mean relative humidity\n",
    "* `reanalysis_specific_humidity_g_per_kg` – Mean specific humidity\n",
    "* `reanalysis_precip_amt_kg_per_mm` – Total precipitation\n",
    "* `reanalysis_max_air_temp_k` – Maximum air temperature\n",
    "* `reanalysis_min_air_temp_k` – Minimum air temperature\n",
    "* `reanalysis_avg_temp_k` – Average air temperature\n",
    "* `reanalysis_tdtr_k` – Diurnal temperature range\n",
    "\n",
    "Satellite vegetation - Normalized difference vegetation index (NDVI) - NOAA's CDR Normalized Difference Vegetation Index (0.5x0.5 degree scale) measurements\n",
    "* `ndvi_se` – Pixel southeast of city centroid\n",
    "* `ndvi_sw` – Pixel southwest of city centroid\n",
    "* `ndvi_ne` – Pixel northeast of city centroid\n",
    "* `ndvi_nw` – Pixel northwest of city centroid"
   ]
  },
  {
   "cell_type": "markdown",
   "id": "d7e552b4",
   "metadata": {},
   "source": [
    "## Missing value imputation\n",
    "Since the environmental values for each week are assumed to follow seasonal patterns, they can not be simply replaced with the mean over the entire study. Intstead, missing values in these variables can be replaced with the mean value of the week before and after, or the week before and after that has no missing values."
   ]
  },
  {
   "cell_type": "code",
   "execution_count": 3,
   "id": "97c3fd53",
   "metadata": {},
   "outputs": [],
   "source": [
    "environmental_vars = [\n",
    "    'ndvi_ne',\n",
    "    'ndvi_nw',\n",
    "    'ndvi_se', \n",
    "    'ndvi_sw',\n",
    "    'precipitation_amt_mm',\n",
    "    'reanalysis_air_temp_k',\n",
    "    'reanalysis_avg_temp_k',\n",
    "    'reanalysis_dew_point_temp_k',\n",
    "    'reanalysis_max_air_temp_k',\n",
    "    'reanalysis_min_air_temp_k',\n",
    "    'reanalysis_precip_amt_kg_per_m2',\n",
    "    'reanalysis_relative_humidity_percent',\n",
    "    'reanalysis_sat_precip_amt_mm',\n",
    "    'reanalysis_specific_humidity_g_per_kg',\n",
    "    'reanalysis_tdtr_k',\n",
    "    'station_avg_temp_c',\n",
    "    'station_diur_temp_rng_c',\n",
    "    'station_max_temp_c',\n",
    "    'station_min_temp_c',\n",
    "    'station_precip_mm'\n",
    "]"
   ]
  },
  {
   "cell_type": "code",
   "execution_count": 4,
   "id": "99bf0f74",
   "metadata": {},
   "outputs": [],
   "source": [
    "def replace_missing(df, colnames):\n",
    "    # Store the time index because the code below is index based and needs numbers\n",
    "    date = df.index\n",
    "    df = df.reset_index(drop=True)\n",
    "    for colname in colnames:\n",
    "        try: # because there are columns that do not occur in all subsets of the dataset\n",
    "            miss_idx = df[df[colname].isnull()].index.tolist()\n",
    "            for idx in miss_idx:\n",
    "                    # Search the nearest week before the week with the missing value\n",
    "                    # that itself has no missing value\n",
    "                    before = df.iloc[:idx,:][colname].dropna().tail(1)\n",
    "                    # The same but for the weeks after the missing value\n",
    "                    after = df.iloc[idx:,:][colname].dropna().head(1)\n",
    "                    # Replace the missing value with the mean\n",
    "                    df[colname][idx] = np.mean([before, after])\n",
    "        except:\n",
    "            continue\n",
    "    # Re-attach the time index and drop the auxiliary index\n",
    "    df = df.set_index(date, drop=True)\n",
    "    return df"
   ]
  },
  {
   "cell_type": "code",
   "execution_count": 5,
   "id": "381249e6",
   "metadata": {},
   "outputs": [],
   "source": [
    "# Applying the Imputation\n",
    "for i in range(len(data_subsets)):\n",
    "    data_subsets[i] = replace_missing(data_subsets[i], environmental_vars)"
   ]
  },
  {
   "cell_type": "markdown",
   "id": "693a7eba",
   "metadata": {},
   "source": [
    "Check if there are still variables with missing values in our dataset."
   ]
  },
  {
   "cell_type": "code",
   "execution_count": 6,
   "id": "ff31df01",
   "metadata": {
    "tags": []
   },
   "outputs": [
    {
     "name": "stdout",
     "output_type": "stream",
     "text": [
      "city                                     0\n",
      "year                                     0\n",
      "weekofyear                               0\n",
      "week_start_date                          0\n",
      "ndvi_ne                                  0\n",
      "ndvi_nw                                  0\n",
      "ndvi_se                                  0\n",
      "ndvi_sw                                  0\n",
      "precipitation_amt_mm                     0\n",
      "reanalysis_air_temp_k                    0\n",
      "reanalysis_avg_temp_k                    0\n",
      "reanalysis_dew_point_temp_k              0\n",
      "reanalysis_max_air_temp_k                0\n",
      "reanalysis_min_air_temp_k                0\n",
      "reanalysis_precip_amt_kg_per_m2          0\n",
      "reanalysis_relative_humidity_percent     0\n",
      "reanalysis_sat_precip_amt_mm             0\n",
      "reanalysis_specific_humidity_g_per_kg    0\n",
      "reanalysis_tdtr_k                        0\n",
      "station_avg_temp_c                       0\n",
      "station_diur_temp_rng_c                  0\n",
      "station_max_temp_c                       0\n",
      "station_min_temp_c                       0\n",
      "station_precip_mm                        0\n",
      "dtype: int64\n",
      "------------------------------\n",
      "city                                     0\n",
      "year                                     0\n",
      "weekofyear                               0\n",
      "week_start_date                          0\n",
      "ndvi_ne                                  0\n",
      "ndvi_nw                                  0\n",
      "ndvi_se                                  0\n",
      "ndvi_sw                                  0\n",
      "precipitation_amt_mm                     0\n",
      "reanalysis_air_temp_k                    0\n",
      "reanalysis_avg_temp_k                    0\n",
      "reanalysis_dew_point_temp_k              0\n",
      "reanalysis_max_air_temp_k                0\n",
      "reanalysis_min_air_temp_k                0\n",
      "reanalysis_precip_amt_kg_per_m2          0\n",
      "reanalysis_relative_humidity_percent     0\n",
      "reanalysis_sat_precip_amt_mm             0\n",
      "reanalysis_specific_humidity_g_per_kg    0\n",
      "reanalysis_tdtr_k                        0\n",
      "station_avg_temp_c                       0\n",
      "station_diur_temp_rng_c                  0\n",
      "station_max_temp_c                       0\n",
      "station_min_temp_c                       0\n",
      "station_precip_mm                        0\n",
      "dtype: int64\n",
      "------------------------------\n",
      "city               0\n",
      "year               0\n",
      "weekofyear         0\n",
      "total_cases        0\n",
      "week_start_date    0\n",
      "dtype: int64\n",
      "------------------------------\n",
      "city                                     0\n",
      "year                                     0\n",
      "weekofyear                               0\n",
      "week_start_date                          0\n",
      "ndvi_ne                                  0\n",
      "ndvi_nw                                  0\n",
      "ndvi_se                                  0\n",
      "ndvi_sw                                  0\n",
      "precipitation_amt_mm                     0\n",
      "reanalysis_air_temp_k                    0\n",
      "reanalysis_avg_temp_k                    0\n",
      "reanalysis_dew_point_temp_k              0\n",
      "reanalysis_max_air_temp_k                0\n",
      "reanalysis_min_air_temp_k                0\n",
      "reanalysis_precip_amt_kg_per_m2          0\n",
      "reanalysis_relative_humidity_percent     0\n",
      "reanalysis_sat_precip_amt_mm             0\n",
      "reanalysis_specific_humidity_g_per_kg    0\n",
      "reanalysis_tdtr_k                        0\n",
      "station_avg_temp_c                       0\n",
      "station_diur_temp_rng_c                  0\n",
      "station_max_temp_c                       0\n",
      "station_min_temp_c                       0\n",
      "station_precip_mm                        0\n",
      "dtype: int64\n",
      "------------------------------\n",
      "city                                     0\n",
      "year                                     0\n",
      "weekofyear                               0\n",
      "week_start_date                          0\n",
      "ndvi_ne                                  0\n",
      "ndvi_nw                                  0\n",
      "ndvi_se                                  0\n",
      "ndvi_sw                                  0\n",
      "precipitation_amt_mm                     0\n",
      "reanalysis_air_temp_k                    0\n",
      "reanalysis_avg_temp_k                    0\n",
      "reanalysis_dew_point_temp_k              0\n",
      "reanalysis_max_air_temp_k                0\n",
      "reanalysis_min_air_temp_k                0\n",
      "reanalysis_precip_amt_kg_per_m2          0\n",
      "reanalysis_relative_humidity_percent     0\n",
      "reanalysis_sat_precip_amt_mm             0\n",
      "reanalysis_specific_humidity_g_per_kg    0\n",
      "reanalysis_tdtr_k                        0\n",
      "station_avg_temp_c                       0\n",
      "station_diur_temp_rng_c                  0\n",
      "station_max_temp_c                       0\n",
      "station_min_temp_c                       0\n",
      "station_precip_mm                        0\n",
      "dtype: int64\n",
      "------------------------------\n",
      "city               0\n",
      "year               0\n",
      "weekofyear         0\n",
      "total_cases        0\n",
      "week_start_date    0\n",
      "dtype: int64\n",
      "------------------------------\n"
     ]
    }
   ],
   "source": [
    "# Check if there are still variables with missing values in our dataset.\n",
    "for subset in data_subsets:\n",
    "    print(subset.isnull().sum())\n",
    "    print('---'*10)"
   ]
  },
  {
   "cell_type": "markdown",
   "id": "36b41b1e",
   "metadata": {
    "tags": []
   },
   "source": [
    "## Feature editing\n",
    "The temperature features from the NCEP Climate Forecast System Reanalysis and those of the weather station are in different units. To have the temperature features in the same units as those of the NCEP Climate Forecast System, the Reanalysis variables will be converted to degrees Celsius. For uniformity, the diurnal temperature range is converted from Celsius to Kelvin, as differences in temperature are expressed in Kelvin. Furthermore, the feature `precipitation_amt_mm` is removed as its values are identical to those of `reanalysis_precip_amt_kg_per_mm`. "
   ]
  },
  {
   "cell_type": "code",
   "execution_count": 7,
   "id": "7e11251f",
   "metadata": {},
   "outputs": [
    {
     "name": "stdout",
     "output_type": "stream",
     "text": [
      "                 reanalysis_sat_precip_amt_mm  precipitation_amt_mm\n",
      "week_start_date                                                    \n",
      "2002-07-16                              58.06                 58.06\n",
      "1997-08-13                              57.65                 57.65\n",
      "1994-06-04                               6.59                  6.59\n",
      "2005-07-30                              64.25                 64.25\n",
      "2006-10-22                              64.15                 64.15\n",
      "                 reanalysis_sat_precip_amt_mm  precipitation_amt_mm\n",
      "week_start_date                                                    \n",
      "2009-06-04                              19.06                 19.06\n",
      "2008-12-09                               0.00                  0.00\n",
      "2008-09-30                              54.96                 54.96\n",
      "2010-01-01                               0.00                  0.00\n",
      "2012-12-09                               3.08                  3.08\n",
      "                 reanalysis_sat_precip_amt_mm  precipitation_amt_mm\n",
      "week_start_date                                                    \n",
      "2002-12-24                             151.73                151.73\n",
      "2000-07-01                              25.41                 25.41\n",
      "2006-07-16                               1.17                  1.17\n",
      "2005-04-16                              40.03                 40.03\n",
      "2000-09-23                              97.55                 97.55\n",
      "                 reanalysis_sat_precip_amt_mm  precipitation_amt_mm\n",
      "week_start_date                                                    \n",
      "2010-11-26                              43.51                 43.51\n",
      "2012-08-26                              37.47                 37.47\n",
      "2011-06-25                              59.54                 59.54\n",
      "2012-03-25                              68.24                 68.24\n",
      "2011-03-05                              42.18                 42.18\n"
     ]
    }
   ],
   "source": [
    "# compare 'reanalysis_sat_precip_amt_mm' and 'precipitation_amt_mm'\n",
    "for i in range(len(data_subsets)):\n",
    "    if data_subsets[i].shape[1] > 5:\n",
    "        print(data_subsets[i][['reanalysis_sat_precip_amt_mm', 'precipitation_amt_mm']].sample(5))"
   ]
  },
  {
   "cell_type": "code",
   "execution_count": 8,
   "id": "6b3f2b19",
   "metadata": {},
   "outputs": [],
   "source": [
    "# apply unit conversion, renaming and dropping \n",
    "for i in range(len(data_subsets)):\n",
    "    if data_subsets[i].shape[1] > 5:\n",
    "        data_subsets[i] = (\n",
    "            data_subsets[i]\n",
    "            .assign(month = lambda df: df.index.month)\n",
    "            .assign(reanalysis_air_temp_c = lambda df: df['reanalysis_air_temp_k']-273.15)\n",
    "            .assign(reanalysis_avg_temp_c = lambda df: df['reanalysis_avg_temp_k']-273.15)\n",
    "            .assign(reanalysis_dew_point_temp_c = lambda df: df['reanalysis_dew_point_temp_k']-273.15)\n",
    "            .assign(reanalysis_max_air_temp_c = lambda df: df['reanalysis_max_air_temp_k']-273.15)\n",
    "            .assign(reanalysis_min_air_temp_c = lambda df: df['reanalysis_min_air_temp_k']-273.15)\n",
    "            .rename(columns={'station_diur_temp_rng_c': 'station_diur_temp_rng_k'})\n",
    "            .drop(['reanalysis_air_temp_k','reanalysis_avg_temp_k', 'reanalysis_dew_point_temp_k', 'reanalysis_max_air_temp_k',\n",
    "                   'reanalysis_min_air_temp_k','precipitation_amt_mm'], axis=1)\n",
    "        )"
   ]
  },
  {
   "cell_type": "markdown",
   "id": "010ba71a",
   "metadata": {},
   "source": [
    "## Adding the population data\n",
    "\n",
    "This additional data is available from the Dengue Forecasting [website](https://dengueforecasting.noaa.gov/), from which the data provided by DrivenData originates."
   ]
  },
  {
   "cell_type": "code",
   "execution_count": 9,
   "id": "58a81c58",
   "metadata": {},
   "outputs": [],
   "source": [
    "# import the population data for sj and iq\n",
    "def load_pop(filename):\n",
    "    ser = (\n",
    "        pd.read_csv(filename)\n",
    "        .assign(year = lambda df: df.Year) # to have a same-name column with the other dataframes\n",
    "        .assign(Year = lambda df: pd.to_datetime(df.Year, format='%Y'))\n",
    "        .set_index('Year', drop=True)\n",
    "    )\n",
    "    return ser\n",
    "sj_pop = load_pop('data/San_Juan_Population_Data.csv')\n",
    "iq_pop = load_pop('data/Iquitos_Population_Data.csv')"
   ]
  },
  {
   "cell_type": "code",
   "execution_count": 10,
   "id": "2fe59f08",
   "metadata": {
    "tags": []
   },
   "outputs": [],
   "source": [
    "def merge_pop(df, pop):\n",
    "    merged = pd.merge(df, pop, how='left', on='year')\n",
    "    merged = merged.rename(columns={'Estimated_population': 'population'})\n",
    "    merged = merged.set_index('week_start_date', drop=True)\n",
    "    merged.population = merged.population.interpolate().round().astype(int)\n",
    "    return merged"
   ]
  },
  {
   "cell_type": "code",
   "execution_count": 11,
   "id": "9accef33",
   "metadata": {},
   "outputs": [
    {
     "data": {
      "text/html": [
       "<div>\n",
       "<style scoped>\n",
       "    .dataframe tbody tr th:only-of-type {\n",
       "        vertical-align: middle;\n",
       "    }\n",
       "\n",
       "    .dataframe tbody tr th {\n",
       "        vertical-align: top;\n",
       "    }\n",
       "\n",
       "    .dataframe thead th {\n",
       "        text-align: right;\n",
       "    }\n",
       "</style>\n",
       "<table border=\"1\" class=\"dataframe\">\n",
       "  <thead>\n",
       "    <tr style=\"text-align: right;\">\n",
       "      <th></th>\n",
       "      <th>city</th>\n",
       "      <th>year</th>\n",
       "      <th>weekofyear</th>\n",
       "      <th>total_cases</th>\n",
       "      <th>week_start_date</th>\n",
       "    </tr>\n",
       "    <tr>\n",
       "      <th>week_start_date</th>\n",
       "      <th></th>\n",
       "      <th></th>\n",
       "      <th></th>\n",
       "      <th></th>\n",
       "      <th></th>\n",
       "    </tr>\n",
       "  </thead>\n",
       "  <tbody>\n",
       "    <tr>\n",
       "      <th>1990-04-30</th>\n",
       "      <td>sj</td>\n",
       "      <td>1990</td>\n",
       "      <td>18</td>\n",
       "      <td>4</td>\n",
       "      <td>1990-04-30</td>\n",
       "    </tr>\n",
       "    <tr>\n",
       "      <th>1990-05-07</th>\n",
       "      <td>sj</td>\n",
       "      <td>1990</td>\n",
       "      <td>19</td>\n",
       "      <td>5</td>\n",
       "      <td>1990-05-07</td>\n",
       "    </tr>\n",
       "    <tr>\n",
       "      <th>1990-05-14</th>\n",
       "      <td>sj</td>\n",
       "      <td>1990</td>\n",
       "      <td>20</td>\n",
       "      <td>4</td>\n",
       "      <td>1990-05-14</td>\n",
       "    </tr>\n",
       "    <tr>\n",
       "      <th>1990-05-21</th>\n",
       "      <td>sj</td>\n",
       "      <td>1990</td>\n",
       "      <td>21</td>\n",
       "      <td>3</td>\n",
       "      <td>1990-05-21</td>\n",
       "    </tr>\n",
       "    <tr>\n",
       "      <th>1990-05-28</th>\n",
       "      <td>sj</td>\n",
       "      <td>1990</td>\n",
       "      <td>22</td>\n",
       "      <td>6</td>\n",
       "      <td>1990-05-28</td>\n",
       "    </tr>\n",
       "  </tbody>\n",
       "</table>\n",
       "</div>"
      ],
      "text/plain": [
       "                city  year  weekofyear  total_cases week_start_date\n",
       "week_start_date                                                    \n",
       "1990-04-30        sj  1990          18            4      1990-04-30\n",
       "1990-05-07        sj  1990          19            5      1990-05-07\n",
       "1990-05-14        sj  1990          20            4      1990-05-14\n",
       "1990-05-21        sj  1990          21            3      1990-05-21\n",
       "1990-05-28        sj  1990          22            6      1990-05-28"
      ]
     },
     "execution_count": 11,
     "metadata": {},
     "output_type": "execute_result"
    }
   ],
   "source": [
    "data_subsets[2].head()"
   ]
  },
  {
   "cell_type": "code",
   "execution_count": 12,
   "id": "69ec7bce",
   "metadata": {},
   "outputs": [],
   "source": [
    "data_subsets[0] = merge_pop(data_subsets[0], sj_pop)\n",
    "data_subsets[1] = merge_pop(data_subsets[1], sj_pop)\n",
    "data_subsets[2] = data_subsets[2].set_index('week_start_date', drop=True)\n",
    "data_subsets[3] = merge_pop(data_subsets[3], iq_pop)\n",
    "data_subsets[4] = merge_pop(data_subsets[4], iq_pop)\n",
    "data_subsets[5] = data_subsets[5].set_index('week_start_date', drop=True)"
   ]
  },
  {
   "cell_type": "code",
   "execution_count": 32,
   "id": "0da1cc59",
   "metadata": {},
   "outputs": [],
   "source": [
    "# add week_start_date as seperate column to both test datasets (sj_test and iq_test)\n",
    "data_subsets[1]['week_start_date'] = data_subsets[1].index\n",
    "data_subsets[4]['week_start_date'] = data_subsets[4].index"
   ]
  },
  {
   "cell_type": "code",
   "execution_count": 34,
   "id": "38e6a396",
   "metadata": {},
   "outputs": [],
   "source": [
    "# Splitting the data into their parts\n",
    "sj_features_train, \\\n",
    "sj_test, \\\n",
    "sj_labels_train, \\\n",
    "iq_features_train, \\\n",
    "iq_test, \\\n",
    "iq_labels_train = data_subsets"
   ]
  },
  {
   "cell_type": "code",
   "execution_count": 35,
   "id": "8e46c529",
   "metadata": {
    "tags": []
   },
   "outputs": [],
   "source": [
    "pickle.dump(data_subsets, open('cleaned_data.pickle', 'wb'))"
   ]
  },
  {
   "cell_type": "markdown",
   "id": "6254110f",
   "metadata": {},
   "source": [
    "## Train test split\n",
    "To evaluate forecasting models, a train and a seperate test dataset (with actual values for the number of cases) is needed. Therefore the given \"train\" datasets for both cities is split into a `train_train` (75% of the data) and a `train_test` (25% of the data) set. \n",
    "\n",
    "#### Exclude data before 2002 from Iquitos\n",
    "The total number of cases form Iquitos only contain single values. After 01.01.2002 the total number of cases increases clearly, probably due to a difference in the reposting system or counting system. Consequently the values before 2002 will be excluded from the dataset used for modeling."
   ]
  },
  {
   "cell_type": "code",
   "execution_count": 36,
   "id": "f360d307",
   "metadata": {},
   "outputs": [],
   "source": [
    "# remove entries in IQ data until 2002 (data excluded from modeling)\n",
    "data_subsets[3] = data_subsets[3]['2002':]\n",
    "data_subsets[5] = data_subsets[5]['2002':]"
   ]
  },
  {
   "cell_type": "code",
   "execution_count": 37,
   "id": "f21b8a28",
   "metadata": {},
   "outputs": [],
   "source": [
    "# split given data (features and label) into test and train datasets\n",
    "def split_dataset(data_subsets):\n",
    "    data_subsets_splitted = []\n",
    "    for i in [0, 2, 3, 5]:\n",
    "        train, test = train_test_timesplit(data_subsets[i])\n",
    "        data_subsets_splitted.append(train)\n",
    "        data_subsets_splitted.append(test)\n",
    "    return data_subsets_splitted\n",
    "\n",
    "data_subsets_splitted = split_dataset(data_subsets)"
   ]
  },
  {
   "cell_type": "code",
   "execution_count": 38,
   "id": "c2d185e7",
   "metadata": {},
   "outputs": [],
   "source": [
    "# splitting the data into their parts\n",
    "sj_features_train_train, \\\n",
    "sj_features_train_test, \\\n",
    "sj_labels_train_train, \\\n",
    "sj_labels_train_test, \\\n",
    "iq_features_train_train, \\\n",
    "iq_features_train_test, \\\n",
    "iq_labels_train_train, \\\n",
    "iq_labels_train_test = data_subsets_splitted"
   ]
  },
  {
   "cell_type": "markdown",
   "id": "86db3a77",
   "metadata": {},
   "source": [
    "Combine data for one `train_train` and `train_test` set for each city"
   ]
  },
  {
   "cell_type": "code",
   "execution_count": 39,
   "id": "ddd194cb",
   "metadata": {},
   "outputs": [],
   "source": [
    "# join feature and label dataset\n",
    "sj_train_train = sj_features_train_train.join(sj_labels_train_train['total_cases'])\n",
    "sj_train_test = sj_features_train_test.join(sj_labels_train_test['total_cases'])\n",
    "iq_train_train = iq_features_train_train.join(iq_labels_train_train['total_cases'])\n",
    "iq_train_test = iq_features_train_test.join(iq_labels_train_test['total_cases'])\n",
    "\n",
    "# combine all six datasets (train_train, train_test and test)\n",
    "data_subsets_splitted_joined = [sj_train_train, sj_train_test, sj_test, iq_train_train, iq_train_test, iq_test]"
   ]
  },
  {
   "cell_type": "code",
   "execution_count": 40,
   "id": "d9beed28",
   "metadata": {},
   "outputs": [],
   "source": [
    "# save the splitted data subsets in a pickle\n",
    "pickle.dump(data_subsets_splitted_joined, open('splitted_joined_data.pickle', 'wb'))"
   ]
  },
  {
   "cell_type": "code",
   "execution_count": null,
   "id": "9dac68b7",
   "metadata": {},
   "outputs": [],
   "source": []
  }
 ],
 "metadata": {
  "kernelspec": {
   "display_name": "Python 3 (ipykernel)",
   "language": "python",
   "name": "python3"
  },
  "language_info": {
   "codemirror_mode": {
    "name": "ipython",
    "version": 3
   },
   "file_extension": ".py",
   "mimetype": "text/x-python",
   "name": "python",
   "nbconvert_exporter": "python",
   "pygments_lexer": "ipython3",
   "version": "3.8.5"
  }
 },
 "nbformat": 4,
 "nbformat_minor": 5
}
