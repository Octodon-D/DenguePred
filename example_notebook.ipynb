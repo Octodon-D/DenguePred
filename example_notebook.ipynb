{
 "cells": [
  {
   "cell_type": "markdown",
   "id": "5e27d7aa-2348-4e92-b3cd-ab6f22dd86ef",
   "metadata": {},
   "source": [
    "## Setup"
   ]
  },
  {
   "cell_type": "code",
   "execution_count": 1,
   "id": "d1be4f13-20ba-4551-a80d-ef90cd31df5f",
   "metadata": {},
   "outputs": [],
   "source": [
    "# Loading packages and their components\n",
    "import pandas as pd\n",
    "import numpy as np\n",
    "import pickle\n",
    "\n",
    "import seaborn as sns\n",
    "import matplotlib.pyplot as plt"
   ]
  },
  {
   "cell_type": "code",
   "execution_count": 20,
   "id": "454847ef-d626-44b4-b0e4-2896dd34143f",
   "metadata": {},
   "outputs": [],
   "source": [
    "# Matplotlib configuration\n",
    "plt.rcParams['figure.figsize'] = [10, 5]"
   ]
  },
  {
   "cell_type": "markdown",
   "id": "ed6c5d55-afa0-45af-80d6-d1f7f240d718",
   "metadata": {},
   "source": [
    "## Loading the data"
   ]
  },
  {
   "cell_type": "code",
   "execution_count": 21,
   "id": "b9dbfb39-eae8-4237-8ffc-03ee01a4e749",
   "metadata": {},
   "outputs": [],
   "source": [
    "data_subsets = pickle.load(open('cleaned_data.pickle', 'rb'))"
   ]
  },
  {
   "cell_type": "code",
   "execution_count": 46,
   "id": "178344a9-30a1-44c6-b97d-7f66b62224a7",
   "metadata": {},
   "outputs": [],
   "source": [
    "# Splitting the data into their parts\n",
    "sj_features_train, \\\n",
    "sj_features_test, \\\n",
    "sj_labels_train, \\\n",
    "iq_features_train, \\\n",
    "iq_features_test, \\\n",
    "iq_labels_train = data_subsets"
   ]
  },
  {
   "cell_type": "code",
   "execution_count": 47,
   "id": "01e19262-3c70-4619-bd01-a16650a0b1e5",
   "metadata": {},
   "outputs": [
    {
     "data": {
      "text/plain": [
       "str"
      ]
     },
     "execution_count": 47,
     "metadata": {},
     "output_type": "execute_result"
    }
   ],
   "source": [
    "type('jjjk')"
   ]
  },
  {
   "cell_type": "code",
   "execution_count": 52,
   "id": "ad9dce3a-51ba-4ef7-9ec8-7cef8b8923d5",
   "metadata": {},
   "outputs": [],
   "source": [
    "def rem_col(df, col):\n",
    "    '''\n",
    "    Removes one column from a dataframe.\n",
    "    '''\n",
    "    return df.loc[:,~df.columns.str.contains(col)]"
   ]
  },
  {
   "cell_type": "code",
   "execution_count": 57,
   "id": "873e93fb-fdd4-4713-938a-2d71d7a19d52",
   "metadata": {},
   "outputs": [],
   "source": [
    "def rem_cols(df, cols):\n",
    "    '''\n",
    "    Removes multiple columns from a dataframe.\n",
    "    '''\n",
    "    for colname in cols:\n",
    "        df = df.loc[:,~df.columns.str.contains(colname)]\n",
    "    return df"
   ]
  },
  {
   "cell_type": "code",
   "execution_count": 61,
   "id": "bc6a191c-e01b-4b39-bf6f-9499b5ab9bdf",
   "metadata": {
    "tags": []
   },
   "outputs": [
    {
     "data": {
      "text/html": [
       "<div>\n",
       "<style scoped>\n",
       "    .dataframe tbody tr th:only-of-type {\n",
       "        vertical-align: middle;\n",
       "    }\n",
       "\n",
       "    .dataframe tbody tr th {\n",
       "        vertical-align: top;\n",
       "    }\n",
       "\n",
       "    .dataframe thead th {\n",
       "        text-align: right;\n",
       "    }\n",
       "</style>\n",
       "<table border=\"1\" class=\"dataframe\">\n",
       "  <thead>\n",
       "    <tr style=\"text-align: right;\">\n",
       "      <th></th>\n",
       "      <th>year</th>\n",
       "      <th>weekofyear</th>\n",
       "      <th>ndvi_ne</th>\n",
       "      <th>ndvi_nw</th>\n",
       "      <th>ndvi_se</th>\n",
       "      <th>ndvi_sw</th>\n",
       "      <th>precipitation_amt_mm</th>\n",
       "      <th>reanalysis_air_temp_k</th>\n",
       "      <th>reanalysis_avg_temp_k</th>\n",
       "      <th>reanalysis_dew_point_temp_k</th>\n",
       "      <th>...</th>\n",
       "      <th>reanalysis_relative_humidity_percent</th>\n",
       "      <th>reanalysis_sat_precip_amt_mm</th>\n",
       "      <th>reanalysis_specific_humidity_g_per_kg</th>\n",
       "      <th>reanalysis_tdtr_k</th>\n",
       "      <th>station_avg_temp_c</th>\n",
       "      <th>station_diur_temp_rng_c</th>\n",
       "      <th>station_max_temp_c</th>\n",
       "      <th>station_min_temp_c</th>\n",
       "      <th>station_precip_mm</th>\n",
       "      <th>total_cases</th>\n",
       "    </tr>\n",
       "    <tr>\n",
       "      <th>week_start_date</th>\n",
       "      <th></th>\n",
       "      <th></th>\n",
       "      <th></th>\n",
       "      <th></th>\n",
       "      <th></th>\n",
       "      <th></th>\n",
       "      <th></th>\n",
       "      <th></th>\n",
       "      <th></th>\n",
       "      <th></th>\n",
       "      <th></th>\n",
       "      <th></th>\n",
       "      <th></th>\n",
       "      <th></th>\n",
       "      <th></th>\n",
       "      <th></th>\n",
       "      <th></th>\n",
       "      <th></th>\n",
       "      <th></th>\n",
       "      <th></th>\n",
       "      <th></th>\n",
       "    </tr>\n",
       "  </thead>\n",
       "  <tbody>\n",
       "    <tr>\n",
       "      <th>1990-04-30</th>\n",
       "      <td>1990</td>\n",
       "      <td>18</td>\n",
       "      <td>0.122600</td>\n",
       "      <td>0.103725</td>\n",
       "      <td>0.198483</td>\n",
       "      <td>0.177617</td>\n",
       "      <td>12.42</td>\n",
       "      <td>297.572857</td>\n",
       "      <td>297.742857</td>\n",
       "      <td>292.414286</td>\n",
       "      <td>...</td>\n",
       "      <td>73.365714</td>\n",
       "      <td>12.42</td>\n",
       "      <td>14.012857</td>\n",
       "      <td>2.628571</td>\n",
       "      <td>25.442857</td>\n",
       "      <td>6.900000</td>\n",
       "      <td>29.4</td>\n",
       "      <td>20.0</td>\n",
       "      <td>16.0</td>\n",
       "      <td>4</td>\n",
       "    </tr>\n",
       "    <tr>\n",
       "      <th>1990-05-07</th>\n",
       "      <td>1990</td>\n",
       "      <td>19</td>\n",
       "      <td>0.169900</td>\n",
       "      <td>0.142175</td>\n",
       "      <td>0.162357</td>\n",
       "      <td>0.155486</td>\n",
       "      <td>22.82</td>\n",
       "      <td>298.211429</td>\n",
       "      <td>298.442857</td>\n",
       "      <td>293.951429</td>\n",
       "      <td>...</td>\n",
       "      <td>77.368571</td>\n",
       "      <td>22.82</td>\n",
       "      <td>15.372857</td>\n",
       "      <td>2.371429</td>\n",
       "      <td>26.714286</td>\n",
       "      <td>6.371429</td>\n",
       "      <td>31.7</td>\n",
       "      <td>22.2</td>\n",
       "      <td>8.6</td>\n",
       "      <td>5</td>\n",
       "    </tr>\n",
       "    <tr>\n",
       "      <th>1990-05-14</th>\n",
       "      <td>1990</td>\n",
       "      <td>20</td>\n",
       "      <td>0.032250</td>\n",
       "      <td>0.172967</td>\n",
       "      <td>0.157200</td>\n",
       "      <td>0.170843</td>\n",
       "      <td>34.54</td>\n",
       "      <td>298.781429</td>\n",
       "      <td>298.878571</td>\n",
       "      <td>295.434286</td>\n",
       "      <td>...</td>\n",
       "      <td>82.052857</td>\n",
       "      <td>34.54</td>\n",
       "      <td>16.848571</td>\n",
       "      <td>2.300000</td>\n",
       "      <td>26.714286</td>\n",
       "      <td>6.485714</td>\n",
       "      <td>32.2</td>\n",
       "      <td>22.8</td>\n",
       "      <td>41.4</td>\n",
       "      <td>4</td>\n",
       "    </tr>\n",
       "    <tr>\n",
       "      <th>1990-05-21</th>\n",
       "      <td>1990</td>\n",
       "      <td>21</td>\n",
       "      <td>0.128633</td>\n",
       "      <td>0.245067</td>\n",
       "      <td>0.227557</td>\n",
       "      <td>0.235886</td>\n",
       "      <td>15.36</td>\n",
       "      <td>298.987143</td>\n",
       "      <td>299.228571</td>\n",
       "      <td>295.310000</td>\n",
       "      <td>...</td>\n",
       "      <td>80.337143</td>\n",
       "      <td>15.36</td>\n",
       "      <td>16.672857</td>\n",
       "      <td>2.428571</td>\n",
       "      <td>27.471429</td>\n",
       "      <td>6.771429</td>\n",
       "      <td>33.3</td>\n",
       "      <td>23.3</td>\n",
       "      <td>4.0</td>\n",
       "      <td>3</td>\n",
       "    </tr>\n",
       "    <tr>\n",
       "      <th>1990-05-28</th>\n",
       "      <td>1990</td>\n",
       "      <td>22</td>\n",
       "      <td>0.196200</td>\n",
       "      <td>0.262200</td>\n",
       "      <td>0.251200</td>\n",
       "      <td>0.247340</td>\n",
       "      <td>7.52</td>\n",
       "      <td>299.518571</td>\n",
       "      <td>299.664286</td>\n",
       "      <td>295.821429</td>\n",
       "      <td>...</td>\n",
       "      <td>80.460000</td>\n",
       "      <td>7.52</td>\n",
       "      <td>17.210000</td>\n",
       "      <td>3.014286</td>\n",
       "      <td>28.942857</td>\n",
       "      <td>9.371429</td>\n",
       "      <td>35.0</td>\n",
       "      <td>23.9</td>\n",
       "      <td>5.8</td>\n",
       "      <td>6</td>\n",
       "    </tr>\n",
       "  </tbody>\n",
       "</table>\n",
       "<p>5 rows × 23 columns</p>\n",
       "</div>"
      ],
      "text/plain": [
       "                 year  weekofyear   ndvi_ne   ndvi_nw   ndvi_se   ndvi_sw  \\\n",
       "week_start_date                                                             \n",
       "1990-04-30       1990          18  0.122600  0.103725  0.198483  0.177617   \n",
       "1990-05-07       1990          19  0.169900  0.142175  0.162357  0.155486   \n",
       "1990-05-14       1990          20  0.032250  0.172967  0.157200  0.170843   \n",
       "1990-05-21       1990          21  0.128633  0.245067  0.227557  0.235886   \n",
       "1990-05-28       1990          22  0.196200  0.262200  0.251200  0.247340   \n",
       "\n",
       "                 precipitation_amt_mm  reanalysis_air_temp_k  \\\n",
       "week_start_date                                                \n",
       "1990-04-30                      12.42             297.572857   \n",
       "1990-05-07                      22.82             298.211429   \n",
       "1990-05-14                      34.54             298.781429   \n",
       "1990-05-21                      15.36             298.987143   \n",
       "1990-05-28                       7.52             299.518571   \n",
       "\n",
       "                 reanalysis_avg_temp_k  reanalysis_dew_point_temp_k  ...  \\\n",
       "week_start_date                                                      ...   \n",
       "1990-04-30                  297.742857                   292.414286  ...   \n",
       "1990-05-07                  298.442857                   293.951429  ...   \n",
       "1990-05-14                  298.878571                   295.434286  ...   \n",
       "1990-05-21                  299.228571                   295.310000  ...   \n",
       "1990-05-28                  299.664286                   295.821429  ...   \n",
       "\n",
       "                 reanalysis_relative_humidity_percent  \\\n",
       "week_start_date                                         \n",
       "1990-04-30                                  73.365714   \n",
       "1990-05-07                                  77.368571   \n",
       "1990-05-14                                  82.052857   \n",
       "1990-05-21                                  80.337143   \n",
       "1990-05-28                                  80.460000   \n",
       "\n",
       "                 reanalysis_sat_precip_amt_mm  \\\n",
       "week_start_date                                 \n",
       "1990-04-30                              12.42   \n",
       "1990-05-07                              22.82   \n",
       "1990-05-14                              34.54   \n",
       "1990-05-21                              15.36   \n",
       "1990-05-28                               7.52   \n",
       "\n",
       "                 reanalysis_specific_humidity_g_per_kg  reanalysis_tdtr_k  \\\n",
       "week_start_date                                                             \n",
       "1990-04-30                                   14.012857           2.628571   \n",
       "1990-05-07                                   15.372857           2.371429   \n",
       "1990-05-14                                   16.848571           2.300000   \n",
       "1990-05-21                                   16.672857           2.428571   \n",
       "1990-05-28                                   17.210000           3.014286   \n",
       "\n",
       "                 station_avg_temp_c  station_diur_temp_rng_c  \\\n",
       "week_start_date                                                \n",
       "1990-04-30                25.442857                 6.900000   \n",
       "1990-05-07                26.714286                 6.371429   \n",
       "1990-05-14                26.714286                 6.485714   \n",
       "1990-05-21                27.471429                 6.771429   \n",
       "1990-05-28                28.942857                 9.371429   \n",
       "\n",
       "                 station_max_temp_c  station_min_temp_c  station_precip_mm  \\\n",
       "week_start_date                                                              \n",
       "1990-04-30                     29.4                20.0               16.0   \n",
       "1990-05-07                     31.7                22.2                8.6   \n",
       "1990-05-14                     32.2                22.8               41.4   \n",
       "1990-05-21                     33.3                23.3                4.0   \n",
       "1990-05-28                     35.0                23.9                5.8   \n",
       "\n",
       "                 total_cases  \n",
       "week_start_date               \n",
       "1990-04-30                 4  \n",
       "1990-05-07                 5  \n",
       "1990-05-14                 4  \n",
       "1990-05-21                 3  \n",
       "1990-05-28                 6  \n",
       "\n",
       "[5 rows x 23 columns]"
      ]
     },
     "execution_count": 61,
     "metadata": {},
     "output_type": "execute_result"
    }
   ],
   "source": [
    "# For the exploratory part\n",
    "(\n",
    "# sj_train = \n",
    "    sj_features_train.join(sj_labels_train, rsuffix='_drop')\n",
    "    .pipe(rem_col, '_drop')\n",
    "    .pipe(pd.DataFrame.drop, 'city', axis=1)\n",
    "    .head()\n",
    ")      "
   ]
  },
  {
   "cell_type": "code",
   "execution_count": 43,
   "id": "8b981124-5e8b-4ec2-8f3b-f82257daa7b8",
   "metadata": {},
   "outputs": [
    {
     "data": {
      "image/png": "[encoded data removed]",
      "text/plain": [
       "<Figure size 720x360 with 1 Axes>"
      ]
     },
     "metadata": {
      "needs_background": "light"
     },
     "output_type": "display_data"
    }
   ],
   "source": [
    "sns.lineplot(data=sj_features_train.join(sj_labels_train, rsuffix='_dupl'),\n",
    "             x='week_start_date', \n",
    "             y='total_cases');"
   ]
  },
  {
   "cell_type": "code",
   "execution_count": 62,
   "id": "9b0d0880-4bb7-475d-9eda-2504d3ebd104",
   "metadata": {},
   "outputs": [
    {
     "data": {
      "image/png": "[encoded data removed]",
      "text/plain": [
       "<Figure size 720x360 with 1 Axes>"
      ]
     },
     "metadata": {
      "needs_background": "light"
     },
     "output_type": "display_data"
    }
   ],
   "source": [
    "sj_labels_train.total_cases.plot();"
   ]
  },
  {
   "cell_type": "code",
   "execution_count": null,
   "id": "28ae57ad-0520-4386-a4af-635402049c2d",
   "metadata": {},
   "outputs": [],
   "source": []
  }
 ],
 "metadata": {
  "kernelspec": {
   "display_name": "Python 3 (ipykernel)",
   "language": "python",
   "name": "python3"
  },
  "language_info": {
   "codemirror_mode": {
    "name": "ipython",
    "version": 3
   },
   "file_extension": ".py",
   "mimetype": "text/x-python",
   "name": "python",
   "nbconvert_exporter": "python",
   "pygments_lexer": "ipython3",
   "version": "3.8.5"
  }
 },
 "nbformat": 4,
 "nbformat_minor": 5
}
