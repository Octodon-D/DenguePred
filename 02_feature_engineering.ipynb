{
 "cells": [
  {
   "cell_type": "markdown",
   "id": "febb1074",
   "metadata": {},
   "source": [
    "# Feature engineering\n",
    "## Setup"
   ]
  },
  {
   "cell_type": "code",
   "execution_count": 16,
   "id": "5c8a43a7",
   "metadata": {
    "tags": []
   },
   "outputs": [],
   "source": [
    "# Loading packages and their components\n",
    "import pandas as pd\n",
    "import numpy as np\n",
    "import pickle\n",
    "\n",
    "import seaborn as sns\n",
    "import matplotlib.pyplot as plt"
   ]
  },
  {
   "cell_type": "code",
   "execution_count": 17,
   "id": "258db3d1",
   "metadata": {},
   "outputs": [],
   "source": [
    "pd.options.display.max_columns = None"
   ]
  },
  {
   "cell_type": "code",
   "execution_count": 18,
   "id": "a63a29ee",
   "metadata": {
    "tags": []
   },
   "outputs": [],
   "source": [
    "# Load data\n",
    "data_subsets_splitted_joined = pickle.load(open('splitted_joined_data.pickle', 'rb'))\n",
    "\n",
    "sj_train_train, \\\n",
    "sj_train_test, \\\n",
    "sj_test, \\\n",
    "iq_train_train, \\\n",
    "iq_train_test, \\\n",
    "iq_test = data_subsets_splitted_joined"
   ]
  },
  {
   "cell_type": "markdown",
   "id": "fe87b6ce",
   "metadata": {},
   "source": [
    "---\n",
    "## Features based on temperature functions \n",
    "The vital rates of mosquitos (main vector of dengue: Ae. aegypti) respond strongly and nonlinearly to temperature and therefore to climate change. We extracted the temperature dependent fuctions from the paper *\"Thermal biology of mosquito-borne disease\"* ([Mordecai et al. 2019](https://onlinelibrary.wiley.com/doi/full/10.1111/ele.13335)). All selected functions describe the temperature dependency of the main dengue vector *Ae. aegypti* (in context with dengue transmission).\n",
    "* `biting_rate` for the biting rate\n",
    "* `fecundity` for fecundity (measured as eggs per female per day)\n",
    "* `mdr`for mosquito development rate (MDR)\n",
    "* `immature_survival`for survival of immature stages (eggs, larvae and pupae)\n",
    "* `lifespan` for mosquito lifespan \n",
    "* `transmission_probability` for the probability of transmission\n",
    "* `infection_probability` for the probability of infection\n",
    "* `pdr`for parasite development rate (PDR)"
   ]
  },
  {
   "cell_type": "markdown",
   "id": "651a81bc",
   "metadata": {},
   "source": [
    "Setup of the two basic functions:\n",
    "$$Briere: q T(T-Tmin)(Tmax-T)^{1/2}$$\n",
    "$$Quadratic: -q(T-Tmin)(T-Tmax)$$"
   ]
  },
  {
   "cell_type": "code",
   "execution_count": 19,
   "id": "29b89581",
   "metadata": {
    "tags": []
   },
   "outputs": [],
   "source": [
    "# briere function: q*T*[T-Tmin]*[Tmax-T]^(1/2)\n",
    "def briere_function(q, T, Tmin, Tmax):\n",
    "    return (q*T*(T-Tmin)*(Tmax-T)**(1/2))\n",
    "\n",
    "# quadratic function: -q*[T-Tmin]*[T-Tmax]^(1/2)\n",
    "def quadratic_function(q, T, Tmin, Tmax):\n",
    "    return (-q*(T-Tmin)*(T-Tmax))"
   ]
  },
  {
   "cell_type": "markdown",
   "id": "6eb3d728",
   "metadata": {},
   "source": [
    "Apply the basic functions with specific parameters from the above mentioned paper for the eight different functions."
   ]
  },
  {
   "cell_type": "code",
   "execution_count": 20,
   "id": "cee0d46d",
   "metadata": {},
   "outputs": [],
   "source": [
    "# biting rate\n",
    "def biting_rate(T):\n",
    "    return briere_function(q=(2.02*(10**(-4))), T=T, Tmin=13.8, Tmax=40.0)\n",
    "\n",
    "# fecundity\n",
    "def fecundity(T):\n",
    "    return briere_function(q=(8.16*(10**(-3))), T=T, Tmin=14.7, Tmax=34.4)\n",
    "\n",
    "# Mosquito Dev. Rate (MDR)\n",
    "def mdr(T):\n",
    "    return briere_function(q=(7.83*(10**(-5))), T=T, Tmin=11.6, Tmax=39.1)\n",
    "\n",
    "# immature_survival\n",
    "def immature_survival(T):\n",
    "    return quadratic_function(q=(5.99*(10**(-3))), T=T, Tmin=13.6, Tmax=38.3)\n",
    "\n",
    "# lifespan\n",
    "def lifespan(T):\n",
    "    return quadratic_function(q=(1.44*(10**(-1))), T=T, Tmin=9, Tmax=37.7)\n",
    "\n",
    "# transmission probability (A. aegypti)\n",
    "def transmission_probability(T):\n",
    "    return briere_function(q=(8.33*(10**(-4))), T=T, Tmin=17.2, Tmax=35.8)\n",
    "\n",
    "# infection probability (A. aegypti)\n",
    "def infection_probability(T):\n",
    "    return briere_function(q=(4.88*(10**(-4))), T=T, Tmin=12.7, Tmax=37.4)\n",
    "\n",
    "# Mosquito Dev. Rate (MDR) \n",
    "def pdr(T):\n",
    "    return briere_function(q=(6.13*(10**(-5))), T=T, Tmin=10.3, Tmax=45.6)"
   ]
  },
  {
   "cell_type": "markdown",
   "id": "fe8d416b",
   "metadata": {},
   "source": [
    "---\n",
    "#### For visualization: Plot the graphs of the different functions\n",
    "For illustration the graphs of the different functions within the range of 5 - 50 °C are plotted."
   ]
  },
  {
   "cell_type": "code",
   "execution_count": 41,
   "id": "7f21e968",
   "metadata": {},
   "outputs": [],
   "source": [
    "# get the the results of the different functions for T from 5°C to 50°C \n",
    "biting_rate_plot = [biting_rate(i) for i in range(5, 51)]\n",
    "biting_rate_plot = pd.Series(biting_rate_plot).clip(lower=0)\n",
    "\n",
    "fecundity_plot_raw = [fecundity(i) for i in range(5, 51)]\n",
    "fecundity_plot_raw = pd.Series(fecundity_plot_raw).clip(lower=0)\n",
    "fecundity_plot = [i/fecundity_plot_raw.max() for i in fecundity_plot_raw]\n",
    "\n",
    "mdr_plot = [mdr(i) for i in range(5, 51)]\n",
    "mdr_plot = pd.Series(mdr_plot).clip(lower=0)\n",
    "\n",
    "immature_survival_plot = [immature_survival(i) for i in range(5, 51)]\n",
    "immature_survival_plot = pd.Series(immature_survival_plot).clip(lower=0)\n",
    "\n",
    "lifespan_plot_raw = [lifespan(i) for i in range(5, 51)]\n",
    "lifespan_plot_raw = pd.Series(lifespan_plot_raw).clip(lower=0)\n",
    "lifespan_plot = [i/lifespan_plot_raw.max() for i in lifespan_plot_raw]\n",
    "\n",
    "transmission_aegypti_plot = [transmission_probability(i) for i in range(5, 51)]\n",
    "transmission_aegypti_plot = pd.Series(transmission_aegypti_plot).clip(lower=0)\n",
    "\n",
    "infection_aegypti_plot = [infection_probability(i) for i in range(5, 51)]\n",
    "infection_aegypti_plot = pd.Series(infection_aegypti_plot).clip(lower=0)\n",
    "\n",
    "pdr_plot = [pdr(i) for i in range(5, 51)]\n",
    "pdr_plot = pd.Series(pdr_plot).clip(lower=0)"
   ]
  },
  {
   "cell_type": "code",
   "execution_count": 43,
   "id": "60bebf63",
   "metadata": {},
   "outputs": [
    {
     "data": {
      "image/png": "[encoded data removed]",
      "text/plain": [
       "<Figure size 432x252 with 1 Axes>"
      ]
     },
     "metadata": {
      "needs_background": "light"
     },
     "output_type": "display_data"
    }
   ],
   "source": [
    "# plot all max<1 together\n",
    "fig, ax = plt.subplots(figsize=(6, 3.5), tight_layout=True)\n",
    "\n",
    "ax.plot(biting_rate_plot, color='red');\n",
    "ax.plot(mdr_plot, color='black');\n",
    "ax.plot(immature_survival_plot, color='navy');\n",
    "ax.plot(transmission_aegypti_plot, color='gray');\n",
    "ax.plot(infection_aegypti_plot, color='darkorange');\n",
    "ax.plot(pdr_plot, color='violet');\n",
    "ax.plot(lifespan_plot, color='blue', linestyle=':');\n",
    "ax.plot(fecundity_plot, color='orange', linestyle=':');\n",
    "\n",
    "ax.set_ylabel('')\n",
    "ax.set_xlabel(r'Temperature [$^\\circ$C]', fontsize=12)\n",
    "ax.tick_params(labelsize=10)\n",
    "ax.legend(labels=['Biting rate', 'Mosquito Dev. Rate', 'Immature survival', 'Transmission probability', \n",
    "                  'Infection probability', 'Parasite Dev. Rate', 'Lifespan (rel.)', 'Fecundity (rel.)'], fontsize=10,\n",
    "             bbox_to_anchor=(1.05, 1), loc='upper left')\n",
    "\n",
    "fig.savefig('plots/T_functions.png', facecolor='white', dpi=300)"
   ]
  },
  {
   "cell_type": "markdown",
   "id": "0dde9ddb",
   "metadata": {},
   "source": [
    "---"
   ]
  },
  {
   "cell_type": "code",
   "execution_count": 6,
   "id": "c1d098ad",
   "metadata": {},
   "outputs": [],
   "source": [
    "def get_temperature_features(data_set, t_feat='reanalysis_air_temp_c'):\n",
    "    \"\"\"\n",
    "    Applies the different functions of a temperature variable on each dataframe in a dataset.\n",
    "    \n",
    "    ----------\n",
    "    Parameters\n",
    "    \n",
    "    data_set: list of dataframe\n",
    "    t_feat: string, column name of a temperature variable, the temperature functions should be applied on \n",
    "    \"\"\"\n",
    "    for i in range(len(data_set)):\n",
    "        data_set[i] = (\n",
    "            data_set[i]\n",
    "            .assign(biting_rate = lambda x: biting_rate(x[t_feat]))\n",
    "            .assign(fecundity = lambda x: fecundity(x[t_feat]))\n",
    "            .assign(mdr = lambda x: mdr(x[t_feat]))\n",
    "            .assign(immature_survival = lambda x: immature_survival(x[t_feat]))\n",
    "            .assign(lifespan = lambda x: lifespan(x[t_feat]))\n",
    "            .assign(transmission_probability = lambda x: transmission_probability(x[t_feat]))\n",
    "            .assign(infection_probability = lambda x: infection_probability(x[t_feat]))\n",
    "            .assign(pdr = lambda x: pdr(x[t_feat])) \n",
    "        )\n",
    "    return data_set"
   ]
  },
  {
   "cell_type": "code",
   "execution_count": 7,
   "id": "141a7647",
   "metadata": {},
   "outputs": [],
   "source": [
    "# apply function on data_subsets_splitted_joined to get temperature variables \n",
    "data_subsets_feat = get_temperature_features(data_subsets_splitted_joined)"
   ]
  },
  {
   "cell_type": "markdown",
   "id": "c0acc752",
   "metadata": {},
   "source": [
    "## Get cumulative precipitation variable\n",
    "Get a variables which describe the cumulative precipitation within the last two to six weeks. \n",
    "* `cum_precip_2w` for cumulative precipitation within the last two weeks\n",
    "* `cum_precip_3w` for cumulative precipitation within the last three weeks.\n",
    "* `cum_precip_4w` for cumulative precipitation within the last four weeks.\n",
    "* `cum_precip_5w` for cumulative precipitation within the last five weeks.\n",
    "* `cum_precip_6w` for cumulative precipitation within the last six weeks."
   ]
  },
  {
   "cell_type": "code",
   "execution_count": 8,
   "id": "586e3b8a",
   "metadata": {},
   "outputs": [],
   "source": [
    "def get_cumulative_precip(data_set, precip_feat='station_precip_mm'):\n",
    "    \"\"\"\n",
    "    Applies the different functions to get the cumulative precipitation for certain phases on each dataframe in a dataset.\n",
    "    \n",
    "    ----------\n",
    "    Parameters\n",
    "    \n",
    "    data_set: list of dataframe\n",
    "    precip_feat: string, column name of a precipitation variable, \n",
    "            the cumulative precipitation values should be based on \n",
    "    \"\"\"\n",
    "    for i in range(len(data_set)):\n",
    "        data_set[i] = (\n",
    "            data_set[i]\n",
    "            .assign(cum_precip_2w = lambda x: x[precip_feat].rolling(2).sum())\n",
    "            .assign(cum_precip_3w = lambda x: x[precip_feat].rolling(3).sum())\n",
    "            .assign(cum_precip_4w = lambda x: x[precip_feat].rolling(4).sum())\n",
    "            .assign(cum_precip_5w = lambda x: x[precip_feat].rolling(5).sum())\n",
    "            .assign(cum_precip_6w = lambda x: x[precip_feat].rolling(6).sum())\n",
    "        )\n",
    "    return data_set"
   ]
  },
  {
   "cell_type": "code",
   "execution_count": 9,
   "id": "553174f0",
   "metadata": {
    "tags": []
   },
   "outputs": [],
   "source": [
    "# apply function on data_subsets_splitted_joined to get temperature variables \n",
    "data_subsets_feat = get_cumulative_precip(data_subsets_feat)"
   ]
  },
  {
   "cell_type": "markdown",
   "id": "d7df0170",
   "metadata": {},
   "source": [
    "### Save feature engineered data subsets"
   ]
  },
  {
   "cell_type": "code",
   "execution_count": 10,
   "id": "c87ce268",
   "metadata": {},
   "outputs": [],
   "source": [
    "# save the gc_lagged data subsets in a pickle\n",
    "pickle.dump(data_subsets_feat, open('data_subsets_features.pickle', 'wb'))"
   ]
  },
  {
   "cell_type": "code",
   "execution_count": 11,
   "id": "d5ddc8e3",
   "metadata": {},
   "outputs": [],
   "source": [
    "# FOR LOADING\n",
    "#data_subsets_features = pickle.load(open('data_subsets_features.pickle', 'rb'))\n",
    "\n",
    "#sj_train_train_feat, \\\n",
    "#sj_train_test_feat, \\\n",
    "#iq_train_train_feat, \\\n",
    "#iq_train_test_feat = data_subsets_features"
   ]
  },
  {
   "cell_type": "markdown",
   "id": "3086f728",
   "metadata": {},
   "source": [
    "---\n",
    "## Adding lagged values\n",
    "For predictive modeling the previous values (lagged by a certain time interval) of certain variables are needed. Therefore, variables with the values from a previous phase / shifted values are included. They are denoted as the original feature name with a added `_lagX`, while the X is the number of the lag."
   ]
  },
  {
   "cell_type": "code",
   "execution_count": 12,
   "id": "bf8c7a3b",
   "metadata": {},
   "outputs": [],
   "source": [
    "def env_cols(df):\n",
    "    '''\n",
    "    Returns a list of only environmental variables (that can be lagged).\n",
    "    '''\n",
    "    cols = df.columns.to_list()\n",
    "    unwanted = ['week_start_date',\n",
    "                'city',\n",
    "                'year',\n",
    "                'weekofyear',\n",
    "                'month',\n",
    "                'total_cases',\n",
    "                'total_cases_o_seas',\n",
    "                'total_cases_wo_seas'\n",
    "               ]\n",
    "    return [e for e in cols if e not in unwanted]"
   ]
  },
  {
   "cell_type": "code",
   "execution_count": 13,
   "id": "99338976",
   "metadata": {},
   "outputs": [],
   "source": [
    "def get_lagged_dataframe(df, features, max_lag):\n",
    "    \"\"\"\n",
    "    Creates new dataframe with certain lagged features as columns. \n",
    "    Number of lags (defined by max_lag) start at 1.\n",
    "    ----------\n",
    "    Parameters\n",
    "    \n",
    "    df: dataframe, which contains features and with time as index\n",
    "    features: list, of feature names\n",
    "    max_lag: number of maximum lags\n",
    "    \n",
    "    \"\"\"\n",
    "    d = {}\n",
    "    for feature in features:\n",
    "        for lag in range(1, max_lag+1):\n",
    "            l = []\n",
    "            for r in range(len(df)):\n",
    "                l.append(df.shift(lag)[feature][r])\n",
    "            d[f'{feature}_lag{lag}'] = l\n",
    "    lagged_df = pd.DataFrame.from_dict(d)\n",
    "    lagged_df.index = df.index\n",
    "    # delete '_lag0'\n",
    "    return lagged_df"
   ]
  },
  {
   "cell_type": "code",
   "execution_count": 14,
   "id": "1b26eebc",
   "metadata": {
    "tags": []
   },
   "outputs": [],
   "source": [
    "def apply_lagged(data_set, lags=8):\n",
    "    data_set_output = []\n",
    "    for i in range(len(data_set)):\n",
    "        data_set_output.append(get_lagged_dataframe(data_set[i], env_cols(data_set[i]), lags))\n",
    "    return data_set_output"
   ]
  },
  {
   "cell_type": "code",
   "execution_count": 15,
   "id": "c6872ef3",
   "metadata": {},
   "outputs": [],
   "source": [
    "data_subsets_lagged = apply_lagged(data_subsets_splitted_joined)"
   ]
  },
  {
   "cell_type": "code",
   "execution_count": 16,
   "id": "d3c2d808",
   "metadata": {},
   "outputs": [],
   "source": [
    "# combine dataframe with lagged values with the previous dataframe with the non-lagged features\n",
    "def join_lags_to_lagged(data_set_lags, data_set):\n",
    "    data_set_output = []\n",
    "    for i in range(len(data_set)):\n",
    "        data_set_output.append(data_set[i].join(data_set_lags[i]))\n",
    "    return data_set_output\n",
    "\n",
    "data_subsets_lags = join_lags_to_lagged(data_subsets_lagged, data_subsets_splitted_joined)"
   ]
  },
  {
   "cell_type": "code",
   "execution_count": 17,
   "id": "8cc0ef5a",
   "metadata": {},
   "outputs": [],
   "source": [
    "sj_train_train_lags, \\\n",
    "sj_train_test_lags, \\\n",
    "sj_test_lags, \\\n",
    "iq_train_train_lags, \\\n",
    "iq_train_test_lags, \\\n",
    "iq_test_lags = data_subsets_lags"
   ]
  },
  {
   "cell_type": "code",
   "execution_count": 18,
   "id": "de8b2c11",
   "metadata": {},
   "outputs": [],
   "source": [
    "def fill_from_train(df_test, df_train):\n",
    "    null_cols = df_test.columns[df_test.isnull().any()]\n",
    "    df_miss = df_test.loc[:,df_test[null_cols].columns]\n",
    "\n",
    "    for i in range(df_miss.shape[1]):\n",
    "        colname_miss = df_miss.iloc[:,i].name\n",
    "        n_miss = df_miss.iloc[:,i].isnull().sum()\n",
    "        data_for_gap = df_train.loc[:,colname_miss].iloc[-n_miss:]\n",
    "        df_test.loc[:, colname_miss][df_test.loc[:, colname_miss].isnull()] = data_for_gap.values\n",
    "\n",
    "    return df_test"
   ]
  },
  {
   "cell_type": "code",
   "execution_count": 19,
   "id": "913a976d",
   "metadata": {},
   "outputs": [
    {
     "name": "stderr",
     "output_type": "stream",
     "text": [
      "/var/folders/7w/3wbnxyf13h1b69wdndtp0j180000gn/T/ipykernel_3518/2268118587.py:9: SettingWithCopyWarning: \n",
      "A value is trying to be set on a copy of a slice from a DataFrame\n",
      "\n",
      "See the caveats in the documentation: https://pandas.pydata.org/pandas-docs/stable/user_guide/indexing.html#returning-a-view-versus-a-copy\n",
      "  df_test.loc[:, colname_miss][df_test.loc[:, colname_miss].isnull()] = data_for_gap.values\n"
     ]
    }
   ],
   "source": [
    "sj_train_test_lags = fill_from_train(sj_train_test_lags, sj_train_train_lags)\n",
    "iq_train_test_lags = fill_from_train(iq_train_test_lags, iq_train_train_lags)"
   ]
  },
  {
   "cell_type": "code",
   "execution_count": 20,
   "id": "af2b082b",
   "metadata": {},
   "outputs": [
    {
     "name": "stderr",
     "output_type": "stream",
     "text": [
      "/var/folders/7w/3wbnxyf13h1b69wdndtp0j180000gn/T/ipykernel_3518/2268118587.py:9: SettingWithCopyWarning: \n",
      "A value is trying to be set on a copy of a slice from a DataFrame\n",
      "\n",
      "See the caveats in the documentation: https://pandas.pydata.org/pandas-docs/stable/user_guide/indexing.html#returning-a-view-versus-a-copy\n",
      "  df_test.loc[:, colname_miss][df_test.loc[:, colname_miss].isnull()] = data_for_gap.values\n"
     ]
    }
   ],
   "source": [
    "sj_test_lags = fill_from_train(sj_test_lags, sj_train_test_lags)\n",
    "iq_test_lags = fill_from_train(iq_test_lags, iq_train_test_lags)"
   ]
  },
  {
   "cell_type": "markdown",
   "id": "0db7ed25",
   "metadata": {
    "tags": []
   },
   "source": [
    "### Save dataframes in sets"
   ]
  },
  {
   "cell_type": "code",
   "execution_count": 21,
   "id": "26bdb777",
   "metadata": {},
   "outputs": [],
   "source": [
    "# save lagged dataframes in a pickle \n",
    "pickle.dump(data_subsets_lags, open('data_subsets_lags.pickle', 'wb'))"
   ]
  },
  {
   "cell_type": "code",
   "execution_count": null,
   "id": "5e64d4ba",
   "metadata": {},
   "outputs": [],
   "source": [
    "# FOR LOADING\n",
    "#data_subsets_lags = pickle.load(open('data_subsets_lags.pickle', 'rb'))\n",
    "\n",
    "#sj_train_train_lags, \\\n",
    "#sj_train_test_lags, \\\n",
    "#sj_test_lags, \\\n",
    "#iq_train_train_lags, \\\n",
    "#iq_train_test_lags, \\\n",
    "#iq_test_lags = data_subsets_lags"
   ]
  }
 ],
 "metadata": {
  "kernelspec": {
   "display_name": "Python 3 (ipykernel)",
   "language": "python",
   "name": "python3"
  },
  "language_info": {
   "codemirror_mode": {
    "name": "ipython",
    "version": 3
   },
   "file_extension": ".py",
   "mimetype": "text/x-python",
   "name": "python",
   "nbconvert_exporter": "python",
   "pygments_lexer": "ipython3",
   "version": "3.8.5"
  }
 },
 "nbformat": 4,
 "nbformat_minor": 5
}
