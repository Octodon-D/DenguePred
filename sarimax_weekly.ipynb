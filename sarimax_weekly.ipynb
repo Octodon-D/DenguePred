{
 "cells": [
  {
   "cell_type": "markdown",
   "id": "2cdb9a83",
   "metadata": {},
   "source": [
    "# Basic SARIMAX model on weekly data"
   ]
  },
  {
   "cell_type": "code",
   "execution_count": 1,
   "id": "baa50ec3",
   "metadata": {},
   "outputs": [],
   "source": [
    "# Loading packages and their components\n",
    "import pandas as pd\n",
    "import numpy as np\n",
    "import pickle\n",
    "\n",
    "import seaborn as sns\n",
    "import matplotlib.pyplot as plt\n",
    "\n",
    "from sklearn.preprocessing import StandardScaler\n",
    "from sklearn.linear_model import LinearRegression\n",
    "\n",
    "import statsmodels.api as sm\n",
    "from statsmodels.tsa.stattools import adfuller, acf, pacf\n",
    "from statsmodels.tsa.seasonal import seasonal_decompose\n",
    "from statsmodels.tsa.arima.model import ARIMA\n",
    "from statsmodels.tsa.ar_model import AutoReg, ar_select_order\n",
    "from statsmodels.graphics.tsaplots import plot_acf, plot_pacf\n",
    "from statsmodels.tsa.api import acf, pacf, graphics\n",
    "from statsmodels.graphics.api import qqplot\n",
    "from statsmodels.tsa.statespace.sarimax import SARIMAX\n",
    "from sklearn.metrics import mean_squared_error, explained_variance_score, mean_absolute_error\n",
    "from pmdarima import auto_arima\n",
    "\n",
    "from collections import OrderedDict"
   ]
  },
  {
   "cell_type": "code",
   "execution_count": 2,
   "id": "5d8bf6cc",
   "metadata": {},
   "outputs": [],
   "source": [
    "# Matplotlib configuration\n",
    "plt.rcParams['figure.figsize'] = [10, 5]"
   ]
  },
  {
   "cell_type": "code",
   "execution_count": 3,
   "id": "93cdd988",
   "metadata": {},
   "outputs": [],
   "source": [
    "# function for getting log cases\n",
    "def log_cases(df):\n",
    "    df = df.assign(logged_cases = lambda df: np.log(df['total_cases']+1))\n",
    "    return df"
   ]
  },
  {
   "cell_type": "code",
   "execution_count": 4,
   "id": "a9b28b6b",
   "metadata": {},
   "outputs": [],
   "source": [
    "# function for evaluation of models\n",
    "def model_classification(actual, predicted): \n",
    "    \"\"\"\n",
    "    Prints out RSME, MAE and explained variance score\n",
    "    \"\"\"\n",
    "    print('-'*20)\n",
    "    print(f'RMSE: {round(np.sqrt(mean_squared_error(actual, predicted)),2)}')\n",
    "    print('-'*20)\n",
    "    print(f'MAE: {round(mean_absolute_error(actual, predicted),2)}')\n",
    "    print(f'Explained variance: {round(explained_variance_score(actual, predicted),3)}')\n",
    "    print('-'*20)"
   ]
  },
  {
   "cell_type": "code",
   "execution_count": 5,
   "id": "f97dfad2",
   "metadata": {},
   "outputs": [],
   "source": [
    "def SARIMAX_evaluation(train, test, exogs, max_p=3, max_q=3, max_P=1, max_Q=1, d=1, D=0, verbose=False):\n",
    "    results = {}\n",
    "    for p in range(0,max_p+1):\n",
    "        for q in range(0,max_q+1):\n",
    "            for P in range(0,max_P+1):\n",
    "                for Q in range(0,max_Q1+1):\n",
    "                    try:\n",
    "                        model = SARIMAX(train.total_cases, \n",
    "                                       order=(p, d, q),\n",
    "                                       seasonal_order=(P, D, Q, 12),\n",
    "                                       exog=train[exogs])\n",
    "                        res = model.fit(disp=0)\n",
    "                        pred = res.forecast(len(test.total_cases), exog=test[exogs])\n",
    "                        rmse = round(np.sqrt(mean_squared_error(test.total_cases, pred)),2)\n",
    "                        results[f'Combination: p = {p}, q = {q}, P= {P}, Q= {Q}'] = rmse\n",
    "                        if verbose:\n",
    "                            print(f'Combination: p = {p}, q = {q}, P= {P}, Q= {Q}: RSME {rmse}')\n",
    "\n",
    "                    except ValueError:\n",
    "                        results[f'Combination: p = {p}, q = {q}, P= {P}, Q= {Q}'] = np.nan\n",
    "    return results"
   ]
  },
  {
   "cell_type": "code",
   "execution_count": 6,
   "id": "ac3d2475",
   "metadata": {
    "tags": []
   },
   "outputs": [],
   "source": [
    "def SARIMAX_evaluation_pq(train, test, exogs, max_p=3, max_q=3, P=1, Q=1, d=1, D=0, verbose=False):\n",
    "    results = {}\n",
    "    for p in range(0,max_p+1):\n",
    "        for q in range(0,max_q+1):\n",
    "            try:\n",
    "                model = SARIMAX(train.total_cases, \n",
    "                               order=(p, d, q),\n",
    "                               seasonal_order=(P, D, Q, 12),\n",
    "                               exog=train[exogs])\n",
    "                res = model.fit(disp=0, maxiter=400, method_kwargs={\"warn_convergence\": False})\n",
    "                pred = res.forecast(len(test.total_cases), exog=test[exogs])\n",
    "                rmse = round(np.sqrt(mean_squared_error(test.total_cases, pred)),2)\n",
    "                results[f'Combination: ({p}, {d}, {q}), ({P}, {D}, {Q})'] = rmse\n",
    "                if verbose:\n",
    "                    print(f'Combination: ({p}, {d}, {q}), ({P}, {D}, {Q}): RSME {rmse}')\n",
    "\n",
    "            except ValueError:\n",
    "                results[f'Combination: p = {p}, q = {q}, P= {P}, Q= {Q}'] = np.nan\n",
    "    return results"
   ]
  },
  {
   "cell_type": "code",
   "execution_count": 7,
   "id": "e9756c7f",
   "metadata": {
    "tags": []
   },
   "outputs": [],
   "source": [
    "def SARIMAX_evaluation_PQ(train, test, exogs, max_P=3, max_Q=3, p=1, q=1, d=1, D=0, verbose=False):\n",
    "    results = {}\n",
    "    for P in range(0,max_P+1):\n",
    "        for Q in range(0,max_Q+1):\n",
    "            try:\n",
    "                model = SARIMAX(train.total_cases, \n",
    "                               order=(p, d, q),\n",
    "                               seasonal_order=(P, D, Q, 12),\n",
    "                               exog=train[exogs])\n",
    "                res = model.fit(disp=0, maxiter=400, method_kwargs={\"warn_convergence\": False})\n",
    "                pred = res.forecast(len(test.total_cases), exog=test[exogs])\n",
    "                rmse = round(np.sqrt(mean_squared_error(test.total_cases, pred)),2)\n",
    "                results[f'Combination: ({p}, {d}, {q}), ({P}, {D}, {Q})'] = rmse\n",
    "                if verbose:\n",
    "                    print(f'Combination: ({p}, {d}, {q}), ({P}, {D}, {Q}): RSME {rmse}')\n",
    "\n",
    "            except ValueError:\n",
    "                results[f'Combination: p = {p}, q = {q}, P= {P}, Q= {Q}'] = np.nan\n",
    "    return results"
   ]
  },
  {
   "cell_type": "markdown",
   "id": "d0898611",
   "metadata": {},
   "source": [
    "## Load the data"
   ]
  },
  {
   "cell_type": "code",
   "execution_count": 8,
   "id": "86f785f6",
   "metadata": {},
   "outputs": [],
   "source": [
    "data_subsets_lags = pickle.load(open('data_subsets_lags.pickle', 'rb'))\n",
    "\n",
    "sj_train_train, \\\n",
    "sj_train_test, \\\n",
    "sj_test, \\\n",
    "iq_train_train, \\\n",
    "iq_train_test, \\\n",
    "iq_test = data_subsets_lags"
   ]
  },
  {
   "cell_type": "code",
   "execution_count": 9,
   "id": "069251c3",
   "metadata": {},
   "outputs": [],
   "source": [
    "# get log of cases as column\n",
    "sj_train_train = log_cases(sj_train_train)\n",
    "sj_train_test = log_cases(sj_train_test)\n",
    "iq_train_train = log_cases(iq_train_train)\n",
    "iq_train_test = log_cases(iq_train_test)"
   ]
  },
  {
   "cell_type": "code",
   "execution_count": 10,
   "id": "33fce73b",
   "metadata": {},
   "outputs": [],
   "source": [
    "# delete non-numeric columns\n",
    "sj_train_train = sj_train_train.select_dtypes(include='number')\n",
    "iq_train_train = iq_train_train.select_dtypes(include='number')"
   ]
  },
  {
   "cell_type": "code",
   "execution_count": 11,
   "id": "1e1a9df7",
   "metadata": {},
   "outputs": [],
   "source": [
    "# delet also NAN included by lagged precipitation \n",
    "sj_train_train = sj_train_train.dropna()\n",
    "sj_train_test = sj_train_test.dropna()\n",
    "iq_train_train = iq_train_train.dropna()\n",
    "iq_train_test = iq_train_test.dropna()"
   ]
  },
  {
   "cell_type": "markdown",
   "id": "02ffbe72",
   "metadata": {},
   "source": [
    "### Scaler"
   ]
  },
  {
   "cell_type": "code",
   "execution_count": 12,
   "id": "27a9295b",
   "metadata": {},
   "outputs": [],
   "source": [
    "features = sj_train_train.columns.tolist()\n",
    "not_features = ['logged_cases', 'total_cases', 'month', 'weekofyear', 'year']\n",
    "features = [x for x in features if x not in not_features]"
   ]
  },
  {
   "cell_type": "code",
   "execution_count": 13,
   "id": "588eb0ec",
   "metadata": {},
   "outputs": [],
   "source": [
    "sj_scaler = StandardScaler()\n",
    "sj_train_train_s = sj_scaler.fit_transform(sj_train_train[features])\n",
    "sj_train_test_s = sj_scaler.transform(sj_train_test[features])\n",
    "\n",
    "sj_train_train_s = pd.DataFrame(sj_train_train_s)\n",
    "sj_train_train_s.columns = features\n",
    "sj_train_train_s.index = sj_train_train.index\n",
    "\n",
    "sj_train_train_scaled = sj_train_train[not_features]\n",
    "sj_train_train_scaled = sj_train_train_scaled.join(sj_train_train_s)\n",
    "\n",
    "sj_train_test_s = pd.DataFrame(sj_train_test_s)\n",
    "sj_train_test_s.columns = features\n",
    "sj_train_test_s.index = sj_train_test.index\n",
    "\n",
    "sj_train_test_scaled = sj_train_test[not_features]\n",
    "sj_train_test_scaled = sj_train_test_scaled.join(sj_train_test_s)"
   ]
  },
  {
   "cell_type": "code",
   "execution_count": 14,
   "id": "fa359299",
   "metadata": {},
   "outputs": [],
   "source": [
    "iq_scaler = StandardScaler()\n",
    "iq_train_train_s = iq_scaler.fit_transform(iq_train_train[features])\n",
    "iq_train_test_s = iq_scaler.transform(iq_train_test[features])\n",
    "\n",
    "iq_train_train_s = pd.DataFrame(iq_train_train_s)\n",
    "iq_train_train_s.columns = features\n",
    "iq_train_train_s.index = iq_train_train.index\n",
    "\n",
    "iq_train_train_scaled = iq_train_train[not_features]\n",
    "iq_train_train_scaled = iq_train_train_scaled.join(iq_train_train_s)\n",
    "\n",
    "iq_train_test_s = pd.DataFrame(iq_train_test_s)\n",
    "iq_train_test_s.columns = features\n",
    "iq_train_test_s.index = iq_train_test.index\n",
    "\n",
    "iq_train_test_scaled = iq_train_test[not_features]\n",
    "iq_train_test_scaled = iq_train_test_scaled.join(iq_train_test_s)"
   ]
  },
  {
   "cell_type": "code",
   "execution_count": 15,
   "id": "0a3c6c8f",
   "metadata": {},
   "outputs": [],
   "source": [
    "sj_train_train_scaled = sj_train_train_scaled.dropna()\n",
    "sj_train_test_scaled = sj_train_test_scaled.dropna()\n",
    "iq_train_train_scaled = iq_train_train_scaled.dropna()\n",
    "iq_train_test_scaled = iq_train_test_scaled.dropna()"
   ]
  },
  {
   "cell_type": "markdown",
   "id": "b00b23a1",
   "metadata": {},
   "source": [
    "## San Juan - total cases\n",
    "First order differencing"
   ]
  },
  {
   "cell_type": "code",
   "execution_count": 16,
   "id": "0499f92a",
   "metadata": {
    "tags": []
   },
   "outputs": [
    {
     "data": {
      "image/png": "[encoded data removed]",
      "text/plain": [
       "<Figure size 720x360 with 1 Axes>"
      ]
     },
     "metadata": {
      "needs_background": "light"
     },
     "output_type": "display_data"
    }
   ],
   "source": [
    "sj_train_train_diff = sj_train_train - sj_train_train.shift(1)\n",
    "sj_train_train_diff = sj_train_train_diff.dropna()\n",
    "\n",
    "sj_train_train_diff.total_cases.plot();"
   ]
  },
  {
   "cell_type": "markdown",
   "id": "bac2c09d",
   "metadata": {},
   "source": [
    "### ACF"
   ]
  },
  {
   "cell_type": "code",
   "execution_count": 17,
   "id": "61ca7ae6",
   "metadata": {},
   "outputs": [
    {
     "data": {
      "image/png": "[encoded data removed]",
      "text/plain": [
       "<Figure size 720x360 with 1 Axes>"
      ]
     },
     "metadata": {
      "needs_background": "light"
     },
     "output_type": "display_data"
    }
   ],
   "source": [
    "# Check the PACF for the optimal number of lags\n",
    "plot_acf(sj_train_train_diff.total_cases, lags=30);"
   ]
  },
  {
   "cell_type": "markdown",
   "id": "b9f4c777",
   "metadata": {},
   "source": [
    "### PCAF"
   ]
  },
  {
   "cell_type": "code",
   "execution_count": 18,
   "id": "18a80739",
   "metadata": {},
   "outputs": [
    {
     "data": {
      "image/png": "[encoded data removed]",
      "text/plain": [
       "<Figure size 720x360 with 1 Axes>"
      ]
     },
     "metadata": {
      "needs_background": "light"
     },
     "output_type": "display_data"
    }
   ],
   "source": [
    "# Check the PACF for the optimal number of lags\n",
    "plot_pacf(sj_train_train_diff.total_cases, lags=30);"
   ]
  },
  {
   "cell_type": "code",
   "execution_count": 19,
   "id": "8c4f1ef8",
   "metadata": {},
   "outputs": [
    {
     "data": {
      "text/plain": [
       "station_avg_temp_c_lag8           0.354404\n",
       "station_min_temp_c_lag8           0.351633\n",
       "station_avg_temp_c_lag7           0.345911\n",
       "station_min_temp_c_lag7           0.345745\n",
       "station_min_temp_c_lag6           0.330478\n",
       "station_avg_temp_c_lag6           0.328557\n",
       "reanalysis_min_air_temp_c_lag8    0.315839\n",
       "reanalysis_max_air_temp_c_lag8    0.315635\n",
       "reanalysis_max_air_temp_c_lag7    0.315531\n",
       "reanalysis_avg_temp_c_lag8        0.314542\n",
       "transmission_probability_lag8     0.314373\n",
       "infection_probability_lag8        0.314246\n",
       "fecundity_lag8                    0.314227\n",
       "mdr_lag8                          0.314152\n",
       "biting_rate_lag8                  0.314092\n",
       "Name: total_cases, dtype: float64"
      ]
     },
     "execution_count": 19,
     "metadata": {},
     "output_type": "execute_result"
    }
   ],
   "source": [
    "corr_mat = sj_train_train.corr()\n",
    "cases_corr_list = (\n",
    "    corr_mat['total_cases']\n",
    "    .drop(['logged_cases', 'total_cases', 'month', 'weekofyear', 'year'], axis=0)\n",
    "    .abs()\n",
    "    .sort_values(ascending=False)\n",
    ")\n",
    "cases_corr_list[:15]"
   ]
  },
  {
   "cell_type": "code",
   "execution_count": 20,
   "id": "22494b00",
   "metadata": {},
   "outputs": [],
   "source": [
    "sj_exogs = cases_corr_list[:15].index.tolist()"
   ]
  },
  {
   "cell_type": "code",
   "execution_count": 21,
   "id": "25d9856e",
   "metadata": {},
   "outputs": [],
   "source": [
    "sj_train_train_statsmodels = sj_train_train.reset_index(drop=True)\n",
    "sj_train_test_statsmodels = sj_train_test.reset_index(drop=True)"
   ]
  },
  {
   "cell_type": "code",
   "execution_count": 22,
   "id": "3dec64a8",
   "metadata": {},
   "outputs": [
    {
     "data": {
      "text/html": [
       "<div>\n",
       "<style scoped>\n",
       "    .dataframe tbody tr th:only-of-type {\n",
       "        vertical-align: middle;\n",
       "    }\n",
       "\n",
       "    .dataframe tbody tr th {\n",
       "        vertical-align: top;\n",
       "    }\n",
       "\n",
       "    .dataframe thead th {\n",
       "        text-align: right;\n",
       "    }\n",
       "</style>\n",
       "<table border=\"1\" class=\"dataframe\">\n",
       "  <thead>\n",
       "    <tr style=\"text-align: right;\">\n",
       "      <th></th>\n",
       "      <th>year</th>\n",
       "      <th>weekofyear</th>\n",
       "      <th>ndvi_ne</th>\n",
       "      <th>ndvi_nw</th>\n",
       "      <th>ndvi_se</th>\n",
       "      <th>ndvi_sw</th>\n",
       "      <th>reanalysis_precip_amt_kg_per_m2</th>\n",
       "      <th>reanalysis_relative_humidity_percent</th>\n",
       "      <th>reanalysis_sat_precip_amt_mm</th>\n",
       "      <th>reanalysis_specific_humidity_g_per_kg</th>\n",
       "      <th>...</th>\n",
       "      <th>cum_precip_5w_lag8</th>\n",
       "      <th>cum_precip_6w_lag1</th>\n",
       "      <th>cum_precip_6w_lag2</th>\n",
       "      <th>cum_precip_6w_lag3</th>\n",
       "      <th>cum_precip_6w_lag4</th>\n",
       "      <th>cum_precip_6w_lag5</th>\n",
       "      <th>cum_precip_6w_lag6</th>\n",
       "      <th>cum_precip_6w_lag7</th>\n",
       "      <th>cum_precip_6w_lag8</th>\n",
       "      <th>logged_cases</th>\n",
       "    </tr>\n",
       "  </thead>\n",
       "  <tbody>\n",
       "    <tr>\n",
       "      <th>0</th>\n",
       "      <td>1990</td>\n",
       "      <td>31</td>\n",
       "      <td>0.170400</td>\n",
       "      <td>0.247150</td>\n",
       "      <td>0.379700</td>\n",
       "      <td>0.381357</td>\n",
       "      <td>34.6</td>\n",
       "      <td>80.584286</td>\n",
       "      <td>32.66</td>\n",
       "      <td>17.594286</td>\n",
       "      <td>...</td>\n",
       "      <td>98.9</td>\n",
       "      <td>151.8</td>\n",
       "      <td>148.9</td>\n",
       "      <td>175.8</td>\n",
       "      <td>117.9</td>\n",
       "      <td>120.8</td>\n",
       "      <td>141.1</td>\n",
       "      <td>128.6</td>\n",
       "      <td>114.9</td>\n",
       "      <td>2.890372</td>\n",
       "    </tr>\n",
       "    <tr>\n",
       "      <th>1</th>\n",
       "      <td>1990</td>\n",
       "      <td>32</td>\n",
       "      <td>0.180317</td>\n",
       "      <td>0.064333</td>\n",
       "      <td>0.164443</td>\n",
       "      <td>0.138857</td>\n",
       "      <td>20.0</td>\n",
       "      <td>79.650000</td>\n",
       "      <td>28.80</td>\n",
       "      <td>17.950000</td>\n",
       "      <td>...</td>\n",
       "      <td>120.0</td>\n",
       "      <td>168.3</td>\n",
       "      <td>151.8</td>\n",
       "      <td>148.9</td>\n",
       "      <td>175.8</td>\n",
       "      <td>117.9</td>\n",
       "      <td>120.8</td>\n",
       "      <td>141.1</td>\n",
       "      <td>128.6</td>\n",
       "      <td>3.178054</td>\n",
       "    </tr>\n",
       "    <tr>\n",
       "      <th>2</th>\n",
       "      <td>1990</td>\n",
       "      <td>33</td>\n",
       "      <td>0.185275</td>\n",
       "      <td>0.128033</td>\n",
       "      <td>0.206957</td>\n",
       "      <td>0.168243</td>\n",
       "      <td>101.9</td>\n",
       "      <td>84.178571</td>\n",
       "      <td>90.75</td>\n",
       "      <td>18.515714</td>\n",
       "      <td>...</td>\n",
       "      <td>99.7</td>\n",
       "      <td>158.6</td>\n",
       "      <td>168.3</td>\n",
       "      <td>151.8</td>\n",
       "      <td>148.9</td>\n",
       "      <td>175.8</td>\n",
       "      <td>117.9</td>\n",
       "      <td>120.8</td>\n",
       "      <td>141.1</td>\n",
       "      <td>2.639057</td>\n",
       "    </tr>\n",
       "    <tr>\n",
       "      <th>3</th>\n",
       "      <td>1990</td>\n",
       "      <td>34</td>\n",
       "      <td>0.190233</td>\n",
       "      <td>0.168800</td>\n",
       "      <td>0.167657</td>\n",
       "      <td>0.172286</td>\n",
       "      <td>25.9</td>\n",
       "      <td>80.947143</td>\n",
       "      <td>32.40</td>\n",
       "      <td>18.174286</td>\n",
       "      <td>...</td>\n",
       "      <td>116.8</td>\n",
       "      <td>202.2</td>\n",
       "      <td>158.6</td>\n",
       "      <td>168.3</td>\n",
       "      <td>151.8</td>\n",
       "      <td>148.9</td>\n",
       "      <td>175.8</td>\n",
       "      <td>117.9</td>\n",
       "      <td>120.8</td>\n",
       "      <td>3.091042</td>\n",
       "    </tr>\n",
       "    <tr>\n",
       "      <th>4</th>\n",
       "      <td>1990</td>\n",
       "      <td>35</td>\n",
       "      <td>0.252900</td>\n",
       "      <td>0.330750</td>\n",
       "      <td>0.264171</td>\n",
       "      <td>0.284314</td>\n",
       "      <td>39.8</td>\n",
       "      <td>83.348571</td>\n",
       "      <td>40.94</td>\n",
       "      <td>18.515714</td>\n",
       "      <td>...</td>\n",
       "      <td>112.1</td>\n",
       "      <td>143.9</td>\n",
       "      <td>202.2</td>\n",
       "      <td>158.6</td>\n",
       "      <td>168.3</td>\n",
       "      <td>151.8</td>\n",
       "      <td>148.9</td>\n",
       "      <td>175.8</td>\n",
       "      <td>117.9</td>\n",
       "      <td>3.367296</td>\n",
       "    </tr>\n",
       "  </tbody>\n",
       "</table>\n",
       "<p>5 rows × 302 columns</p>\n",
       "</div>"
      ],
      "text/plain": [
       "   year  weekofyear   ndvi_ne   ndvi_nw   ndvi_se   ndvi_sw  \\\n",
       "0  1990          31  0.170400  0.247150  0.379700  0.381357   \n",
       "1  1990          32  0.180317  0.064333  0.164443  0.138857   \n",
       "2  1990          33  0.185275  0.128033  0.206957  0.168243   \n",
       "3  1990          34  0.190233  0.168800  0.167657  0.172286   \n",
       "4  1990          35  0.252900  0.330750  0.264171  0.284314   \n",
       "\n",
       "   reanalysis_precip_amt_kg_per_m2  reanalysis_relative_humidity_percent  \\\n",
       "0                             34.6                             80.584286   \n",
       "1                             20.0                             79.650000   \n",
       "2                            101.9                             84.178571   \n",
       "3                             25.9                             80.947143   \n",
       "4                             39.8                             83.348571   \n",
       "\n",
       "   reanalysis_sat_precip_amt_mm  reanalysis_specific_humidity_g_per_kg  ...  \\\n",
       "0                         32.66                              17.594286  ...   \n",
       "1                         28.80                              17.950000  ...   \n",
       "2                         90.75                              18.515714  ...   \n",
       "3                         32.40                              18.174286  ...   \n",
       "4                         40.94                              18.515714  ...   \n",
       "\n",
       "   cum_precip_5w_lag8  cum_precip_6w_lag1  cum_precip_6w_lag2  \\\n",
       "0                98.9               151.8               148.9   \n",
       "1               120.0               168.3               151.8   \n",
       "2                99.7               158.6               168.3   \n",
       "3               116.8               202.2               158.6   \n",
       "4               112.1               143.9               202.2   \n",
       "\n",
       "   cum_precip_6w_lag3  cum_precip_6w_lag4  cum_precip_6w_lag5  \\\n",
       "0               175.8               117.9               120.8   \n",
       "1               148.9               175.8               117.9   \n",
       "2               151.8               148.9               175.8   \n",
       "3               168.3               151.8               148.9   \n",
       "4               158.6               168.3               151.8   \n",
       "\n",
       "   cum_precip_6w_lag6  cum_precip_6w_lag7  cum_precip_6w_lag8  logged_cases  \n",
       "0               141.1               128.6               114.9      2.890372  \n",
       "1               120.8               141.1               128.6      3.178054  \n",
       "2               117.9               120.8               141.1      2.639057  \n",
       "3               175.8               117.9               120.8      3.091042  \n",
       "4               148.9               175.8               117.9      3.367296  \n",
       "\n",
       "[5 rows x 302 columns]"
      ]
     },
     "execution_count": 22,
     "metadata": {},
     "output_type": "execute_result"
    }
   ],
   "source": [
    "sj_train_train_statsmodels.head()"
   ]
  },
  {
   "cell_type": "markdown",
   "id": "b08f40d0",
   "metadata": {},
   "source": [
    "---\n",
    "### Evaluation of right p and q values"
   ]
  },
  {
   "cell_type": "code",
   "execution_count": 24,
   "id": "989d1e7f",
   "metadata": {
    "tags": []
   },
   "outputs": [],
   "source": [
    "#results_sj_pq = SARIMAX_evaluation_pq(train=sj_train_train_statsmodels, test=sj_train_test_statsmodels, exogs=sj_exogs)"
   ]
  },
  {
   "cell_type": "code",
   "execution_count": null,
   "id": "7e58d0a5",
   "metadata": {
    "tags": []
   },
   "outputs": [],
   "source": [
    "#results_sj_pq = OrderedDict(sorted(results_sj_pq.items(), key=lambda x: x[1]))\n",
    "#results_sj_pq"
   ]
  },
  {
   "cell_type": "code",
   "execution_count": null,
   "id": "c3d5025a",
   "metadata": {},
   "outputs": [],
   "source": [
    "#results_sj_PQ = SARIMAX_evaluation_PQ(train=sj_train_train_statsmodels, test=sj_train_test_statsmodels, exogs=sj_exogs, p=0, q=0)"
   ]
  },
  {
   "cell_type": "code",
   "execution_count": null,
   "id": "9d6da3f6",
   "metadata": {},
   "outputs": [],
   "source": [
    "#results_sj_PQ = OrderedDict(sorted(results_sj_PQ.items(), key=lambda x: x[1]))\n",
    "#results_sj_PQ"
   ]
  },
  {
   "cell_type": "code",
   "execution_count": null,
   "id": "f7b595dd",
   "metadata": {},
   "outputs": [],
   "source": [
    "#results_sj_pq1 = SARIMAX_evaluation_pq(train=sj_train_train_statsmodels, test=sj_train_test_statsmodels, P=3, Q=2, exogs=sj_exogs, verbose=True)"
   ]
  },
  {
   "cell_type": "code",
   "execution_count": 25,
   "id": "0e6bb340",
   "metadata": {},
   "outputs": [],
   "source": [
    "#results_sj_pq1 = OrderedDict(sorted(results_sj_pq1.items(), key=lambda x: x[1]))\n",
    "#results_sj_pq1"
   ]
  },
  {
   "cell_type": "markdown",
   "id": "d3178cd7",
   "metadata": {},
   "source": [
    "---"
   ]
  },
  {
   "cell_type": "code",
   "execution_count": 26,
   "id": "9fc32314",
   "metadata": {},
   "outputs": [
    {
     "name": "stderr",
     "output_type": "stream",
     "text": [
      " This problem is unconstrained.\n"
     ]
    },
    {
     "name": "stdout",
     "output_type": "stream",
     "text": [
      "RUNNING THE L-BFGS-B CODE\n",
      "\n",
      "           * * *\n",
      "\n",
      "Machine precision = 2.220D-16\n",
      " N =           22     M =           10\n",
      "\n",
      "At X0         0 variables are exactly at the bounds\n",
      "\n",
      "At iterate    0    f=  4.06493D+00    |proj g|=  2.23026D-02\n",
      "\n",
      "At iterate    5    f=  4.06383D+00    |proj g|=  2.81662D-02\n",
      "\n",
      "At iterate   10    f=  4.06030D+00    |proj g|=  2.25143D-03\n",
      "\n",
      "At iterate   15    f=  4.05970D+00    |proj g|=  4.75676D-03\n",
      "\n",
      "At iterate   20    f=  4.05959D+00    |proj g|=  4.54369D-03\n",
      "\n",
      "At iterate   25    f=  4.05951D+00    |proj g|=  4.02510D-04\n",
      "\n",
      "At iterate   30    f=  4.05949D+00    |proj g|=  3.23301D-03\n",
      "\n",
      "At iterate   35    f=  4.05943D+00    |proj g|=  2.15666D-03\n",
      "\n",
      "At iterate   40    f=  4.05942D+00    |proj g|=  1.08108D-03\n",
      "\n",
      "At iterate   45    f=  4.05940D+00    |proj g|=  1.36646D-03\n",
      "\n",
      "At iterate   50    f=  4.05940D+00    |proj g|=  3.55542D-04\n",
      "\n",
      "At iterate   55    f=  4.05939D+00    |proj g|=  8.84683D-04\n",
      "\n",
      "At iterate   60    f=  4.05939D+00    |proj g|=  7.19000D-04\n",
      "\n",
      "At iterate   65    f=  4.05938D+00    |proj g|=  1.04407D-03\n",
      "\n",
      "At iterate   70    f=  4.05938D+00    |proj g|=  1.97848D-04\n",
      "\n",
      "At iterate   75    f=  4.05938D+00    |proj g|=  2.17554D-04\n",
      "\n",
      "At iterate   80    f=  4.05937D+00    |proj g|=  1.66366D-03\n",
      "\n",
      "At iterate   85    f=  4.05937D+00    |proj g|=  2.05608D-04\n",
      "\n",
      "At iterate   90    f=  4.05936D+00    |proj g|=  1.64647D-03\n",
      "\n",
      "At iterate   95    f=  4.05935D+00    |proj g|=  6.16777D-04\n",
      "\n",
      "At iterate  100    f=  4.05935D+00    |proj g|=  3.22990D-04\n",
      "\n",
      "At iterate  105    f=  4.05934D+00    |proj g|=  4.28400D-04\n",
      "\n",
      "At iterate  110    f=  4.05934D+00    |proj g|=  6.91140D-04\n",
      "\n",
      "At iterate  115    f=  4.05932D+00    |proj g|=  3.35960D-04\n",
      "\n",
      "At iterate  120    f=  4.05930D+00    |proj g|=  1.14853D-03\n",
      "\n",
      "At iterate  125    f=  4.05929D+00    |proj g|=  3.05972D-04\n",
      "\n",
      "At iterate  130    f=  4.05928D+00    |proj g|=  7.29688D-04\n",
      "\n",
      "At iterate  135    f=  4.05927D+00    |proj g|=  2.29568D-03\n",
      "\n",
      "At iterate  140    f=  4.05925D+00    |proj g|=  6.12908D-04\n",
      "\n",
      "At iterate  145    f=  4.05923D+00    |proj g|=  3.93133D-04\n",
      "\n",
      "At iterate  150    f=  4.05922D+00    |proj g|=  3.80910D-04\n",
      "\n",
      "At iterate  155    f=  4.05922D+00    |proj g|=  6.03596D-04\n",
      "\n",
      "At iterate  160    f=  4.05921D+00    |proj g|=  1.38324D-03\n",
      "\n",
      "At iterate  165    f=  4.05919D+00    |proj g|=  1.65543D-04\n",
      "\n",
      "At iterate  170    f=  4.05919D+00    |proj g|=  5.27087D-04\n",
      "\n",
      "At iterate  175    f=  4.05919D+00    |proj g|=  1.03683D-03\n",
      "\n",
      "At iterate  180    f=  4.05918D+00    |proj g|=  2.84518D-04\n",
      "\n",
      "At iterate  185    f=  4.05917D+00    |proj g|=  1.50234D-03\n",
      "\n",
      "At iterate  190    f=  4.05916D+00    |proj g|=  6.85746D-04\n",
      "\n",
      "At iterate  195    f=  4.05916D+00    |proj g|=  1.10931D-03\n",
      "\n",
      "At iterate  200    f=  4.05915D+00    |proj g|=  7.37228D-04\n",
      "\n",
      "At iterate  205    f=  4.05915D+00    |proj g|=  2.38253D-04\n",
      "\n",
      "At iterate  210    f=  4.05915D+00    |proj g|=  2.48906D-04\n",
      "\n",
      "At iterate  215    f=  4.05914D+00    |proj g|=  2.69497D-04\n",
      "\n",
      "At iterate  220    f=  4.05914D+00    |proj g|=  5.17228D-04\n",
      "\n",
      "At iterate  225    f=  4.05914D+00    |proj g|=  1.68803D-04\n",
      "\n",
      "At iterate  230    f=  4.05914D+00    |proj g|=  2.63061D-04\n",
      "\n",
      "           * * *\n",
      "\n",
      "Tit   = total number of iterations\n",
      "Tnf   = total number of function evaluations\n",
      "Tnint = total number of segments explored during Cauchy searches\n",
      "Skip  = number of BFGS updates skipped\n",
      "Nact  = number of active bounds at final generalized Cauchy point\n",
      "Projg = norm of the final projected gradient\n",
      "F     = final function value\n",
      "\n",
      "           * * *\n",
      "\n",
      "   N    Tit     Tnf  Tnint  Skip  Nact     Projg        F\n",
      "   22    231    262      1     0     0   2.593D-04   4.059D+00\n",
      "  F =   4.0591371768901414     \n",
      "\n",
      "CONVERGENCE: REL_REDUCTION_OF_F_<=_FACTR*EPSMCH             \n"
     ]
    }
   ],
   "source": [
    "sj_order = (2, 1, 2) # Non-seasonal mid1 because differencing with order 1\n",
    "sj_seasonal_order = (1, 0, 1, 12) # Seasonal 12 for 12 months\n",
    "sj_sarimax_model = SARIMAX(sj_train_train_statsmodels.total_cases, \n",
    "                           order=sj_order,\n",
    "                           seasonal_order=sj_seasonal_order,\n",
    "                           exog=sj_train_train_statsmodels[sj_exogs])\n",
    "sj_sarimax_model_fit = sj_sarimax_model.fit(maxiter=400)"
   ]
  },
  {
   "cell_type": "code",
   "execution_count": 27,
   "id": "edd79ef8",
   "metadata": {
    "tags": []
   },
   "outputs": [
    {
     "name": "stdout",
     "output_type": "stream",
     "text": [
      "                                      SARIMAX Results                                       \n",
      "============================================================================================\n",
      "Dep. Variable:                          total_cases   No. Observations:                  690\n",
      "Model:             SARIMAX(2, 1, 2)x(1, 0, [1], 12)   Log Likelihood               -2800.805\n",
      "Date:                              Thu, 05 Aug 2021   AIC                           5645.609\n",
      "Time:                                      23:46:43   BIC                           5745.385\n",
      "Sample:                                           0   HQIC                          5684.207\n",
      "                                              - 690                                         \n",
      "Covariance Type:                                opg                                         \n",
      "==================================================================================================\n",
      "                                     coef    std err          z      P>|z|      [0.025      0.975]\n",
      "--------------------------------------------------------------------------------------------------\n",
      "station_avg_temp_c_lag8           -0.3832      1.936     -0.198      0.843      -4.178       3.412\n",
      "station_min_temp_c_lag8           -0.2983      1.003     -0.297      0.766      -2.265       1.668\n",
      "station_avg_temp_c_lag7            1.0358      1.819      0.569      0.569      -2.529       4.601\n",
      "station_min_temp_c_lag7            0.2545      1.295      0.196      0.844      -2.285       2.794\n",
      "station_min_temp_c_lag6            0.3215      1.060      0.303      0.762      -1.757       2.400\n",
      "station_avg_temp_c_lag6            0.4401      1.602      0.275      0.784      -2.699       3.579\n",
      "reanalysis_min_air_temp_c_lag8    -0.1318      1.408     -0.094      0.925      -2.890       2.627\n",
      "reanalysis_max_air_temp_c_lag8     0.2203      1.480      0.149      0.882      -2.681       3.122\n",
      "reanalysis_max_air_temp_c_lag7     1.3176      1.084      1.215      0.224      -0.807       3.442\n",
      "reanalysis_avg_temp_c_lag8        -1.2143      5.134     -0.237      0.813     -11.276       8.847\n",
      "transmission_probability_lag8  -3.857e+07   1.06e+04  -3646.874      0.000   -3.86e+07   -3.86e+07\n",
      "infection_probability_lag8      1.205e+08   1.32e+04   9147.878      0.000    1.21e+08    1.21e+08\n",
      "fecundity_lag8                  6.334e+05    127.835   4954.986      0.000    6.33e+05    6.34e+05\n",
      "mdr_lag8                       -9.303e+08   2520.632  -3.69e+05      0.000    -9.3e+08    -9.3e+08\n",
      "biting_rate_lag8                2.028e+08   1718.910   1.18e+05      0.000    2.03e+08    2.03e+08\n",
      "ar.L1                             -0.4203      0.117     -3.580      0.000      -0.650      -0.190\n",
      "ar.L2                             -0.5482      0.087     -6.323      0.000      -0.718      -0.378\n",
      "ma.L1                              0.5672      0.113      5.015      0.000       0.346       0.789\n",
      "ma.L2                              0.6714      0.081      8.329      0.000       0.513       0.829\n",
      "ar.S.L12                          -0.4716      0.350     -1.348      0.178      -1.157       0.214\n",
      "ma.S.L12                           0.3627      0.355      1.021      0.307      -0.333       1.059\n",
      "sigma2                           198.6544      5.644     35.197      0.000     187.592     209.717\n",
      "===================================================================================\n",
      "Ljung-Box (L1) (Q):                   0.11   Jarque-Bera (JB):              2523.85\n",
      "Prob(Q):                              0.74   Prob(JB):                         0.00\n",
      "Heteroskedasticity (H):               0.18   Skew:                            -0.37\n",
      "Prob(H) (two-sided):                  0.00   Kurtosis:                        12.35\n",
      "===================================================================================\n",
      "\n",
      "Warnings:\n",
      "[1] Covariance matrix calculated using the outer product of gradients (complex-step).\n",
      "[2] Covariance matrix is singular or near-singular, with condition number 1.96e+18. Standard errors may be unstable.\n"
     ]
    }
   ],
   "source": [
    "print(sj_sarimax_model_fit.summary())"
   ]
  },
  {
   "cell_type": "code",
   "execution_count": 35,
   "id": "5c6522fc",
   "metadata": {},
   "outputs": [],
   "source": [
    "sj_sarimax_model_pred = sj_sarimax_model_fit.forecast(len(sj_train_test_statsmodels.total_cases), exog=sj_train_test_statsmodels[sj_exogs])"
   ]
  },
  {
   "cell_type": "code",
   "execution_count": 36,
   "id": "2672faa6",
   "metadata": {},
   "outputs": [],
   "source": [
    "sj_sarimax_model_pred = pd.Series(sj_sarimax_model_pred) \n",
    "sj_sarimax_model_pred.index=sj_train_test.index "
   ]
  },
  {
   "cell_type": "code",
   "execution_count": 37,
   "id": "f85a96f2",
   "metadata": {},
   "outputs": [
    {
     "data": {
      "image/png": "[encoded data removed]",
      "text/plain": [
       "<Figure size 720x360 with 1 Axes>"
      ]
     },
     "metadata": {
      "needs_background": "light"
     },
     "output_type": "display_data"
    }
   ],
   "source": [
    "sj_train_test.total_cases.plot(legend=True)\n",
    "sj_sarimax_model_pred.plot(legend=True);"
   ]
  },
  {
   "cell_type": "code",
   "execution_count": 38,
   "id": "6c72c606",
   "metadata": {
    "tags": []
   },
   "outputs": [
    {
     "name": "stdout",
     "output_type": "stream",
     "text": [
      "--------------------\n",
      "RMSE: 26.22\n",
      "--------------------\n",
      "MAE: 19.51\n",
      "Explained variance: 0.208\n",
      "--------------------\n"
     ]
    }
   ],
   "source": [
    "model_classification(sj_train_test.total_cases, sj_sarimax_model_pred)"
   ]
  },
  {
   "cell_type": "markdown",
   "id": "7f896759",
   "metadata": {},
   "source": [
    "---\n",
    "## San Juan with scaled data"
   ]
  },
  {
   "cell_type": "code",
   "execution_count": 130,
   "id": "834839dc",
   "metadata": {},
   "outputs": [
    {
     "data": {
      "text/plain": [
       "station_avg_temp_c_lag8           0.354404\n",
       "station_min_temp_c_lag8           0.351633\n",
       "station_avg_temp_c_lag7           0.345911\n",
       "station_min_temp_c_lag7           0.345745\n",
       "station_min_temp_c_lag6           0.330478\n",
       "station_avg_temp_c_lag6           0.328557\n",
       "reanalysis_min_air_temp_c_lag8    0.315839\n",
       "reanalysis_max_air_temp_c_lag8    0.315635\n",
       "reanalysis_max_air_temp_c_lag7    0.315531\n",
       "reanalysis_avg_temp_c_lag8        0.314542\n",
       "transmission_probability_lag8     0.314373\n",
       "infection_probability_lag8        0.314246\n",
       "fecundity_lag8                    0.314227\n",
       "mdr_lag8                          0.314152\n",
       "biting_rate_lag8                  0.314092\n",
       "Name: total_cases, dtype: float64"
      ]
     },
     "execution_count": 130,
     "metadata": {},
     "output_type": "execute_result"
    }
   ],
   "source": [
    "corr_mat = sj_train_train_scaled.corr()\n",
    "cases_corr_list = (\n",
    "    corr_mat['total_cases']\n",
    "    .drop(['logged_cases', 'total_cases', 'month', 'weekofyear', 'year'], axis=0)\n",
    "    .abs()\n",
    "    .sort_values(ascending=False)\n",
    ")\n",
    "cases_corr_list[:15]"
   ]
  },
  {
   "cell_type": "code",
   "execution_count": 131,
   "id": "6a525284",
   "metadata": {},
   "outputs": [],
   "source": [
    "sj_exogs = cases_corr_list[:15].index.tolist()"
   ]
  },
  {
   "cell_type": "code",
   "execution_count": 132,
   "id": "5fdfb622",
   "metadata": {},
   "outputs": [],
   "source": [
    "sj_train_train_statsmodels = sj_train_train_scaled.reset_index(drop=True)\n",
    "sj_train_test_statsmodels = sj_train_test_scaled.reset_index(drop=True)"
   ]
  },
  {
   "cell_type": "code",
   "execution_count": 133,
   "id": "5d8acc05",
   "metadata": {},
   "outputs": [
    {
     "name": "stderr",
     "output_type": "stream",
     "text": [
      " This problem is unconstrained.\n"
     ]
    },
    {
     "name": "stdout",
     "output_type": "stream",
     "text": [
      "RUNNING THE L-BFGS-B CODE\n",
      "\n",
      "           * * *\n",
      "\n",
      "Machine precision = 2.220D-16\n",
      " N =           22     M =           10\n",
      "\n",
      "At X0         0 variables are exactly at the bounds\n",
      "\n",
      "At iterate    0    f=  4.06495D+00    |proj g|=  2.24009D-02\n",
      "\n",
      "At iterate    5    f=  4.06387D+00    |proj g|=  2.76893D-02\n",
      "\n",
      "At iterate   10    f=  4.06034D+00    |proj g|=  2.25855D-03\n",
      "\n",
      "At iterate   15    f=  4.05962D+00    |proj g|=  4.39276D-03\n",
      "\n",
      "At iterate   20    f=  4.05956D+00    |proj g|=  3.65880D-03\n",
      "\n",
      "At iterate   25    f=  4.05950D+00    |proj g|=  3.60597D-04\n",
      "\n",
      "At iterate   30    f=  4.05947D+00    |proj g|=  1.05580D-03\n",
      "\n",
      "At iterate   35    f=  4.05943D+00    |proj g|=  7.66212D-04\n",
      "\n",
      "At iterate   40    f=  4.05942D+00    |proj g|=  1.60841D-03\n",
      "\n",
      "At iterate   45    f=  4.05940D+00    |proj g|=  9.74553D-04\n",
      "\n",
      "At iterate   50    f=  4.05939D+00    |proj g|=  5.01546D-04\n",
      "\n",
      "At iterate   55    f=  4.05938D+00    |proj g|=  3.54969D-04\n",
      "\n",
      "At iterate   60    f=  4.05937D+00    |proj g|=  3.46387D-04\n",
      "\n",
      "At iterate   65    f=  4.05936D+00    |proj g|=  1.69955D-03\n",
      "\n",
      "At iterate   70    f=  4.05935D+00    |proj g|=  1.82199D-03\n",
      "\n",
      "At iterate   75    f=  4.05934D+00    |proj g|=  1.03794D-03\n",
      "\n",
      "At iterate   80    f=  4.05933D+00    |proj g|=  2.48504D-04\n",
      "\n",
      "At iterate   85    f=  4.05933D+00    |proj g|=  6.62420D-04\n",
      "\n",
      "At iterate   90    f=  4.05932D+00    |proj g|=  3.86146D-04\n",
      "\n",
      "At iterate   95    f=  4.05931D+00    |proj g|=  7.42610D-04\n",
      "\n",
      "At iterate  100    f=  4.05929D+00    |proj g|=  3.57851D-04\n",
      "\n",
      "At iterate  105    f=  4.05928D+00    |proj g|=  8.78267D-04\n",
      "\n",
      "At iterate  110    f=  4.05926D+00    |proj g|=  4.25730D-04\n",
      "\n",
      "At iterate  115    f=  4.05926D+00    |proj g|=  9.98089D-04\n",
      "\n",
      "At iterate  120    f=  4.05924D+00    |proj g|=  7.10298D-04\n",
      "\n",
      "At iterate  125    f=  4.05923D+00    |proj g|=  9.02052D-04\n",
      "\n",
      "At iterate  130    f=  4.05922D+00    |proj g|=  4.61648D-04\n",
      "\n",
      "At iterate  135    f=  4.05921D+00    |proj g|=  5.46188D-04\n",
      "\n",
      "At iterate  140    f=  4.05919D+00    |proj g|=  1.87310D-03\n",
      "\n",
      "At iterate  145    f=  4.05918D+00    |proj g|=  6.85938D-04\n",
      "\n",
      "At iterate  150    f=  4.05917D+00    |proj g|=  7.42642D-04\n",
      "\n",
      "At iterate  155    f=  4.05916D+00    |proj g|=  8.16873D-04\n",
      "\n",
      "At iterate  160    f=  4.05915D+00    |proj g|=  5.36228D-04\n",
      "\n",
      "At iterate  165    f=  4.05914D+00    |proj g|=  6.80008D-04\n",
      "\n",
      "At iterate  170    f=  4.05914D+00    |proj g|=  1.82217D-04\n",
      "\n",
      "At iterate  175    f=  4.05914D+00    |proj g|=  5.16143D-04\n",
      "\n",
      "At iterate  180    f=  4.05913D+00    |proj g|=  1.17497D-04\n",
      "\n",
      "At iterate  185    f=  4.05913D+00    |proj g|=  4.55410D-04\n",
      "\n",
      "At iterate  190    f=  4.05913D+00    |proj g|=  1.89271D-04\n",
      "\n",
      "At iterate  195    f=  4.05913D+00    |proj g|=  9.91913D-05\n",
      "\n",
      "At iterate  200    f=  4.05913D+00    |proj g|=  9.03597D-05\n",
      "\n",
      "           * * *\n",
      "\n",
      "Tit   = total number of iterations\n",
      "Tnf   = total number of function evaluations\n",
      "Tnint = total number of segments explored during Cauchy searches\n",
      "Skip  = number of BFGS updates skipped\n",
      "Nact  = number of active bounds at final generalized Cauchy point\n",
      "Projg = norm of the final projected gradient\n",
      "F     = final function value\n",
      "\n",
      "           * * *\n",
      "\n",
      "   N    Tit     Tnf  Tnint  Skip  Nact     Projg        F\n",
      "   22    201    232      1     0     0   1.881D-04   4.059D+00\n",
      "  F =   4.0591261352079790     \n",
      "\n",
      "CONVERGENCE: REL_REDUCTION_OF_F_<=_FACTR*EPSMCH             \n"
     ]
    }
   ],
   "source": [
    "sj_order = (2, 1, 2) # Non-seasonal mid1 because differencing with order 1\n",
    "sj_seasonal_order = (1, 0, 1, 12) # Seasonal 12 for 12 months\n",
    "sj_sarimax_model = SARIMAX(sj_train_train_statsmodels.total_cases, \n",
    "                           order=sj_order,\n",
    "                           seasonal_order=sj_seasonal_order,\n",
    "                           exog=sj_train_train_statsmodels[sj_exogs])\n",
    "sj_sarimax_model_fit = sj_sarimax_model.fit(maxiter=400)"
   ]
  },
  {
   "cell_type": "code",
   "execution_count": 134,
   "id": "a0832395",
   "metadata": {
    "tags": []
   },
   "outputs": [
    {
     "name": "stdout",
     "output_type": "stream",
     "text": [
      "                                      SARIMAX Results                                       \n",
      "============================================================================================\n",
      "Dep. Variable:                          total_cases   No. Observations:                  690\n",
      "Model:             SARIMAX(2, 1, 2)x(1, 0, [1], 12)   Log Likelihood               -2800.797\n",
      "Date:                              Fri, 06 Aug 2021   AIC                           5645.594\n",
      "Time:                                      00:15:44   BIC                           5745.369\n",
      "Sample:                                           0   HQIC                          5684.191\n",
      "                                              - 690                                         \n",
      "Covariance Type:                                opg                                         \n",
      "==================================================================================================\n",
      "                                     coef    std err          z      P>|z|      [0.025      0.975]\n",
      "--------------------------------------------------------------------------------------------------\n",
      "station_avg_temp_c_lag8           -0.4708      2.674     -0.176      0.860      -5.711       4.770\n",
      "station_min_temp_c_lag8           -0.4281      1.507     -0.284      0.776      -3.382       2.526\n",
      "station_avg_temp_c_lag7            1.4126      2.468      0.572      0.567      -3.424       6.250\n",
      "station_min_temp_c_lag7            0.4107      1.929      0.213      0.831      -3.370       4.191\n",
      "station_min_temp_c_lag6            0.5080      1.579      0.322      0.748      -2.587       3.603\n",
      "station_avg_temp_c_lag6            0.5950      2.172      0.274      0.784      -3.662       4.852\n",
      "reanalysis_min_air_temp_c_lag8    -0.1919      1.770     -0.108      0.914      -3.661       3.277\n",
      "reanalysis_max_air_temp_c_lag8     0.2576      1.752      0.147      0.883      -3.177       3.692\n",
      "reanalysis_max_air_temp_c_lag7     1.5536      1.284      1.210      0.226      -0.962       4.069\n",
      "reanalysis_avg_temp_c_lag8        -1.3604      5.890     -0.231      0.817     -12.904      10.184\n",
      "transmission_probability_lag8  -2.756e+06   9842.195   -280.042      0.000   -2.78e+06   -2.74e+06\n",
      "infection_probability_lag8      5.683e+06   1.07e+04    530.432      0.000    5.66e+06     5.7e+06\n",
      "fecundity_lag8                  3.583e+05   7072.134     50.664      0.000    3.44e+05    3.72e+05\n",
      "mdr_lag8                        -8.12e+06   2645.644  -3069.179      0.000   -8.13e+06   -8.11e+06\n",
      "biting_rate_lag8                4.835e+06   1.09e+04    445.642      0.000    4.81e+06    4.86e+06\n",
      "ar.L1                             -0.4198      0.118     -3.568      0.000      -0.650      -0.189\n",
      "ar.L2                             -0.5488      0.087     -6.298      0.000      -0.720      -0.378\n",
      "ma.L1                              0.5666      0.113      5.000      0.000       0.344       0.789\n",
      "ma.L2                              0.6720      0.081      8.288      0.000       0.513       0.831\n",
      "ar.S.L12                          -0.4685      0.351     -1.334      0.182      -1.157       0.220\n",
      "ma.S.L12                           0.3593      0.356      1.009      0.313      -0.339       1.058\n",
      "sigma2                           198.7034      5.656     35.132      0.000     187.618     209.789\n",
      "===================================================================================\n",
      "Ljung-Box (L1) (Q):                   0.11   Jarque-Bera (JB):              2525.50\n",
      "Prob(Q):                              0.74   Prob(JB):                         0.00\n",
      "Heteroskedasticity (H):               0.18   Skew:                            -0.37\n",
      "Prob(H) (two-sided):                  0.00   Kurtosis:                        12.35\n",
      "===================================================================================\n",
      "\n",
      "Warnings:\n",
      "[1] Covariance matrix calculated using the outer product of gradients (complex-step).\n",
      "[2] Covariance matrix is singular or near-singular, with condition number 1.62e+18. Standard errors may be unstable.\n"
     ]
    }
   ],
   "source": [
    "print(sj_sarimax_model_fit.summary())"
   ]
  },
  {
   "cell_type": "code",
   "execution_count": 135,
   "id": "3447e715",
   "metadata": {},
   "outputs": [],
   "source": [
    "sj_sarimax_model_pred = sj_sarimax_model_fit.forecast(len(sj_train_test_statsmodels.total_cases), exog=sj_train_test_statsmodels[sj_exogs])"
   ]
  },
  {
   "cell_type": "code",
   "execution_count": 136,
   "id": "fbdf16d6",
   "metadata": {},
   "outputs": [],
   "source": [
    "sj_sarimax_model_pred = pd.Series(sj_sarimax_model_pred) \n",
    "sj_sarimax_model_pred.index=sj_train_test.index "
   ]
  },
  {
   "cell_type": "code",
   "execution_count": 137,
   "id": "0f850b16",
   "metadata": {},
   "outputs": [
    {
     "data": {
      "image/png": "[encoded data removed]",
      "text/plain": [
       "<Figure size 720x360 with 1 Axes>"
      ]
     },
     "metadata": {
      "needs_background": "light"
     },
     "output_type": "display_data"
    }
   ],
   "source": [
    "sj_train_test.total_cases.plot(legend=True)\n",
    "sj_sarimax_model_pred.plot(legend=True);"
   ]
  },
  {
   "cell_type": "code",
   "execution_count": 138,
   "id": "f099d3e1",
   "metadata": {
    "tags": []
   },
   "outputs": [
    {
     "name": "stdout",
     "output_type": "stream",
     "text": [
      "--------------------\n",
      "RMSE: 26.18\n",
      "--------------------\n",
      "MAE: 19.43\n",
      "Explained variance: 0.209\n",
      "--------------------\n"
     ]
    }
   ],
   "source": [
    "model_classification(sj_train_test.total_cases, sj_sarimax_model_pred)"
   ]
  },
  {
   "cell_type": "markdown",
   "id": "ff11aa1e",
   "metadata": {},
   "source": [
    "---"
   ]
  },
  {
   "cell_type": "markdown",
   "id": "17747ae2",
   "metadata": {},
   "source": [
    "## San Juan - logged values and scaled"
   ]
  },
  {
   "cell_type": "code",
   "execution_count": 39,
   "id": "4922cfea",
   "metadata": {
    "tags": []
   },
   "outputs": [
    {
     "data": {
      "image/png": "[encoded data removed]",
      "text/plain": [
       "<Figure size 720x360 with 1 Axes>"
      ]
     },
     "metadata": {
      "needs_background": "light"
     },
     "output_type": "display_data"
    }
   ],
   "source": [
    "sj_train_train_diff = sj_train_train - sj_train_train.shift(1)\n",
    "sj_train_train_diff = sj_train_train_diff.dropna()\n",
    "\n",
    "sj_train_train_diff.logged_cases.plot();"
   ]
  },
  {
   "cell_type": "markdown",
   "id": "0af704d2",
   "metadata": {},
   "source": [
    "### ACF"
   ]
  },
  {
   "cell_type": "code",
   "execution_count": 40,
   "id": "e540be5c",
   "metadata": {},
   "outputs": [
    {
     "data": {
      "image/png": "[encoded data removed]",
      "text/plain": [
       "<Figure size 720x360 with 1 Axes>"
      ]
     },
     "metadata": {
      "needs_background": "light"
     },
     "output_type": "display_data"
    }
   ],
   "source": [
    "# Check the PACF for the optimal number of lags\n",
    "plot_acf(sj_train_train_diff.logged_cases, lags=30);"
   ]
  },
  {
   "cell_type": "markdown",
   "id": "d3bd7af4",
   "metadata": {},
   "source": [
    "### PCAF"
   ]
  },
  {
   "cell_type": "code",
   "execution_count": 41,
   "id": "f8923ae5",
   "metadata": {},
   "outputs": [
    {
     "data": {
      "image/png": "[encoded data removed]",
      "text/plain": [
       "<Figure size 720x360 with 1 Axes>"
      ]
     },
     "metadata": {
      "needs_background": "light"
     },
     "output_type": "display_data"
    }
   ],
   "source": [
    "# Check the PACF for the optimal number of lags\n",
    "plot_pacf(sj_train_train_diff.logged_cases, lags=30);"
   ]
  },
  {
   "cell_type": "code",
   "execution_count": 139,
   "id": "859fbcd3",
   "metadata": {},
   "outputs": [
    {
     "data": {
      "text/plain": [
       "reanalysis_specific_humidity_g_per_kg_lag8    0.502824\n",
       "reanalysis_dew_point_temp_c_lag8              0.500359\n",
       "reanalysis_specific_humidity_g_per_kg_lag7    0.480124\n",
       "reanalysis_dew_point_temp_c_lag7              0.476841\n",
       "station_avg_temp_c_lag8                       0.476745\n",
       "reanalysis_min_air_temp_c_lag8                0.469055\n",
       "station_min_temp_c_lag8                       0.464031\n",
       "fecundity_lag8                                0.462976\n",
       "reanalysis_max_air_temp_c_lag8                0.461717\n",
       "transmission_probability_lag8                 0.460771\n",
       "infection_probability_lag8                    0.460528\n",
       "mdr_lag8                                      0.459655\n",
       "biting_rate_lag8                              0.458917\n",
       "reanalysis_min_air_temp_c_lag7                0.457994\n",
       "pdr_lag8                                      0.457693\n",
       "Name: logged_cases, dtype: float64"
      ]
     },
     "execution_count": 139,
     "metadata": {},
     "output_type": "execute_result"
    }
   ],
   "source": [
    "corr_mat = sj_train_train_scaled.corr()\n",
    "cases_corr_list = (\n",
    "    corr_mat['logged_cases']\n",
    "    .drop(['logged_cases', 'total_cases', 'month', 'weekofyear', 'year'], axis=0)\n",
    "    .abs()\n",
    "    .sort_values(ascending=False)\n",
    ")\n",
    "cases_corr_list[:15]"
   ]
  },
  {
   "cell_type": "code",
   "execution_count": 140,
   "id": "66618758",
   "metadata": {},
   "outputs": [],
   "source": [
    "sj_exogs = cases_corr_list[:15].index.tolist()"
   ]
  },
  {
   "cell_type": "code",
   "execution_count": 141,
   "id": "6e786930",
   "metadata": {},
   "outputs": [
    {
     "ename": "IndentationError",
     "evalue": "unexpected indent (1711179502.py, line 2)",
     "output_type": "error",
     "traceback": [
      "\u001b[0;36m  File \u001b[0;32m\"/var/folders/7w/3wbnxyf13h1b69wdndtp0j180000gn/T/ipykernel_3709/1711179502.py\"\u001b[0;36m, line \u001b[0;32m2\u001b[0m\n\u001b[0;31m    'station_avg_temp_c_lag8',\u001b[0m\n\u001b[0m    ^\u001b[0m\n\u001b[0;31mIndentationError\u001b[0m\u001b[0;31m:\u001b[0m unexpected indent\n"
     ]
    }
   ],
   "source": [
    "#sj_exogs = [\n",
    "    'station_avg_temp_c_lag8',\n",
    "    'station_min_temp_c_lag8',\n",
    "    'station_avg_temp_c_lag7',\n",
    "    'station_min_temp_c_lag7',\n",
    "    'station_min_temp_c_lag6',\n",
    "    'station_avg_temp_c_lag6',\n",
    "    'reanalysis_min_air_temp_c_lag8',\n",
    "    'reanalysis_max_air_temp_c_lag8',\n",
    "    'reanalysis_max_air_temp_c_lag7',\n",
    "    'reanalysis_avg_temp_c_lag8',\n",
    "    'transmission_probability_lag8',\n",
    "    'infection_probability_lag8',\n",
    "    'fecundity_lag8',\n",
    "    'mdr_lag8',\n",
    "    'biting_rate_lag8'\n",
    "]"
   ]
  },
  {
   "cell_type": "code",
   "execution_count": 142,
   "id": "e76824e6",
   "metadata": {},
   "outputs": [],
   "source": [
    "sj_train_train_statsmodels = sj_train_train_scaled.reset_index(drop=True)\n",
    "sj_train_test_statsmodels = sj_train_test_scaled.reset_index(drop=True)"
   ]
  },
  {
   "cell_type": "code",
   "execution_count": 143,
   "id": "79358eb5",
   "metadata": {},
   "outputs": [
    {
     "name": "stdout",
     "output_type": "stream",
     "text": [
      "RUNNING THE L-BFGS-B CODE\n",
      "\n",
      "           * * *\n",
      "\n",
      "Machine precision = 2.220D-16\n",
      " N =           23     M =           10\n",
      "\n",
      "At X0         0 variables are exactly at the bounds\n",
      "\n",
      "At iterate    0    f=  3.73111D-01    |proj g|=  9.23628D-02\n"
     ]
    },
    {
     "name": "stderr",
     "output_type": "stream",
     "text": [
      " This problem is unconstrained.\n"
     ]
    },
    {
     "name": "stdout",
     "output_type": "stream",
     "text": [
      "\n",
      "At iterate    5    f=  3.69071D-01    |proj g|=  1.05474D-02\n",
      "\n",
      "At iterate   10    f=  3.68884D-01    |proj g|=  5.88504D-03\n",
      "\n",
      "At iterate   15    f=  3.68693D-01    |proj g|=  2.70259D-03\n",
      "\n",
      "At iterate   20    f=  3.68675D-01    |proj g|=  1.16050D-03\n",
      "\n",
      "At iterate   25    f=  3.68582D-01    |proj g|=  9.95149D-03\n",
      "\n",
      "At iterate   30    f=  3.68532D-01    |proj g|=  2.49426D-03\n",
      "\n",
      "At iterate   35    f=  3.68521D-01    |proj g|=  2.12301D-03\n",
      "\n",
      "At iterate   40    f=  3.68490D-01    |proj g|=  1.69411D-03\n",
      "\n",
      "At iterate   45    f=  3.68487D-01    |proj g|=  4.00443D-04\n",
      "\n",
      "At iterate   50    f=  3.68483D-01    |proj g|=  4.88040D-04\n",
      "\n",
      "At iterate   55    f=  3.68482D-01    |proj g|=  3.64283D-03\n",
      "\n",
      "At iterate   60    f=  3.68478D-01    |proj g|=  1.52975D-03\n",
      "\n",
      "At iterate   65    f=  3.68469D-01    |proj g|=  1.08628D-03\n",
      "\n",
      "At iterate   70    f=  3.68464D-01    |proj g|=  1.70999D-03\n",
      "\n",
      "At iterate   75    f=  3.68399D-01    |proj g|=  7.42073D-03\n",
      "\n",
      "At iterate   80    f=  3.68376D-01    |proj g|=  1.48776D-03\n",
      "\n",
      "At iterate   85    f=  3.68350D-01    |proj g|=  1.92178D-03\n",
      "\n",
      "At iterate   90    f=  3.68319D-01    |proj g|=  2.03315D-03\n",
      "\n",
      "At iterate   95    f=  3.68279D-01    |proj g|=  1.12275D-02\n",
      "\n",
      "At iterate  100    f=  3.68223D-01    |proj g|=  5.82861D-04\n",
      "\n",
      "At iterate  105    f=  3.68221D-01    |proj g|=  8.93073D-04\n",
      "\n",
      "At iterate  110    f=  3.68215D-01    |proj g|=  6.71449D-04\n",
      "\n",
      "At iterate  115    f=  3.68210D-01    |proj g|=  1.31161D-03\n",
      "\n",
      "At iterate  120    f=  3.68206D-01    |proj g|=  6.37291D-04\n",
      "\n",
      "At iterate  125    f=  3.68197D-01    |proj g|=  1.63311D-03\n",
      "\n",
      "At iterate  130    f=  3.68188D-01    |proj g|=  5.01629D-04\n",
      "\n",
      "At iterate  135    f=  3.68187D-01    |proj g|=  1.45268D-04\n",
      "\n",
      "At iterate  140    f=  3.68187D-01    |proj g|=  2.97661D-04\n",
      "\n",
      "At iterate  145    f=  3.68186D-01    |proj g|=  3.29508D-04\n",
      "\n",
      "At iterate  150    f=  3.68183D-01    |proj g|=  9.31625D-04\n",
      "\n",
      "At iterate  155    f=  3.68180D-01    |proj g|=  1.72200D-03\n",
      "\n",
      "At iterate  160    f=  3.68179D-01    |proj g|=  5.63433D-04\n",
      "\n",
      "At iterate  165    f=  3.68178D-01    |proj g|=  1.68544D-04\n",
      "\n",
      "At iterate  170    f=  3.68178D-01    |proj g|=  8.14407D-05\n",
      "\n",
      "At iterate  175    f=  3.68178D-01    |proj g|=  4.39523D-04\n",
      "\n",
      "At iterate  180    f=  3.68177D-01    |proj g|=  4.33104D-04\n",
      "\n",
      "At iterate  185    f=  3.68177D-01    |proj g|=  1.55425D-04\n",
      "\n",
      "At iterate  190    f=  3.68176D-01    |proj g|=  4.04175D-04\n",
      "\n",
      "At iterate  195    f=  3.68176D-01    |proj g|=  9.70302D-05\n",
      "\n",
      "At iterate  200    f=  3.68176D-01    |proj g|=  2.50351D-04\n",
      "\n",
      "At iterate  205    f=  3.68175D-01    |proj g|=  2.54368D-04\n",
      "\n",
      "At iterate  210    f=  3.68175D-01    |proj g|=  3.41284D-04\n",
      "\n",
      "At iterate  215    f=  3.68174D-01    |proj g|=  2.86933D-04\n",
      "\n",
      "At iterate  220    f=  3.68174D-01    |proj g|=  1.71979D-04\n",
      "\n",
      "At iterate  225    f=  3.68174D-01    |proj g|=  7.06911D-04\n",
      "\n",
      "At iterate  230    f=  3.68173D-01    |proj g|=  4.54571D-04\n",
      "\n",
      "At iterate  235    f=  3.68173D-01    |proj g|=  3.57485D-04\n",
      "\n",
      "At iterate  240    f=  3.68173D-01    |proj g|=  2.40590D-04\n",
      "\n",
      "At iterate  245    f=  3.68169D-01    |proj g|=  6.28156D-04\n",
      "\n",
      "At iterate  250    f=  3.68164D-01    |proj g|=  1.14006D-03\n",
      "\n",
      "At iterate  255    f=  3.68160D-01    |proj g|=  7.94187D-04\n",
      "\n",
      "At iterate  260    f=  3.68155D-01    |proj g|=  1.93011D-03\n",
      "\n",
      "At iterate  265    f=  3.68137D-01    |proj g|=  7.52431D-04\n",
      "\n",
      "At iterate  270    f=  3.68129D-01    |proj g|=  3.35607D-03\n",
      "\n",
      "At iterate  275    f=  3.68123D-01    |proj g|=  1.27875D-03\n",
      "\n",
      "At iterate  280    f=  3.68113D-01    |proj g|=  1.41364D-03\n",
      "\n",
      "At iterate  285    f=  3.68076D-01    |proj g|=  6.69160D-03\n",
      "\n",
      "At iterate  290    f=  3.68033D-01    |proj g|=  2.84828D-03\n",
      "\n",
      "At iterate  295    f=  3.68026D-01    |proj g|=  7.66398D-04\n",
      "\n",
      "At iterate  300    f=  3.68013D-01    |proj g|=  3.75945D-03\n",
      "\n",
      "At iterate  305    f=  3.67976D-01    |proj g|=  1.88580D-03\n",
      "\n",
      "At iterate  310    f=  3.67966D-01    |proj g|=  9.48751D-04\n",
      "\n",
      "At iterate  315    f=  3.67958D-01    |proj g|=  1.54280D-03\n",
      "\n",
      "At iterate  320    f=  3.67952D-01    |proj g|=  1.01664D-03\n",
      "\n",
      "At iterate  325    f=  3.67948D-01    |proj g|=  8.14396D-04\n",
      "\n",
      "At iterate  330    f=  3.67940D-01    |proj g|=  1.33190D-03\n",
      "\n",
      "At iterate  335    f=  3.67917D-01    |proj g|=  2.01318D-03\n",
      "\n",
      "At iterate  340    f=  3.67895D-01    |proj g|=  2.29451D-03\n",
      "\n",
      "At iterate  345    f=  3.67879D-01    |proj g|=  1.27263D-03\n",
      "\n",
      "At iterate  350    f=  3.67854D-01    |proj g|=  3.54190D-03\n",
      "\n",
      "At iterate  355    f=  3.67798D-01    |proj g|=  1.21217D-03\n",
      "\n",
      "At iterate  360    f=  3.67784D-01    |proj g|=  2.25383D-03\n",
      "\n",
      "At iterate  365    f=  3.67758D-01    |proj g|=  9.87536D-04\n",
      "\n",
      "At iterate  370    f=  3.67755D-01    |proj g|=  1.27705D-03\n",
      "\n",
      "At iterate  375    f=  3.67751D-01    |proj g|=  2.19532D-03\n",
      "\n",
      "At iterate  380    f=  3.67746D-01    |proj g|=  1.70166D-03\n",
      "\n",
      "At iterate  385    f=  3.67743D-01    |proj g|=  2.70690D-04\n",
      "\n",
      "At iterate  390    f=  3.67742D-01    |proj g|=  3.59262D-04\n",
      "\n",
      "At iterate  395    f=  3.67740D-01    |proj g|=  3.85842D-04\n"
     ]
    },
    {
     "name": "stderr",
     "output_type": "stream",
     "text": [
      "/Users/cramer/neuefische/DenguePred/.venv/lib/python3.8/site-packages/statsmodels/base/model.py:566: ConvergenceWarning: Maximum Likelihood optimization failed to converge. Check mle_retvals\n",
      "  warnings.warn(\"Maximum Likelihood optimization failed to \"\n"
     ]
    },
    {
     "name": "stdout",
     "output_type": "stream",
     "text": [
      "\n",
      "At iterate  400    f=  3.67739D-01    |proj g|=  3.80222D-04\n",
      "\n",
      "           * * *\n",
      "\n",
      "Tit   = total number of iterations\n",
      "Tnf   = total number of function evaluations\n",
      "Tnint = total number of segments explored during Cauchy searches\n",
      "Skip  = number of BFGS updates skipped\n",
      "Nact  = number of active bounds at final generalized Cauchy point\n",
      "Projg = norm of the final projected gradient\n",
      "F     = final function value\n",
      "\n",
      "           * * *\n",
      "\n",
      "   N    Tit     Tnf  Tnint  Skip  Nact     Projg        F\n",
      "   23    400    434      1     0     0   3.802D-04   3.677D-01\n",
      "  F =  0.36773886515794268     \n",
      "\n",
      "STOP: TOTAL NO. of ITERATIONS REACHED LIMIT                 \n"
     ]
    }
   ],
   "source": [
    "sj_order = (3, 1, 2) # Non-seasonal mid1 because differencing with order 1\n",
    "sj_seasonal_order = (1, 0, 1, 12) # Seasonal 12 for 12 months\n",
    "sj_sarimax_model = SARIMAX(sj_train_train_statsmodels.logged_cases, \n",
    "                           order=sj_order,\n",
    "                           seasonal_order=sj_seasonal_order,\n",
    "                           exog=sj_train_train_statsmodels[sj_exogs])\n",
    "sj_sarimax_model_fit = sj_sarimax_model.fit(maxiter=400)"
   ]
  },
  {
   "cell_type": "code",
   "execution_count": 144,
   "id": "173667b4",
   "metadata": {
    "tags": []
   },
   "outputs": [
    {
     "name": "stdout",
     "output_type": "stream",
     "text": [
      "                                      SARIMAX Results                                       \n",
      "============================================================================================\n",
      "Dep. Variable:                         logged_cases   No. Observations:                  690\n",
      "Model:             SARIMAX(3, 1, 2)x(1, 0, [1], 12)   Log Likelihood                -253.740\n",
      "Date:                              Fri, 06 Aug 2021   AIC                            553.480\n",
      "Time:                                      00:21:53   BIC                            657.790\n",
      "Sample:                                           0   HQIC                           593.831\n",
      "                                              - 690                                         \n",
      "Covariance Type:                                opg                                         \n",
      "==============================================================================================================\n",
      "                                                 coef    std err          z      P>|z|      [0.025      0.975]\n",
      "--------------------------------------------------------------------------------------------------------------\n",
      "reanalysis_specific_humidity_g_per_kg_lag8     0.1517      0.395      0.384      0.701      -0.622       0.925\n",
      "reanalysis_dew_point_temp_c_lag8              -0.0480      0.388     -0.124      0.901      -0.808       0.712\n",
      "reanalysis_specific_humidity_g_per_kg_lag7     1.0041      0.309      3.250      0.001       0.399       1.610\n",
      "reanalysis_dew_point_temp_c_lag7              -0.9684      0.297     -3.262      0.001      -1.550      -0.386\n",
      "station_avg_temp_c_lag8                       -0.0804      0.056     -1.431      0.152      -0.191       0.030\n",
      "reanalysis_min_air_temp_c_lag8                -0.0047      0.038     -0.123      0.902      -0.080       0.070\n",
      "station_min_temp_c_lag8                       -0.0253      0.032     -0.794      0.427      -0.088       0.037\n",
      "fecundity_lag8                             -9.356e+04   3143.169    -29.767      0.000   -9.97e+04   -8.74e+04\n",
      "reanalysis_max_air_temp_c_lag8                 0.0499      0.037      1.356      0.175      -0.022       0.122\n",
      "transmission_probability_lag8               7.805e+05   5876.056    132.828      0.000    7.69e+05    7.92e+05\n",
      "infection_probability_lag8                 -1.684e+06   9763.325   -172.441      0.000    -1.7e+06   -1.66e+06\n",
      "mdr_lag8                                    2.373e+06   4357.356    544.519      0.000    2.36e+06    2.38e+06\n",
      "biting_rate_lag8                           -1.348e+06   1.61e+04    -83.640      0.000   -1.38e+06   -1.32e+06\n",
      "reanalysis_min_air_temp_c_lag7                 0.1007      0.034      2.981      0.003       0.034       0.167\n",
      "pdr_lag8                                   -2.787e+04   7982.083     -3.491      0.000   -4.35e+04   -1.22e+04\n",
      "ar.L1                                         -0.7863      0.629     -1.251      0.211      -2.018       0.446\n",
      "ar.L2                                         -0.3045      0.158     -1.933      0.053      -0.613       0.004\n",
      "ar.L3                                         -0.1423      0.089     -1.595      0.111      -0.317       0.033\n",
      "ma.L1                                          0.3699      0.627      0.590      0.556      -0.860       1.600\n",
      "ma.L2                                         -0.1292      0.287     -0.450      0.653      -0.692       0.433\n",
      "ar.S.L12                                       0.2968      0.714      0.416      0.678      -1.102       1.695\n",
      "ma.S.L12                                      -0.3448      0.704     -0.490      0.624      -1.724       1.034\n",
      "sigma2                                         0.1222      0.006     21.113      0.000       0.111       0.134\n",
      "===================================================================================\n",
      "Ljung-Box (L1) (Q):                   0.00   Jarque-Bera (JB):                34.76\n",
      "Prob(Q):                              0.99   Prob(JB):                         0.00\n",
      "Heteroskedasticity (H):               2.34   Skew:                            -0.09\n",
      "Prob(H) (two-sided):                  0.00   Kurtosis:                         4.08\n",
      "===================================================================================\n",
      "\n",
      "Warnings:\n",
      "[1] Covariance matrix calculated using the outer product of gradients (complex-step).\n",
      "[2] Covariance matrix is singular or near-singular, with condition number 1.34e+17. Standard errors may be unstable.\n"
     ]
    }
   ],
   "source": [
    "print(sj_sarimax_model_fit.summary())"
   ]
  },
  {
   "cell_type": "code",
   "execution_count": 145,
   "id": "2446582a",
   "metadata": {},
   "outputs": [],
   "source": [
    "sj_sarimax_model_pred_log = sj_sarimax_model_fit.forecast(len(sj_train_test_statsmodels.logged_cases), exog=sj_train_test_statsmodels[sj_exogs])"
   ]
  },
  {
   "cell_type": "code",
   "execution_count": 146,
   "id": "badbc385",
   "metadata": {},
   "outputs": [],
   "source": [
    "sj_sarimax_model_pred = np.exp(sj_sarimax_model_pred_log)-1"
   ]
  },
  {
   "cell_type": "code",
   "execution_count": 147,
   "id": "e8f0f375",
   "metadata": {},
   "outputs": [],
   "source": [
    "sj_sarimax_model_pred = pd.Series(sj_sarimax_model_pred) \n",
    "sj_sarimax_model_pred.index=sj_train_test.index "
   ]
  },
  {
   "cell_type": "code",
   "execution_count": 148,
   "id": "b16c327c",
   "metadata": {},
   "outputs": [
    {
     "data": {
      "image/png": "[encoded data removed]",
      "text/plain": [
       "<Figure size 720x360 with 1 Axes>"
      ]
     },
     "metadata": {
      "needs_background": "light"
     },
     "output_type": "display_data"
    }
   ],
   "source": [
    "sj_train_test.total_cases.plot(legend=True)\n",
    "sj_sarimax_model_pred.plot(legend=True);"
   ]
  },
  {
   "cell_type": "code",
   "execution_count": 149,
   "id": "27b77bd9",
   "metadata": {
    "tags": []
   },
   "outputs": [
    {
     "name": "stdout",
     "output_type": "stream",
     "text": [
      "--------------------\n",
      "RMSE: 26.54\n",
      "--------------------\n",
      "MAE: 17.56\n",
      "Explained variance: 0.148\n",
      "--------------------\n"
     ]
    }
   ],
   "source": [
    "model_classification(sj_train_test.total_cases, sj_sarimax_model_pred)"
   ]
  },
  {
   "cell_type": "markdown",
   "id": "3c53bcd1",
   "metadata": {},
   "source": [
    "---\n",
    "# Iquitos"
   ]
  },
  {
   "cell_type": "code",
   "execution_count": 71,
   "id": "0950fb54",
   "metadata": {
    "tags": []
   },
   "outputs": [
    {
     "data": {
      "image/png": "[encoded data removed]",
      "text/plain": [
       "<Figure size 720x360 with 1 Axes>"
      ]
     },
     "metadata": {
      "needs_background": "light"
     },
     "output_type": "display_data"
    }
   ],
   "source": [
    "iq_train_train_diff = iq_train_train - iq_train_train.shift(1)\n",
    "iq_train_train_diff = iq_train_train_diff.dropna()\n",
    "\n",
    "iq_train_train_diff.total_cases.plot();"
   ]
  },
  {
   "cell_type": "markdown",
   "id": "96697835",
   "metadata": {},
   "source": [
    "### ACF"
   ]
  },
  {
   "cell_type": "code",
   "execution_count": 72,
   "id": "742141c0",
   "metadata": {},
   "outputs": [
    {
     "data": {
      "image/png": "[encoded data removed]",
      "text/plain": [
       "<Figure size 720x360 with 1 Axes>"
      ]
     },
     "metadata": {
      "needs_background": "light"
     },
     "output_type": "display_data"
    }
   ],
   "source": [
    "# Check the PACF for the optimal number of lags\n",
    "plot_acf(iq_train_train_diff.total_cases, lags=30);"
   ]
  },
  {
   "cell_type": "markdown",
   "id": "5c69b01f",
   "metadata": {},
   "source": [
    "### PCAF"
   ]
  },
  {
   "cell_type": "code",
   "execution_count": 73,
   "id": "52576bf7",
   "metadata": {},
   "outputs": [
    {
     "data": {
      "image/png": "[encoded data removed]",
      "text/plain": [
       "<Figure size 720x360 with 1 Axes>"
      ]
     },
     "metadata": {
      "needs_background": "light"
     },
     "output_type": "display_data"
    }
   ],
   "source": [
    "# Check the PACF for the optimal number of lags\n",
    "plot_pacf(iq_train_train_diff.total_cases, lags=30);"
   ]
  },
  {
   "cell_type": "code",
   "execution_count": null,
   "id": "160c26ae",
   "metadata": {},
   "outputs": [],
   "source": []
  },
  {
   "cell_type": "markdown",
   "id": "2936b843",
   "metadata": {},
   "source": [
    "## Selection of parameter"
   ]
  },
  {
   "cell_type": "code",
   "execution_count": 74,
   "id": "d28910a5",
   "metadata": {},
   "outputs": [
    {
     "data": {
      "text/plain": [
       "reanalysis_specific_humidity_g_per_kg_lag2    0.207099\n",
       "reanalysis_min_air_temp_c                     0.205019\n",
       "reanalysis_min_air_temp_c_lag2                0.199620\n",
       "reanalysis_specific_humidity_g_per_kg_lag1    0.199519\n",
       "reanalysis_dew_point_temp_c_lag2              0.199417\n",
       "reanalysis_dew_point_temp_c_lag1              0.193619\n",
       "fecundity_lag7                                0.189499\n",
       "fecundity_lag5                                0.187945\n",
       "reanalysis_specific_humidity_g_per_kg         0.187924\n",
       "transmission_probability_lag7                 0.187838\n",
       "infection_probability_lag7                    0.187705\n",
       "reanalysis_specific_humidity_g_per_kg_lag3    0.187383\n",
       "mdr_lag7                                      0.187075\n",
       "biting_rate_lag7                              0.186516\n",
       "transmission_probability_lag5                 0.185981\n",
       "Name: total_cases, dtype: float64"
      ]
     },
     "execution_count": 74,
     "metadata": {},
     "output_type": "execute_result"
    }
   ],
   "source": [
    "corr_mat = iq_train_train.corr()\n",
    "cases_corr_list = (\n",
    "    corr_mat['total_cases']\n",
    "    .drop(['logged_cases', 'total_cases', 'month', 'weekofyear', 'year'], axis=0)\n",
    "    .abs()\n",
    "    .sort_values(ascending=False)\n",
    ")\n",
    "cases_corr_list[:15]"
   ]
  },
  {
   "cell_type": "code",
   "execution_count": 75,
   "id": "da1f471e",
   "metadata": {},
   "outputs": [],
   "source": [
    "iq_exogs = cases_corr_list[:15].index.tolist()"
   ]
  },
  {
   "cell_type": "code",
   "execution_count": null,
   "id": "3f22afb6",
   "metadata": {},
   "outputs": [],
   "source": [
    "#iq_exogs = [\n",
    "    'reanalysis_specific_humidity_g_per_kg_lag2',\n",
    "    'reanalysis_min_air_temp_c',\n",
    "    'reanalysis_min_air_temp_c_lag2',\n",
    "    'reanalysis_specific_humidity_g_per_kg_lag1',\n",
    "    'reanalysis_dew_point_temp_c_lag2',\n",
    "    'reanalysis_dew_point_temp_c_lag1',\n",
    "    'fecundity_lag7',\n",
    "    'fecundity_lag5',\n",
    "    'reanalysis_specific_humidity_g_per_kg',\n",
    "    'transmission_probability_lag7',\n",
    "    'infection_probability_lag7',\n",
    "    'reanalysis_specific_humidity_g_per_kg_lag3',\n",
    "    'mdr_lag7',\n",
    "    'biting_rate_lag7',\n",
    "    'transmission_probability_lag5'\n",
    "]"
   ]
  },
  {
   "cell_type": "markdown",
   "id": "9262f6d0",
   "metadata": {},
   "source": [
    "---\n",
    "# Evaluation of right p and q"
   ]
  },
  {
   "cell_type": "markdown",
   "id": "7146822b",
   "metadata": {},
   "source": [
    "## Autoarima to check for different hyperparameters"
   ]
  },
  {
   "cell_type": "code",
   "execution_count": null,
   "id": "3ff9b65a",
   "metadata": {
    "tags": []
   },
   "outputs": [],
   "source": [
    "#auto_arima(y=iq_train_train['total_cases'], m=12, X=iq_train_train[iq_exogs], trace=True, n_jobs=-1, stepwise=False,\n",
    "#          max_p=6, max_d=4, max_q=6, \n",
    "#          max_P=6, max_D=4, max_Q=6)\n",
    "\n",
    "# always give the same output for both cities"
   ]
  },
  {
   "cell_type": "markdown",
   "id": "aaa7433c",
   "metadata": {},
   "source": [
    "---"
   ]
  },
  {
   "cell_type": "code",
   "execution_count": 76,
   "id": "89520531",
   "metadata": {},
   "outputs": [],
   "source": [
    "iq_train_train_statsmodels = iq_train_train.reset_index(drop=True)\n",
    "iq_train_test_statsmodels = iq_train_test.reset_index(drop=True)"
   ]
  },
  {
   "cell_type": "code",
   "execution_count": 80,
   "id": "b35ddcd6",
   "metadata": {},
   "outputs": [
    {
     "name": "stderr",
     "output_type": "stream",
     "text": [
      " This problem is unconstrained.\n"
     ]
    },
    {
     "name": "stdout",
     "output_type": "stream",
     "text": [
      "RUNNING THE L-BFGS-B CODE\n",
      "\n",
      "           * * *\n",
      "\n",
      "Machine precision = 2.220D-16\n",
      " N =           24     M =           10\n",
      "\n",
      "At X0         0 variables are exactly at the bounds\n",
      "\n",
      "At iterate    0    f=  3.48006D+00    |proj g|=  6.03853D-02\n",
      "\n",
      "At iterate    5    f=  3.47755D+00    |proj g|=  1.97030D-02\n",
      "\n",
      "At iterate   10    f=  3.47625D+00    |proj g|=  3.55579D-03\n",
      "\n",
      "At iterate   15    f=  3.47598D+00    |proj g|=  4.04694D-03\n",
      "\n",
      "At iterate   20    f=  3.47565D+00    |proj g|=  4.88516D-03\n",
      "\n",
      "At iterate   25    f=  3.47556D+00    |proj g|=  6.81014D-03\n",
      "\n",
      "At iterate   30    f=  3.47546D+00    |proj g|=  3.02028D-03\n",
      "\n",
      "At iterate   35    f=  3.47536D+00    |proj g|=  6.14255D-03\n",
      "\n",
      "At iterate   40    f=  3.47515D+00    |proj g|=  2.96856D-03\n",
      "\n",
      "At iterate   45    f=  3.47494D+00    |proj g|=  4.69814D-03\n",
      "\n",
      "At iterate   50    f=  3.47464D+00    |proj g|=  5.82041D-03\n",
      "\n",
      "At iterate   55    f=  3.47445D+00    |proj g|=  3.46885D-03\n",
      "\n",
      "At iterate   60    f=  3.47432D+00    |proj g|=  3.12187D-03\n",
      "\n",
      "At iterate   65    f=  3.47419D+00    |proj g|=  1.12554D-03\n",
      "\n",
      "At iterate   70    f=  3.47412D+00    |proj g|=  1.33711D-03\n",
      "\n",
      "At iterate   75    f=  3.47409D+00    |proj g|=  8.84863D-04\n",
      "\n",
      "At iterate   80    f=  3.47404D+00    |proj g|=  1.69535D-03\n",
      "\n",
      "At iterate   85    f=  3.47401D+00    |proj g|=  2.33105D-03\n",
      "\n",
      "At iterate   90    f=  3.47398D+00    |proj g|=  2.02259D-03\n",
      "\n",
      "At iterate   95    f=  3.47395D+00    |proj g|=  1.64075D-03\n",
      "\n",
      "At iterate  100    f=  3.47393D+00    |proj g|=  1.42391D-03\n",
      "\n",
      "At iterate  105    f=  3.47387D+00    |proj g|=  1.45491D-03\n",
      "\n",
      "At iterate  110    f=  3.47378D+00    |proj g|=  1.23094D-03\n",
      "\n",
      "At iterate  115    f=  3.47361D+00    |proj g|=  3.67825D-03\n",
      "\n",
      "At iterate  120    f=  3.47351D+00    |proj g|=  1.65898D-03\n",
      "\n",
      "At iterate  125    f=  3.47346D+00    |proj g|=  8.24357D-04\n",
      "\n",
      "At iterate  130    f=  3.47342D+00    |proj g|=  1.15329D-03\n",
      "\n",
      "At iterate  135    f=  3.47340D+00    |proj g|=  9.37767D-04\n",
      "\n",
      "At iterate  140    f=  3.47338D+00    |proj g|=  1.78451D-03\n",
      "\n",
      "At iterate  145    f=  3.47335D+00    |proj g|=  4.92974D-04\n",
      "\n",
      "At iterate  150    f=  3.47334D+00    |proj g|=  1.38992D-03\n",
      "\n",
      "At iterate  155    f=  3.47333D+00    |proj g|=  7.12235D-04\n",
      "\n",
      "At iterate  160    f=  3.47332D+00    |proj g|=  2.17482D-03\n",
      "\n",
      "At iterate  165    f=  3.47331D+00    |proj g|=  6.19884D-04\n",
      "\n",
      "At iterate  170    f=  3.47330D+00    |proj g|=  4.76873D-04\n",
      "\n",
      "At iterate  175    f=  3.47328D+00    |proj g|=  1.25299D-03\n",
      "\n",
      "At iterate  180    f=  3.47324D+00    |proj g|=  2.23727D-03\n",
      "\n",
      "At iterate  185    f=  3.47319D+00    |proj g|=  1.31423D-03\n",
      "\n",
      "At iterate  190    f=  3.47318D+00    |proj g|=  8.33709D-04\n",
      "\n",
      "At iterate  195    f=  3.47316D+00    |proj g|=  5.93706D-04\n",
      "\n",
      "At iterate  200    f=  3.47313D+00    |proj g|=  1.06967D-03\n",
      "\n",
      "At iterate  205    f=  3.47312D+00    |proj g|=  1.25550D-03\n",
      "\n",
      "At iterate  210    f=  3.47311D+00    |proj g|=  3.60522D-04\n",
      "\n",
      "At iterate  215    f=  3.47310D+00    |proj g|=  3.85191D-04\n",
      "\n",
      "At iterate  220    f=  3.47310D+00    |proj g|=  4.08840D-04\n",
      "\n",
      "At iterate  225    f=  3.47309D+00    |proj g|=  3.85911D-04\n",
      "\n",
      "At iterate  230    f=  3.47309D+00    |proj g|=  5.46281D-04\n",
      "\n",
      "At iterate  235    f=  3.47309D+00    |proj g|=  1.90332D-04\n",
      "\n",
      "At iterate  240    f=  3.47309D+00    |proj g|=  1.58985D-04\n",
      "\n",
      "At iterate  245    f=  3.47309D+00    |proj g|=  2.92496D-04\n",
      "\n",
      "At iterate  250    f=  3.47309D+00    |proj g|=  9.14265D-04\n",
      "\n",
      "At iterate  255    f=  3.47309D+00    |proj g|=  2.34169D-04\n",
      "\n",
      "At iterate  260    f=  3.47308D+00    |proj g|=  4.39980D-04\n",
      "\n",
      "At iterate  265    f=  3.47308D+00    |proj g|=  1.62728D-04\n",
      "\n",
      "At iterate  270    f=  3.47308D+00    |proj g|=  8.40064D-04\n",
      "\n",
      "At iterate  275    f=  3.47308D+00    |proj g|=  3.32337D-04\n",
      "\n",
      "At iterate  280    f=  3.47307D+00    |proj g|=  9.94602D-04\n",
      "\n",
      "At iterate  285    f=  3.47306D+00    |proj g|=  1.40514D-03\n",
      "\n",
      "At iterate  290    f=  3.47306D+00    |proj g|=  1.12343D-03\n",
      "\n",
      "At iterate  295    f=  3.47305D+00    |proj g|=  8.43145D-04\n",
      "\n",
      "At iterate  300    f=  3.47304D+00    |proj g|=  1.34219D-03\n",
      "\n",
      "At iterate  305    f=  3.47304D+00    |proj g|=  1.00135D-03\n",
      "\n",
      "At iterate  310    f=  3.47302D+00    |proj g|=  1.33505D-03\n",
      "\n",
      "At iterate  315    f=  3.47299D+00    |proj g|=  1.75243D-03\n",
      "\n",
      "At iterate  320    f=  3.47296D+00    |proj g|=  1.71152D-03\n",
      "\n",
      "At iterate  325    f=  3.47292D+00    |proj g|=  2.46476D-03\n",
      "\n",
      "At iterate  330    f=  3.47285D+00    |proj g|=  1.91062D-03\n",
      "\n",
      "At iterate  335    f=  3.47279D+00    |proj g|=  1.42094D-03\n",
      "\n",
      "At iterate  340    f=  3.47273D+00    |proj g|=  4.11884D-03\n",
      "\n",
      "At iterate  345    f=  3.47260D+00    |proj g|=  2.74148D-03\n",
      "\n",
      "At iterate  350    f=  3.47252D+00    |proj g|=  1.88121D-03\n",
      "\n",
      "At iterate  355    f=  3.47236D+00    |proj g|=  1.18013D-03\n",
      "\n",
      "At iterate  360    f=  3.47216D+00    |proj g|=  6.04407D-03\n",
      "\n",
      "At iterate  365    f=  3.47204D+00    |proj g|=  2.90077D-03\n",
      "\n",
      "At iterate  370    f=  3.47196D+00    |proj g|=  2.85160D-03\n",
      "\n",
      "At iterate  375    f=  3.47187D+00    |proj g|=  4.81514D-03\n",
      "\n",
      "At iterate  380    f=  3.47177D+00    |proj g|=  3.62247D-03\n",
      "\n",
      "At iterate  385    f=  3.47168D+00    |proj g|=  1.16774D-03\n",
      "\n",
      "At iterate  390    f=  3.47162D+00    |proj g|=  4.06184D-03\n",
      "\n",
      "At iterate  395    f=  3.47150D+00    |proj g|=  2.98227D-03\n",
      "\n",
      "At iterate  400    f=  3.47144D+00    |proj g|=  3.43387D-03\n",
      "\n",
      "           * * *\n",
      "\n",
      "Tit   = total number of iterations\n",
      "Tnf   = total number of function evaluations\n",
      "Tnint = total number of segments explored during Cauchy searches\n",
      "Skip  = number of BFGS updates skipped\n",
      "Nact  = number of active bounds at final generalized Cauchy point\n",
      "Projg = norm of the final projected gradient\n",
      "F     = final function value\n",
      "\n",
      "           * * *\n",
      "\n",
      "   N    Tit     Tnf  Tnint  Skip  Nact     Projg        F\n",
      "   24    400    456      1     0     0   3.434D-03   3.471D+00\n",
      "  F =   3.4714356199970147     \n",
      "\n",
      "STOP: TOTAL NO. of ITERATIONS REACHED LIMIT                 \n"
     ]
    },
    {
     "name": "stderr",
     "output_type": "stream",
     "text": [
      "/Users/cramer/neuefische/DenguePred/.venv/lib/python3.8/site-packages/statsmodels/base/model.py:566: ConvergenceWarning: Maximum Likelihood optimization failed to converge. Check mle_retvals\n",
      "  warnings.warn(\"Maximum Likelihood optimization failed to \"\n"
     ]
    }
   ],
   "source": [
    "iq_order = (3, 0, 3) # Non-seasonal mid1 because differencing with order 1\n",
    "iq_seasonal_order = (1, 0, 1, 12) # Seasonal 12 for 12 months\n",
    "iq_sarimax_model = SARIMAX(iq_train_train_statsmodels.total_cases, \n",
    "                           order=iq_order,\n",
    "                           seasonal_order=iq_seasonal_order,\n",
    "                           exog=iq_train_train_statsmodels[iq_exogs])\n",
    "iq_sarimax_model_fit = iq_sarimax_model.fit(maxiter=400)"
   ]
  },
  {
   "cell_type": "code",
   "execution_count": 81,
   "id": "76c109d5",
   "metadata": {},
   "outputs": [
    {
     "name": "stdout",
     "output_type": "stream",
     "text": [
      "                                      SARIMAX Results                                       \n",
      "============================================================================================\n",
      "Dep. Variable:                          total_cases   No. Observations:                  319\n",
      "Model:             SARIMAX(3, 0, 3)x(1, 0, [1], 12)   Log Likelihood               -1107.388\n",
      "Date:                              Thu, 05 Aug 2021   AIC                           2262.776\n",
      "Time:                                      23:57:51   BIC                           2353.141\n",
      "Sample:                                           0   HQIC                          2298.864\n",
      "                                              - 319                                         \n",
      "Covariance Type:                                opg                                         \n",
      "==============================================================================================================\n",
      "                                                 coef    std err          z      P>|z|      [0.025      0.975]\n",
      "--------------------------------------------------------------------------------------------------------------\n",
      "reanalysis_specific_humidity_g_per_kg_lag2     4.9291      9.724      0.507      0.612     -14.130      23.988\n",
      "reanalysis_min_air_temp_c                      0.7163      0.613      1.168      0.243      -0.486       1.918\n",
      "reanalysis_min_air_temp_c_lag2                 0.1375      0.559      0.246      0.806      -0.958       1.233\n",
      "reanalysis_specific_humidity_g_per_kg_lag1     5.5169      8.332      0.662      0.508     -10.814      21.847\n",
      "reanalysis_dew_point_temp_c_lag2              -4.5346     10.060     -0.451      0.652     -24.252      15.183\n",
      "reanalysis_dew_point_temp_c_lag1              -5.3065      8.577     -0.619      0.536     -22.117      11.504\n",
      "fecundity_lag7                             -1.281e+06   1244.810  -1029.054      0.000   -1.28e+06   -1.28e+06\n",
      "fecundity_lag5                                11.5796     33.617      0.344      0.730     -54.308      77.467\n",
      "reanalysis_specific_humidity_g_per_kg         -0.9790      0.786     -1.245      0.213      -2.520       0.562\n",
      "transmission_probability_lag7               7.769e+07   8643.890   8987.580      0.000    7.77e+07    7.77e+07\n",
      "infection_probability_lag7                 -2.424e+08    2.9e+04  -8348.101      0.000   -2.42e+08   -2.42e+08\n",
      "reanalysis_specific_humidity_g_per_kg_lag3     0.7609      0.632      1.203      0.229      -0.478       2.000\n",
      "mdr_lag7                                    1.871e+09   7725.664   2.42e+05      0.000    1.87e+09    1.87e+09\n",
      "biting_rate_lag7                           -4.083e+08    5.1e+04  -8008.007      0.000   -4.08e+08   -4.08e+08\n",
      "transmission_probability_lag5                -84.9672    277.306     -0.306      0.759    -628.476     458.542\n",
      "ar.L1                                          0.5462      0.268      2.040      0.041       0.021       1.071\n",
      "ar.L2                                         -0.3902      0.278     -1.402      0.161      -0.936       0.155\n",
      "ar.L3                                          0.5106      0.123      4.141      0.000       0.269       0.752\n",
      "ma.L1                                          0.1287      0.276      0.466      0.641      -0.413       0.670\n",
      "ma.L2                                          0.2933      0.220      1.336      0.182      -0.137       0.724\n",
      "ma.L3                                         -0.1139      0.148     -0.767      0.443      -0.405       0.177\n",
      "ar.S.L12                                       0.8693      0.534      1.628      0.104      -0.177       1.916\n",
      "ma.S.L12                                      -0.8982      0.478     -1.879      0.060      -1.835       0.039\n",
      "sigma2                                        60.4085      3.158     19.129      0.000      54.219      66.598\n",
      "===================================================================================\n",
      "Ljung-Box (L1) (Q):                   0.00   Jarque-Bera (JB):              4657.36\n",
      "Prob(Q):                              0.98   Prob(JB):                         0.00\n",
      "Heteroskedasticity (H):               1.41   Skew:                             2.44\n",
      "Prob(H) (two-sided):                  0.08   Kurtosis:                        21.07\n",
      "===================================================================================\n",
      "\n",
      "Warnings:\n",
      "[1] Covariance matrix calculated using the outer product of gradients (complex-step).\n",
      "[2] Covariance matrix is singular or near-singular, with condition number 1.94e+17. Standard errors may be unstable.\n"
     ]
    }
   ],
   "source": [
    "print(iq_sarimax_model_fit.summary())"
   ]
  },
  {
   "cell_type": "code",
   "execution_count": 82,
   "id": "f2cfdc02",
   "metadata": {},
   "outputs": [],
   "source": [
    "iq_sarimax_model_pred = iq_sarimax_model_fit.forecast(len(iq_train_test_statsmodels.total_cases), exog=iq_train_test_statsmodels[iq_exogs])"
   ]
  },
  {
   "cell_type": "code",
   "execution_count": 83,
   "id": "496088d4",
   "metadata": {},
   "outputs": [],
   "source": [
    "iq_sarimax_model_pred = pd.Series(iq_sarimax_model_pred) \n",
    "iq_sarimax_model_pred.index=iq_train_test.index "
   ]
  },
  {
   "cell_type": "code",
   "execution_count": 84,
   "id": "4f63251b",
   "metadata": {},
   "outputs": [
    {
     "data": {
      "image/png": "[encoded data removed]",
      "text/plain": [
       "<Figure size 720x360 with 1 Axes>"
      ]
     },
     "metadata": {
      "needs_background": "light"
     },
     "output_type": "display_data"
    }
   ],
   "source": [
    "iq_train_test.total_cases.plot(legend=True)\n",
    "iq_sarimax_model_pred.plot(legend=True);"
   ]
  },
  {
   "cell_type": "code",
   "execution_count": 85,
   "id": "c3b1d8fc",
   "metadata": {},
   "outputs": [
    {
     "name": "stdout",
     "output_type": "stream",
     "text": [
      "--------------------\n",
      "RMSE: 11.51\n",
      "--------------------\n",
      "MAE: 7.43\n",
      "Explained variance: -0.041\n",
      "--------------------\n"
     ]
    }
   ],
   "source": [
    "model_classification(iq_train_test.total_cases, iq_sarimax_model_pred)"
   ]
  },
  {
   "cell_type": "markdown",
   "id": "8445a333",
   "metadata": {},
   "source": [
    "---\n",
    "# Iquitos - lagged and scaled"
   ]
  },
  {
   "cell_type": "code",
   "execution_count": 150,
   "id": "d88c834f",
   "metadata": {
    "tags": []
   },
   "outputs": [
    {
     "data": {
      "image/png": "[encoded data removed]",
      "text/plain": [
       "<Figure size 720x360 with 1 Axes>"
      ]
     },
     "metadata": {
      "needs_background": "light"
     },
     "output_type": "display_data"
    }
   ],
   "source": [
    "iq_train_train_diff = iq_train_train - iq_train_train.shift(1)\n",
    "iq_train_train_diff = iq_train_train_diff.dropna()\n",
    "\n",
    "iq_train_train_diff.total_cases.plot();"
   ]
  },
  {
   "cell_type": "markdown",
   "id": "2e4c9c1d",
   "metadata": {},
   "source": [
    "### ACF"
   ]
  },
  {
   "cell_type": "code",
   "execution_count": 151,
   "id": "a0b43637",
   "metadata": {},
   "outputs": [
    {
     "data": {
      "image/png": "[encoded data removed]",
      "text/plain": [
       "<Figure size 720x360 with 1 Axes>"
      ]
     },
     "metadata": {
      "needs_background": "light"
     },
     "output_type": "display_data"
    }
   ],
   "source": [
    "# Check the PACF for the optimal number of lags\n",
    "plot_acf(iq_train_train_diff.logged_cases, lags=30);"
   ]
  },
  {
   "cell_type": "markdown",
   "id": "2348088e",
   "metadata": {},
   "source": [
    "### PCAF"
   ]
  },
  {
   "cell_type": "code",
   "execution_count": 152,
   "id": "cf1c9ebe",
   "metadata": {},
   "outputs": [
    {
     "data": {
      "image/png": "[encoded data removed]",
      "text/plain": [
       "<Figure size 720x360 with 1 Axes>"
      ]
     },
     "metadata": {
      "needs_background": "light"
     },
     "output_type": "display_data"
    }
   ],
   "source": [
    "# Check the PACF for the optimal number of lags\n",
    "plot_pacf(iq_train_train_diff.logged_cases, lags=30);"
   ]
  },
  {
   "cell_type": "markdown",
   "id": "2075d893",
   "metadata": {},
   "source": [
    "## Selection of parameter"
   ]
  },
  {
   "cell_type": "code",
   "execution_count": 153,
   "id": "5c55b65e",
   "metadata": {},
   "outputs": [
    {
     "data": {
      "text/plain": [
       "reanalysis_specific_humidity_g_per_kg_lag3    0.272324\n",
       "reanalysis_dew_point_temp_c_lag3              0.266025\n",
       "reanalysis_min_air_temp_c_lag3                0.263004\n",
       "reanalysis_min_air_temp_c_lag5                0.251482\n",
       "reanalysis_min_air_temp_c_lag4                0.250022\n",
       "reanalysis_specific_humidity_g_per_kg_lag5    0.249386\n",
       "reanalysis_specific_humidity_g_per_kg_lag2    0.247081\n",
       "reanalysis_min_air_temp_c_lag2                0.245847\n",
       "reanalysis_specific_humidity_g_per_kg_lag1    0.245220\n",
       "reanalysis_dew_point_temp_c_lag5              0.245193\n",
       "reanalysis_dew_point_temp_c_lag1              0.240080\n",
       "reanalysis_dew_point_temp_c_lag2              0.239024\n",
       "reanalysis_specific_humidity_g_per_kg         0.234172\n",
       "reanalysis_min_air_temp_c_lag1                0.232481\n",
       "reanalysis_min_air_temp_c                     0.226011\n",
       "Name: logged_cases, dtype: float64"
      ]
     },
     "execution_count": 153,
     "metadata": {},
     "output_type": "execute_result"
    }
   ],
   "source": [
    "corr_mat = iq_train_train_scaled.corr()\n",
    "cases_corr_list = (\n",
    "    corr_mat['logged_cases']\n",
    "    .drop(['logged_cases', 'total_cases', 'month', 'weekofyear', 'year'], axis=0)\n",
    "    .abs()\n",
    "    .sort_values(ascending=False)\n",
    ")\n",
    "cases_corr_list[:15]"
   ]
  },
  {
   "cell_type": "code",
   "execution_count": 154,
   "id": "dba5398e",
   "metadata": {},
   "outputs": [],
   "source": [
    "iq_exogs = cases_corr_list[:15].index.tolist()"
   ]
  },
  {
   "cell_type": "code",
   "execution_count": 155,
   "id": "69bc64e2",
   "metadata": {},
   "outputs": [
    {
     "ename": "IndentationError",
     "evalue": "unexpected indent (479969529.py, line 2)",
     "output_type": "error",
     "traceback": [
      "\u001b[0;36m  File \u001b[0;32m\"/var/folders/7w/3wbnxyf13h1b69wdndtp0j180000gn/T/ipykernel_3709/479969529.py\"\u001b[0;36m, line \u001b[0;32m2\u001b[0m\n\u001b[0;31m    'reanalysis_specific_humidity_g_per_kg_lag2',\u001b[0m\n\u001b[0m    ^\u001b[0m\n\u001b[0;31mIndentationError\u001b[0m\u001b[0;31m:\u001b[0m unexpected indent\n"
     ]
    }
   ],
   "source": [
    "#iq_exogs = [\n",
    "    'reanalysis_specific_humidity_g_per_kg_lag2',\n",
    "    'reanalysis_min_air_temp_c',\n",
    "    'reanalysis_min_air_temp_c_lag2',\n",
    "    'reanalysis_specific_humidity_g_per_kg_lag1',\n",
    "    'reanalysis_dew_point_temp_c_lag2',\n",
    "    'reanalysis_dew_point_temp_c_lag1',\n",
    "    'fecundity_lag7',\n",
    "    'fecundity_lag5',\n",
    "    'reanalysis_specific_humidity_g_per_kg',\n",
    "    'transmission_probability_lag7',\n",
    "    'infection_probability_lag7',\n",
    "    'reanalysis_specific_humidity_g_per_kg_lag3',\n",
    "    'mdr_lag7',\n",
    "    'biting_rate_lag7',\n",
    "    'transmission_probability_lag5'\n",
    "]"
   ]
  },
  {
   "cell_type": "code",
   "execution_count": 157,
   "id": "284d7f7b",
   "metadata": {},
   "outputs": [],
   "source": [
    "iq_train_train_statsmodels = iq_train_train_scaled.reset_index(drop=True)\n",
    "iq_train_test_statsmodels = iq_train_test_scaled.reset_index(drop=True)"
   ]
  },
  {
   "cell_type": "code",
   "execution_count": 158,
   "id": "3bd6e9cc",
   "metadata": {},
   "outputs": [
    {
     "name": "stderr",
     "output_type": "stream",
     "text": [
      "/Users/cramer/neuefische/DenguePred/.venv/lib/python3.8/site-packages/statsmodels/tsa/statespace/sarimax.py:966: UserWarning: Non-stationary starting autoregressive parameters found. Using zeros as starting parameters.\n",
      "  warn('Non-stationary starting autoregressive parameters'\n",
      "/Users/cramer/neuefische/DenguePred/.venv/lib/python3.8/site-packages/statsmodels/tsa/statespace/sarimax.py:978: UserWarning: Non-invertible starting MA parameters found. Using zeros as starting parameters.\n",
      "  warn('Non-invertible starting MA parameters found.'\n",
      " This problem is unconstrained.\n"
     ]
    },
    {
     "name": "stdout",
     "output_type": "stream",
     "text": [
      "RUNNING THE L-BFGS-B CODE\n",
      "\n",
      "           * * *\n",
      "\n",
      "Machine precision = 2.220D-16\n",
      " N =           22     M =           10\n",
      "\n",
      "At X0         0 variables are exactly at the bounds\n",
      "\n",
      "At iterate    0    f=  1.00142D+00    |proj g|=  5.14263D-01\n",
      "\n",
      "At iterate    5    f=  8.74083D-01    |proj g|=  1.00860D-02\n",
      "\n",
      "At iterate   10    f=  8.73504D-01    |proj g|=  6.20840D-03\n",
      "\n",
      "At iterate   15    f=  8.73358D-01    |proj g|=  2.17217D-03\n",
      "\n",
      "At iterate   20    f=  8.72794D-01    |proj g|=  2.04853D-02\n",
      "\n",
      "At iterate   25    f=  8.72281D-01    |proj g|=  1.47652D-03\n",
      "\n",
      "At iterate   30    f=  8.72265D-01    |proj g|=  1.59090D-03\n",
      "\n",
      "At iterate   35    f=  8.72230D-01    |proj g|=  2.34311D-03\n",
      "\n",
      "At iterate   40    f=  8.72169D-01    |proj g|=  7.21710D-04\n",
      "\n",
      "At iterate   45    f=  8.72168D-01    |proj g|=  2.28650D-04\n",
      "\n",
      "At iterate   50    f=  8.72165D-01    |proj g|=  1.32401D-03\n",
      "\n",
      "At iterate   55    f=  8.72161D-01    |proj g|=  1.44705D-04\n",
      "\n",
      "At iterate   60    f=  8.72160D-01    |proj g|=  2.67753D-04\n",
      "\n",
      "At iterate   65    f=  8.72155D-01    |proj g|=  1.73795D-03\n",
      "\n",
      "At iterate   70    f=  8.72145D-01    |proj g|=  1.10074D-03\n",
      "\n",
      "At iterate   75    f=  8.72124D-01    |proj g|=  1.66487D-03\n",
      "\n",
      "At iterate   80    f=  8.72069D-01    |proj g|=  7.52523D-03\n",
      "\n",
      "At iterate   85    f=  8.71717D-01    |proj g|=  6.57044D-03\n",
      "\n",
      "At iterate   90    f=  8.68995D-01    |proj g|=  1.93867D-02\n",
      "\n",
      "At iterate   95    f=  8.65844D-01    |proj g|=  1.32600D-02\n",
      "\n",
      "At iterate  100    f=  8.64844D-01    |proj g|=  1.20444D-02\n",
      "\n",
      "At iterate  105    f=  8.63289D-01    |proj g|=  2.10060D-02\n",
      "\n",
      "At iterate  110    f=  8.61834D-01    |proj g|=  1.10980D-02\n",
      "\n",
      "At iterate  115    f=  8.61350D-01    |proj g|=  6.12119D-03\n",
      "\n",
      "At iterate  120    f=  8.61199D-01    |proj g|=  1.18157D-02\n",
      "\n",
      "At iterate  125    f=  8.60969D-01    |proj g|=  8.10648D-03\n",
      "\n",
      "At iterate  130    f=  8.60100D-01    |proj g|=  1.53688D-02\n",
      "\n",
      "At iterate  135    f=  8.59442D-01    |proj g|=  1.54765D-03\n",
      "\n",
      "At iterate  140    f=  8.59398D-01    |proj g|=  1.61467D-03\n",
      "\n",
      "At iterate  145    f=  8.59355D-01    |proj g|=  3.38519D-03\n",
      "\n",
      "At iterate  150    f=  8.59325D-01    |proj g|=  3.37501D-03\n",
      "\n",
      "At iterate  155    f=  8.59276D-01    |proj g|=  1.43272D-03\n",
      "\n",
      "At iterate  160    f=  8.59185D-01    |proj g|=  7.55934D-03\n",
      "\n",
      "At iterate  165    f=  8.58933D-01    |proj g|=  2.23021D-03\n",
      "\n",
      "At iterate  170    f=  8.58898D-01    |proj g|=  7.84141D-04\n",
      "\n",
      "At iterate  175    f=  8.58884D-01    |proj g|=  1.77684D-03\n",
      "\n",
      "At iterate  180    f=  8.58857D-01    |proj g|=  3.18448D-03\n",
      "\n",
      "At iterate  185    f=  8.58834D-01    |proj g|=  1.49626D-03\n",
      "\n",
      "At iterate  190    f=  8.58797D-01    |proj g|=  4.80823D-03\n",
      "\n",
      "At iterate  195    f=  8.58711D-01    |proj g|=  1.07892D-03\n",
      "\n",
      "At iterate  200    f=  8.58697D-01    |proj g|=  1.60994D-03\n",
      "\n",
      "At iterate  205    f=  8.58643D-01    |proj g|=  1.00511D-03\n",
      "\n",
      "At iterate  210    f=  8.58630D-01    |proj g|=  5.55303D-04\n",
      "\n",
      "At iterate  215    f=  8.58585D-01    |proj g|=  3.36608D-03\n",
      "\n",
      "At iterate  220    f=  8.58555D-01    |proj g|=  4.78560D-04\n",
      "\n",
      "At iterate  225    f=  8.58524D-01    |proj g|=  4.62246D-03\n",
      "\n",
      "At iterate  230    f=  8.58444D-01    |proj g|=  1.45018D-03\n",
      "\n",
      "At iterate  235    f=  8.58430D-01    |proj g|=  1.02238D-03\n",
      "\n",
      "At iterate  240    f=  8.58368D-01    |proj g|=  2.09601D-03\n",
      "\n",
      "At iterate  245    f=  8.58349D-01    |proj g|=  5.48935D-04\n",
      "\n",
      "At iterate  250    f=  8.58331D-01    |proj g|=  1.10671D-03\n",
      "\n",
      "At iterate  255    f=  8.58322D-01    |proj g|=  4.86850D-04\n",
      "\n",
      "At iterate  260    f=  8.58301D-01    |proj g|=  2.03007D-03\n",
      "\n",
      "At iterate  265    f=  8.58289D-01    |proj g|=  7.62811D-04\n",
      "\n",
      "At iterate  270    f=  8.58275D-01    |proj g|=  2.06460D-03\n",
      "\n",
      "At iterate  275    f=  8.58265D-01    |proj g|=  1.44649D-03\n",
      "\n",
      "At iterate  280    f=  8.58210D-01    |proj g|=  1.33864D-03\n",
      "\n",
      "At iterate  285    f=  8.58202D-01    |proj g|=  3.25976D-04\n",
      "\n",
      "At iterate  290    f=  8.58197D-01    |proj g|=  3.99715D-04\n",
      "\n",
      "At iterate  295    f=  8.58195D-01    |proj g|=  2.43493D-04\n",
      "\n",
      "At iterate  300    f=  8.58191D-01    |proj g|=  7.31357D-04\n",
      "\n",
      "At iterate  305    f=  8.58190D-01    |proj g|=  2.93386D-04\n",
      "\n",
      "At iterate  310    f=  8.58182D-01    |proj g|=  1.51142D-03\n",
      "\n",
      "At iterate  315    f=  8.58177D-01    |proj g|=  3.98212D-04\n",
      "\n",
      "At iterate  320    f=  8.58177D-01    |proj g|=  3.02406D-04\n",
      "\n",
      "At iterate  325    f=  8.58175D-01    |proj g|=  1.10163D-03\n",
      "\n",
      "At iterate  330    f=  8.58170D-01    |proj g|=  2.17356D-04\n",
      "\n",
      "At iterate  335    f=  8.58170D-01    |proj g|=  1.92925D-04\n",
      "\n",
      "At iterate  340    f=  8.58169D-01    |proj g|=  1.84523D-04\n",
      "\n",
      "At iterate  345    f=  8.58167D-01    |proj g|=  4.52706D-04\n",
      "\n",
      "At iterate  350    f=  8.58163D-01    |proj g|=  3.70570D-04\n",
      "\n",
      "At iterate  355    f=  8.58163D-01    |proj g|=  1.59718D-04\n",
      "\n",
      "At iterate  360    f=  8.58162D-01    |proj g|=  2.83843D-04\n",
      "\n",
      "At iterate  365    f=  8.58162D-01    |proj g|=  7.73551D-05\n",
      "\n",
      "At iterate  370    f=  8.58162D-01    |proj g|=  1.19362D-04\n",
      "\n",
      "At iterate  375    f=  8.58162D-01    |proj g|=  4.88579D-05\n",
      "\n",
      "At iterate  380    f=  8.58162D-01    |proj g|=  1.37612D-04\n",
      "\n",
      "At iterate  385    f=  8.58162D-01    |proj g|=  1.40388D-04\n",
      "\n",
      "At iterate  390    f=  8.58161D-01    |proj g|=  1.55524D-04\n",
      "\n",
      "           * * *\n",
      "\n",
      "Tit   = total number of iterations\n",
      "Tnf   = total number of function evaluations\n",
      "Tnint = total number of segments explored during Cauchy searches\n",
      "Skip  = number of BFGS updates skipped\n",
      "Nact  = number of active bounds at final generalized Cauchy point\n",
      "Projg = norm of the final projected gradient\n",
      "F     = final function value\n",
      "\n",
      "           * * *\n",
      "\n",
      "   N    Tit     Tnf  Tnint  Skip  Nact     Projg        F\n",
      "   22    394    422      1     0     0   2.104D-04   8.582D-01\n",
      "  F =  0.85816122798563488     \n",
      "\n",
      "CONVERGENCE: REL_REDUCTION_OF_F_<=_FACTR*EPSMCH             \n"
     ]
    }
   ],
   "source": [
    "iq_order = (2, 1, 2) # Non-seasonal mid1 because differencing with order 1\n",
    "iq_seasonal_order = (1, 0, 1, 12) # Seasonal 12 for 12 months\n",
    "iq_sarimax_model = SARIMAX(iq_train_train_statsmodels.logged_cases, \n",
    "                           order=iq_order,\n",
    "                           seasonal_order=iq_seasonal_order,\n",
    "                           exog=iq_train_train_statsmodels[iq_exogs])\n",
    "iq_sarimax_model_fit = iq_sarimax_model.fit(maxiter=400)"
   ]
  },
  {
   "cell_type": "code",
   "execution_count": 159,
   "id": "5e0b48bf",
   "metadata": {},
   "outputs": [
    {
     "name": "stdout",
     "output_type": "stream",
     "text": [
      "                                      SARIMAX Results                                       \n",
      "============================================================================================\n",
      "Dep. Variable:                         logged_cases   No. Observations:                  319\n",
      "Model:             SARIMAX(2, 1, 2)x(1, 0, [1], 12)   Log Likelihood                -273.753\n",
      "Date:                              Fri, 06 Aug 2021   AIC                            591.507\n",
      "Time:                                      00:24:12   BIC                            674.272\n",
      "Sample:                                           0   HQIC                           624.564\n",
      "                                              - 319                                         \n",
      "Covariance Type:                                opg                                         \n",
      "==============================================================================================================\n",
      "                                                 coef    std err          z      P>|z|      [0.025      0.975]\n",
      "--------------------------------------------------------------------------------------------------------------\n",
      "reanalysis_specific_humidity_g_per_kg_lag3     0.0047      0.619      0.008      0.994      -1.208       1.218\n",
      "reanalysis_dew_point_temp_c_lag3               0.0797      0.614      0.130      0.897      -1.125       1.284\n",
      "reanalysis_min_air_temp_c_lag3                 0.0419      0.054      0.783      0.434      -0.063       0.147\n",
      "reanalysis_min_air_temp_c_lag5                 0.0107      0.057      0.187      0.852      -0.102       0.123\n",
      "reanalysis_min_air_temp_c_lag4                 0.0326      0.046      0.702      0.483      -0.058       0.124\n",
      "reanalysis_specific_humidity_g_per_kg_lag5    -0.4698      0.647     -0.726      0.468      -1.738       0.798\n",
      "reanalysis_specific_humidity_g_per_kg_lag2     0.3788      0.597      0.634      0.526      -0.792       1.549\n",
      "reanalysis_min_air_temp_c_lag2                 0.0776      0.064      1.207      0.227      -0.048       0.204\n",
      "reanalysis_specific_humidity_g_per_kg_lag1    -1.0563      0.627     -1.686      0.092      -2.284       0.172\n",
      "reanalysis_dew_point_temp_c_lag5               0.5745      0.646      0.889      0.374      -0.692       1.841\n",
      "reanalysis_dew_point_temp_c_lag1               1.0311      0.613      1.681      0.093      -0.171       2.233\n",
      "reanalysis_dew_point_temp_c_lag2              -0.3885      0.591     -0.658      0.511      -1.546       0.769\n",
      "reanalysis_specific_humidity_g_per_kg         -0.0726      0.060     -1.220      0.223      -0.189       0.044\n",
      "reanalysis_min_air_temp_c_lag1                 0.0174      0.059      0.296      0.767      -0.098       0.132\n",
      "reanalysis_min_air_temp_c                      0.0617      0.058      1.058      0.290      -0.053       0.176\n",
      "ar.L1                                          0.7903      0.181      4.365      0.000       0.435       1.145\n",
      "ar.L2                                          0.1107      0.136      0.814      0.416      -0.156       0.377\n",
      "ma.L1                                         -1.3397      1.489     -0.900      0.368      -4.259       1.579\n",
      "ma.L2                                          0.3398      0.557      0.610      0.542      -0.752       1.432\n",
      "ar.S.L12                                      -0.4793      0.616     -0.778      0.436      -1.686       0.728\n",
      "ma.S.L12                                       0.5506      0.582      0.946      0.344      -0.590       1.691\n",
      "sigma2                                         0.3243      0.464      0.699      0.485      -0.586       1.234\n",
      "===================================================================================\n",
      "Ljung-Box (L1) (Q):                   0.00   Jarque-Bera (JB):                 1.79\n",
      "Prob(Q):                              0.95   Prob(JB):                         0.41\n",
      "Heteroskedasticity (H):               1.40   Skew:                            -0.14\n",
      "Prob(H) (two-sided):                  0.09   Kurtosis:                         3.25\n",
      "===================================================================================\n",
      "\n",
      "Warnings:\n",
      "[1] Covariance matrix calculated using the outer product of gradients (complex-step).\n"
     ]
    }
   ],
   "source": [
    "print(iq_sarimax_model_fit.summary())"
   ]
  },
  {
   "cell_type": "code",
   "execution_count": 160,
   "id": "7fcd2477",
   "metadata": {},
   "outputs": [],
   "source": [
    "iq_sarimax_model_pred_log = iq_sarimax_model_fit.forecast(len(iq_train_test_statsmodels.total_cases), exog=iq_train_test_statsmodels[iq_exogs])"
   ]
  },
  {
   "cell_type": "code",
   "execution_count": 161,
   "id": "932ea223",
   "metadata": {},
   "outputs": [],
   "source": [
    "iq_sarimax_model_pred = np.exp(iq_sarimax_model_pred_log)-1"
   ]
  },
  {
   "cell_type": "code",
   "execution_count": 162,
   "id": "f5665268",
   "metadata": {},
   "outputs": [],
   "source": [
    "iq_sarimax_model_pred = pd.Series(iq_sarimax_model_pred) \n",
    "iq_sarimax_model_pred.index=iq_train_test.index "
   ]
  },
  {
   "cell_type": "code",
   "execution_count": 163,
   "id": "600c92ca",
   "metadata": {},
   "outputs": [
    {
     "data": {
      "image/png": "[encoded data removed]",
      "text/plain": [
       "<Figure size 720x360 with 1 Axes>"
      ]
     },
     "metadata": {
      "needs_background": "light"
     },
     "output_type": "display_data"
    }
   ],
   "source": [
    "iq_train_test.total_cases.plot(legend=True)\n",
    "iq_sarimax_model_pred.plot(legend=True);"
   ]
  },
  {
   "cell_type": "code",
   "execution_count": 164,
   "id": "e39ad8c3",
   "metadata": {},
   "outputs": [
    {
     "name": "stdout",
     "output_type": "stream",
     "text": [
      "--------------------\n",
      "RMSE: 12.12\n",
      "--------------------\n",
      "MAE: 6.93\n",
      "Explained variance: -0.035\n",
      "--------------------\n"
     ]
    }
   ],
   "source": [
    "model_classification(iq_train_test.total_cases, iq_sarimax_model_pred)"
   ]
  },
  {
   "cell_type": "code",
   "execution_count": null,
   "id": "3c7784f4",
   "metadata": {},
   "outputs": [],
   "source": []
  }
 ],
 "metadata": {
  "kernelspec": {
   "display_name": "Python 3 (ipykernel)",
   "language": "python",
   "name": "python3"
  },
  "language_info": {
   "codemirror_mode": {
    "name": "ipython",
    "version": 3
   },
   "file_extension": ".py",
   "mimetype": "text/x-python",
   "name": "python",
   "nbconvert_exporter": "python",
   "pygments_lexer": "ipython3",
   "version": "3.8.5"
  }
 },
 "nbformat": 4,
 "nbformat_minor": 5
}
