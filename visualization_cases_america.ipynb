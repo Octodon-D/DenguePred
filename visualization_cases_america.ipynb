{
 "cells": [
  {
   "cell_type": "markdown",
   "id": "8791493c",
   "metadata": {},
   "source": [
    "# Dengue fever: Cases in America over time\n",
    "Data source: [PAHO (Pan American Health Organization - PLISA Health Information Plattform for the Americans)](https://www3.paho.org/data/index.php/en/mnu-topics/indicadores-dengue-en/dengue-nacional-en/254-dengue-incidencia-en.html)"
   ]
  },
  {
   "cell_type": "code",
   "execution_count": null,
   "id": "8af66e64",
   "metadata": {},
   "outputs": [],
   "source": [
    "# pip install geopandas\n",
    "# pip install libpysal\n",
    "# pip install mapclassify\n",
    "# pip install Pillow"
   ]
  },
  {
   "cell_type": "code",
   "execution_count": 1,
   "id": "aef804d6",
   "metadata": {
    "tags": []
   },
   "outputs": [],
   "source": [
    "# Main data packages\n",
    "import numpy as np\n",
    "import pandas as pd\n",
    "\n",
    "# Visualization libraries\n",
    "import matplotlib.pyplot as plt\n",
    "import seaborn as sns\n",
    "import geopandas as gpd\n",
    "import mapclassify\n",
    "from PIL import Image"
   ]
  },
  {
   "cell_type": "markdown",
   "id": "62bafd3b",
   "metadata": {},
   "source": [
    "### Preperation \n",
    "Load data, arrange and merge dataframes"
   ]
  },
  {
   "cell_type": "code",
   "execution_count": 2,
   "id": "5c38e083",
   "metadata": {},
   "outputs": [],
   "source": [
    "# import data\n",
    "cases_df = pd.read_csv('data/PAHO_cases_incidence.csv', sep=\";\")\n",
    "\n",
    "# prepare the world map\n",
    "world = gpd.read_file(gpd.datasets.get_path(\"naturalearth_lowres\"))"
   ]
  },
  {
   "cell_type": "code",
   "execution_count": 3,
   "id": "6a7fa6f3",
   "metadata": {},
   "outputs": [],
   "source": [
    "# set latitude and longitude values for both cities\n",
    "cities = pd.DataFrame.from_dict({'San Juan': [18.451667, -66.068889], \n",
    "                                 'Iquitos': [-3.755147, -73.249111]}, \n",
    "                                orient='index', columns=['latitude', 'longitude'])"
   ]
  },
  {
   "cell_type": "code",
   "execution_count": 4,
   "id": "7be04b14",
   "metadata": {},
   "outputs": [],
   "source": [
    "# convert column names to lower case\n",
    "cols = cases_df.columns.tolist()\n",
    "cols = [col.lower() for col in cols]\n",
    "cases_df.columns = cols\n",
    "\n",
    "# rename column names\n",
    "cases_df.rename(columns={'total casos de dengue': 'cases'}, inplace=True)\n",
    "\n",
    "# delete 'incidence per 100,000 pop.' as it is wrongly formated\n",
    "cases_df = cases_df.drop(['incidence per 100,000 pop.'], axis=1)\n",
    "\n",
    "# calculate incidence rate again (cases / 100.000 population)\n",
    "cases_df['incidence'] = cases_df['cases']/(cases_df['population']/100000)\n",
    "\n",
    "# replace certain country names in order to later match with world\n",
    "cases_df['country_en'].replace(to_replace='Dominican Republic', value='Dominican Rep.', inplace=True)\n",
    "cases_df['country_en'].replace(to_replace='French Guiana', value='Guyana', inplace=True)\n",
    "\n",
    "# merge cases_df with world to get geometry\n",
    "cases_df_world = cases_df.merge(world, how ='left', left_on='country_en', right_on='name')\n",
    "\n",
    "# drop rows in this dataframe which are not in the world map (does not have geometry)\n",
    "cases_df_world.dropna(subset=['geometry'], inplace=True)"
   ]
  },
  {
   "cell_type": "markdown",
   "id": "209d494d",
   "metadata": {},
   "source": [
    "### Generate figures\n",
    "Within a for-loop a plot is generated for each year"
   ]
  },
  {
   "cell_type": "code",
   "execution_count": 5,
   "id": "e692fafa",
   "metadata": {
    "tags": []
   },
   "outputs": [],
   "source": [
    "# get the years as ifentifier\n",
    "years = cases_df_world['year'].unique().tolist()\n",
    "\n",
    "# get empty list to store file names in\n",
    "files = []\n",
    "\n",
    "for year in years:\n",
    "    # subset dataframe for each year and convert it to geodataframe\n",
    "    df_plot = gpd.GeoDataFrame(cases_df_world[cases_df_world['year']==year])\n",
    "    \n",
    "    # create a figure\n",
    "    fig, ax = plt.subplots(figsize=(10,15))\n",
    "\n",
    "    # limit graph for america\n",
    "    plt.ylim(ymax = 70, ymin = -60)\n",
    "    plt.xlim(xmax = -33, xmin = -125)\n",
    "\n",
    "    # plot world as background (to have also countries without cases)\n",
    "    world.plot(color=\"lightgrey\", ax=ax)\n",
    "\n",
    "    # plot countries colored by the number of cases\n",
    "    df_plot.plot(column='incidence', ax=ax, cmap='Reds', scheme='user_defined', \n",
    "                 classification_kwds={'bins':[1, 50, 100, 250, 500, 1000, 8000]}, # define classes\n",
    "                 vmin=0, vmax=6, # to always have all classes used\n",
    "                 legend=True,\n",
    "                 legend_kwds={'title':'Incidence rate', \n",
    "                              'loc': 'lower left',\n",
    "                              'fontsize': 12, \n",
    "                              'title_fontsize': 14, \n",
    "                              'labels': ['0', '1 - 50', '50 - 100', '100 - 250', '250 - 500', '500 - 1000', '1000 - 8000']}); # new labels for classes\n",
    "\n",
    "    # add the two cities \n",
    "    cities.plot(x=\"longitude\", y=\"latitude\", kind=\"scatter\", ax=ax, color='blue', s=50);\n",
    "    for city in range(2):\n",
    "        ax.text(x=cities.longitude[city]+2.5, y=cities.latitude[city]-0.75, s=cities.index[city], fontsize=12, color='blue')\n",
    "\n",
    "    # add text with year \n",
    "    ax.text(x=-122.5, y=-32, s=f'{year}', fontsize=30);\n",
    "    # add text with definition of incidence rate\n",
    "    ax.text(x=-103, y=-58, s='Incidence rate = \\n Total dengue cases / 100,000 population', fontsize=12);\n",
    "\n",
    "    # prevent longitude and latitude axis\n",
    "    ax.axis('off');\n",
    "    \n",
    "    # prevent show figure in notebook\n",
    "    plt.close(fig)\n",
    "    \n",
    "    # get label to save and put it in list \n",
    "    file_name = 'plots/map_' + str(year) + '.png'\n",
    "    files.append(file_name)\n",
    "    \n",
    "    # save the plot\n",
    "    fig.savefig(file_name, dpi=100)"
   ]
  },
  {
   "cell_type": "markdown",
   "id": "a1fadf1d",
   "metadata": {},
   "source": [
    "### Save all figures in a GIF"
   ]
  },
  {
   "cell_type": "code",
   "execution_count": 6,
   "id": "e0d09432",
   "metadata": {},
   "outputs": [],
   "source": [
    "# https://pillow.readthedocs.io/en/stable/handbook/image-file-formats.html --> gif\n",
    "img, *imgs = [Image.open(f) for f in files]\n",
    "img.save(fp=\"plots/GIF_dengue_cases.gif\", format='GIF', append_images=imgs,\n",
    "         save_all=True, duration=500, loop=0)"
   ]
  }
 ],
 "metadata": {
  "kernelspec": {
   "display_name": "Python 3 (ipykernel)",
   "language": "python",
   "name": "python3"
  },
  "language_info": {
   "codemirror_mode": {
    "name": "ipython",
    "version": 3
   },
   "file_extension": ".py",
   "mimetype": "text/x-python",
   "name": "python",
   "nbconvert_exporter": "python",
   "pygments_lexer": "ipython3",
   "version": "3.8.5"
  }
 },
 "nbformat": 4,
 "nbformat_minor": 5
}
